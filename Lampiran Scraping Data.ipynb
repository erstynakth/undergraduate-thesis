{
 "cells": [
  {
   "cell_type": "code",
   "execution_count": 4,
   "id": "933903f0",
   "metadata": {},
   "outputs": [
    {
     "name": "stdout",
     "output_type": "stream",
     "text": [
      "Defaulting to user installation because normal site-packages is not writeable\n",
      "Collecting git+https://github.com/JustAnotherArchivist/snscrape.git\n",
      "  Cloning https://github.com/JustAnotherArchivist/snscrape.git to c:\\users\\asus\\appdata\\local\\temp\\pip-req-build-g7x_btug\n",
      "  Resolved https://github.com/JustAnotherArchivist/snscrape.git to commit 786815dd05681e2421cd03aa9acf5ab5c773bce9\n",
      "  Installing build dependencies: started\n",
      "  Installing build dependencies: finished with status 'done'\n",
      "  Getting requirements to build wheel: started\n",
      "  Getting requirements to build wheel: finished with status 'done'\n",
      "  Installing backend dependencies: started\n",
      "  Installing backend dependencies: finished with status 'done'\n",
      "    Preparing wheel metadata: started\n",
      "    Preparing wheel metadata: finished with status 'done'\n",
      "Requirement already satisfied: requests[socks] in c:\\programdata\\anaconda3\\lib\\site-packages (from snscrape==0.6.2.20230321.dev13+g786815d) (2.27.1)\n",
      "Requirement already satisfied: filelock in c:\\programdata\\anaconda3\\lib\\site-packages (from snscrape==0.6.2.20230321.dev13+g786815d) (3.6.0)\n",
      "Requirement already satisfied: beautifulsoup4 in c:\\programdata\\anaconda3\\lib\\site-packages (from snscrape==0.6.2.20230321.dev13+g786815d) (4.11.1)\n",
      "Requirement already satisfied: lxml in c:\\programdata\\anaconda3\\lib\\site-packages (from snscrape==0.6.2.20230321.dev13+g786815d) (4.8.0)\n",
      "Requirement already satisfied: soupsieve>1.2 in c:\\programdata\\anaconda3\\lib\\site-packages (from beautifulsoup4->snscrape==0.6.2.20230321.dev13+g786815d) (2.3.1)\n",
      "Requirement already satisfied: charset-normalizer~=2.0.0 in c:\\programdata\\anaconda3\\lib\\site-packages (from requests[socks]->snscrape==0.6.2.20230321.dev13+g786815d) (2.0.4)\n",
      "Requirement already satisfied: urllib3<1.27,>=1.21.1 in c:\\programdata\\anaconda3\\lib\\site-packages (from requests[socks]->snscrape==0.6.2.20230321.dev13+g786815d) (1.26.9)\n",
      "Requirement already satisfied: certifi>=2017.4.17 in c:\\programdata\\anaconda3\\lib\\site-packages (from requests[socks]->snscrape==0.6.2.20230321.dev13+g786815d) (2021.10.8)\n",
      "Requirement already satisfied: idna<4,>=2.5 in c:\\programdata\\anaconda3\\lib\\site-packages (from requests[socks]->snscrape==0.6.2.20230321.dev13+g786815d) (3.3)\n",
      "Requirement already satisfied: PySocks!=1.5.7,>=1.5.6 in c:\\programdata\\anaconda3\\lib\\site-packages (from requests[socks]->snscrape==0.6.2.20230321.dev13+g786815d) (1.7.1)\n",
      "Building wheels for collected packages: snscrape\n",
      "  Building wheel for snscrape (PEP 517): started\n",
      "  Building wheel for snscrape (PEP 517): finished with status 'done'\n",
      "  Created wheel for snscrape: filename=snscrape-0.6.2.20230321.dev13+g786815d-py3-none-any.whl size=73847 sha256=a982f4b9ff05f32a327afb7b4ca13b037ea5a0aabbb37bc4fca9c4a44425dc5b\n",
      "  Stored in directory: C:\\Users\\ASUS\\AppData\\Local\\Temp\\pip-ephem-wheel-cache-a0h1r4x1\\wheels\\1a\\ba\\e2\\39fa3a11802c4a622f2efc8be3f5ff854481051d0b4c95c1fd\n",
      "Successfully built snscrape\n",
      "Installing collected packages: snscrape\n",
      "  Attempting uninstall: snscrape\n",
      "    Found existing installation: snscrape 0.6.1.20230314\n",
      "    Uninstalling snscrape-0.6.1.20230314:\n",
      "      Successfully uninstalled snscrape-0.6.1.20230314\n",
      "Successfully installed snscrape-0.6.2.20230321.dev13+g786815d\n"
     ]
    },
    {
     "name": "stderr",
     "output_type": "stream",
     "text": [
      "  Running command git clone -q https://github.com/JustAnotherArchivist/snscrape.git 'C:\\Users\\ASUS\\AppData\\Local\\Temp\\pip-req-build-g7x_btug'\n",
      "  WARNING: The script snscrape.exe is installed in 'C:\\Users\\ASUS\\AppData\\Roaming\\Python\\Python39\\Scripts' which is not on PATH.\n",
      "  Consider adding this directory to PATH or, if you prefer to suppress this warning, use --no-warn-script-location.\n"
     ]
    }
   ],
   "source": [
    "!pip install --upgrade git+https://github.com/JustAnotherArchivist/snscrape.git"
   ]
  },
  {
   "cell_type": "code",
   "execution_count": 1,
   "id": "3477dd60",
   "metadata": {},
   "outputs": [],
   "source": [
    "# Import snscrape\n",
    "import snscrape.modules.twitter as sntwitter\n",
    "import pandas as pd"
   ]
  },
  {
   "cell_type": "code",
   "execution_count": 2,
   "id": "e6b6ea47",
   "metadata": {},
   "outputs": [],
   "source": [
    "msib = []"
   ]
  },
  {
   "cell_type": "code",
   "execution_count": 3,
   "id": "d8ce6202",
   "metadata": {},
   "outputs": [
    {
     "name": "stderr",
     "output_type": "stream",
     "text": [
      "C:\\Users\\ASUS\\AppData\\Local\\Temp\\ipykernel_5520\\3448128966.py:4: FutureWarning: content is deprecated, use rawContent instead\n",
      "  msib_list.append([tweet.date, tweet.id, tweet.content, tweet.user.username])\n"
     ]
    }
   ],
   "source": [
    "# Scraping data dengan kata kunci msib tahun 2021\n",
    "\n",
    "for i, tweet in enumerate(sntwitter.TwitterSearchScraper('msib since:2021-06-01 until:2021-12-31').get_items()):\n",
    "    if i>15000:\n",
    "        break\n",
    "    msib.append([tweet.date, tweet.id, tweet.content, tweet.user.username])"
   ]
  },
  {
   "cell_type": "code",
   "execution_count": 4,
   "id": "3a372f37",
   "metadata": {},
   "outputs": [],
   "source": [
    "msib_df = pd.DataFrame(msib_list, columns=['Datetime', 'TweetID', 'Text', 'Username'])"
   ]
  },
  {
   "cell_type": "code",
   "execution_count": 6,
   "id": "ce94cd2a",
   "metadata": {},
   "outputs": [],
   "source": [
    "msib_df.to_csv(\"F:\\Documents ASUS\\MATH\\#8\\S.MAT 2023\\Coba\\msib_df.csv\")"
   ]
  },
  {
   "cell_type": "code",
   "execution_count": 2,
   "id": "a4efc35b",
   "metadata": {},
   "outputs": [],
   "source": [
    "msib_list = []"
   ]
  },
  {
   "cell_type": "code",
   "execution_count": 3,
   "id": "ef7b6742",
   "metadata": {},
   "outputs": [
    {
     "name": "stderr",
     "output_type": "stream",
     "text": [
      "C:\\Users\\ASUS\\AppData\\Local\\Temp\\ipykernel_5520\\3448128966.py:4: FutureWarning: content is deprecated, use rawContent instead\n",
      "  msib_list.append([tweet.date, tweet.id, tweet.content, tweet.user.username])\n"
     ]
    }
   ],
   "source": [
    "# Scraping data dengan kata kunci msib tahun 2022\n",
    "\n",
    "for i, tweet in enumerate(sntwitter.TwitterSearchScraper('msib since:2022-01-01 until:2022-12-31').get_items()):\n",
    "    if i>15000:\n",
    "        break\n",
    "    msib_list.append([tweet.date, tweet.id, tweet.content, tweet.user.username])"
   ]
  },
  {
   "cell_type": "code",
   "execution_count": 4,
   "id": "1487ced9",
   "metadata": {},
   "outputs": [],
   "source": [
    "msib = pd.DataFrame(msib_list, columns=['Datetime', 'TweetID', 'Text', 'Username'])"
   ]
  },
  {
   "cell_type": "code",
   "execution_count": 5,
   "id": "8da3c243",
   "metadata": {},
   "outputs": [
    {
     "data": {
      "text/html": [
       "<div>\n",
       "<style scoped>\n",
       "    .dataframe tbody tr th:only-of-type {\n",
       "        vertical-align: middle;\n",
       "    }\n",
       "\n",
       "    .dataframe tbody tr th {\n",
       "        vertical-align: top;\n",
       "    }\n",
       "\n",
       "    .dataframe thead th {\n",
       "        text-align: right;\n",
       "    }\n",
       "</style>\n",
       "<table border=\"1\" class=\"dataframe\">\n",
       "  <thead>\n",
       "    <tr style=\"text-align: right;\">\n",
       "      <th></th>\n",
       "      <th>Datetime</th>\n",
       "      <th>TweetID</th>\n",
       "      <th>Text</th>\n",
       "      <th>Username</th>\n",
       "    </tr>\n",
       "  </thead>\n",
       "  <tbody>\n",
       "    <tr>\n",
       "      <th>0</th>\n",
       "      <td>2022-12-30 23:05:57+00:00</td>\n",
       "      <td>1608962625358147585</td>\n",
       "      <td>itungannya masih semt 3 tp nekat ikut msib. wm...</td>\n",
       "      <td>t____5____t</td>\n",
       "    </tr>\n",
       "    <tr>\n",
       "      <th>1</th>\n",
       "      <td>2022-12-30 22:00:58+00:00</td>\n",
       "      <td>1608946271389356032</td>\n",
       "      <td>@telurenak_ anjay nak msib.</td>\n",
       "      <td>haagwntus</td>\n",
       "    </tr>\n",
       "    <tr>\n",
       "      <th>2</th>\n",
       "      <td>2022-12-30 19:39:40+00:00</td>\n",
       "      <td>1608910710582697984</td>\n",
       "      <td>Merah Putih) dan sebagai mitra terfavorit kate...</td>\n",
       "      <td>BJKT1Terpercaya</td>\n",
       "    </tr>\n",
       "    <tr>\n",
       "      <th>3</th>\n",
       "      <td>2022-12-30 17:17:54+00:00</td>\n",
       "      <td>1608875035799990272</td>\n",
       "      <td>PANTESAN gaada lagi, mungkin perusahaan jg sam...</td>\n",
       "      <td>keshijae</td>\n",
       "    </tr>\n",
       "    <tr>\n",
       "      <th>4</th>\n",
       "      <td>2022-12-30 16:39:34+00:00</td>\n",
       "      <td>1608865387462168577</td>\n",
       "      <td>CV buat msib itu ats friendly atau yg menarik ...</td>\n",
       "      <td>gimyvngs</td>\n",
       "    </tr>\n",
       "    <tr>\n",
       "      <th>...</th>\n",
       "      <td>...</td>\n",
       "      <td>...</td>\n",
       "      <td>...</td>\n",
       "      <td>...</td>\n",
       "    </tr>\n",
       "    <tr>\n",
       "      <th>6085</th>\n",
       "      <td>2022-01-01 08:42:41+00:00</td>\n",
       "      <td>1477198582226640896</td>\n",
       "      <td>[cm] guys mau tanya. daftar MSIB itu 1 perusah...</td>\n",
       "      <td>collegemenfess</td>\n",
       "    </tr>\n",
       "    <tr>\n",
       "      <th>6086</th>\n",
       "      <td>2022-01-01 07:42:14+00:00</td>\n",
       "      <td>1477183369251213312</td>\n",
       "      <td>MSIB Tahap 2 Dibuka, Mahasiswa Vokasi Diimbau ...</td>\n",
       "      <td>penabicara17</td>\n",
       "    </tr>\n",
       "    <tr>\n",
       "      <th>6087</th>\n",
       "      <td>2022-01-01 06:27:03+00:00</td>\n",
       "      <td>1477164447164604419</td>\n",
       "      <td>MSIB Tahap 2 Dibuka Mahasiswa Vokasi Diminta M...</td>\n",
       "      <td>jurnascom</td>\n",
       "    </tr>\n",
       "    <tr>\n",
       "      <th>6088</th>\n",
       "      <td>2022-01-01 04:42:38+00:00</td>\n",
       "      <td>1477138171385114628</td>\n",
       "      <td>OH CERITANYA MSIB DI KERETA</td>\n",
       "      <td>ttanseulgi</td>\n",
       "    </tr>\n",
       "    <tr>\n",
       "      <th>6089</th>\n",
       "      <td>2022-01-01 03:43:31+00:00</td>\n",
       "      <td>1477123295476654080</td>\n",
       "      <td>MSIB Tahap 2 Dibuka, Mahasiswa Vokasi Diimbau ...</td>\n",
       "      <td>Nawacita_Post</td>\n",
       "    </tr>\n",
       "  </tbody>\n",
       "</table>\n",
       "<p>6090 rows × 4 columns</p>\n",
       "</div>"
      ],
      "text/plain": [
       "                      Datetime              TweetID  \\\n",
       "0    2022-12-30 23:05:57+00:00  1608962625358147585   \n",
       "1    2022-12-30 22:00:58+00:00  1608946271389356032   \n",
       "2    2022-12-30 19:39:40+00:00  1608910710582697984   \n",
       "3    2022-12-30 17:17:54+00:00  1608875035799990272   \n",
       "4    2022-12-30 16:39:34+00:00  1608865387462168577   \n",
       "...                        ...                  ...   \n",
       "6085 2022-01-01 08:42:41+00:00  1477198582226640896   \n",
       "6086 2022-01-01 07:42:14+00:00  1477183369251213312   \n",
       "6087 2022-01-01 06:27:03+00:00  1477164447164604419   \n",
       "6088 2022-01-01 04:42:38+00:00  1477138171385114628   \n",
       "6089 2022-01-01 03:43:31+00:00  1477123295476654080   \n",
       "\n",
       "                                                   Text         Username  \n",
       "0     itungannya masih semt 3 tp nekat ikut msib. wm...      t____5____t  \n",
       "1                           @telurenak_ anjay nak msib.        haagwntus  \n",
       "2     Merah Putih) dan sebagai mitra terfavorit kate...  BJKT1Terpercaya  \n",
       "3     PANTESAN gaada lagi, mungkin perusahaan jg sam...         keshijae  \n",
       "4     CV buat msib itu ats friendly atau yg menarik ...         gimyvngs  \n",
       "...                                                 ...              ...  \n",
       "6085  [cm] guys mau tanya. daftar MSIB itu 1 perusah...   collegemenfess  \n",
       "6086  MSIB Tahap 2 Dibuka, Mahasiswa Vokasi Diimbau ...     penabicara17  \n",
       "6087  MSIB Tahap 2 Dibuka Mahasiswa Vokasi Diminta M...        jurnascom  \n",
       "6088                        OH CERITANYA MSIB DI KERETA       ttanseulgi  \n",
       "6089  MSIB Tahap 2 Dibuka, Mahasiswa Vokasi Diimbau ...    Nawacita_Post  \n",
       "\n",
       "[6090 rows x 4 columns]"
      ]
     },
     "execution_count": 5,
     "metadata": {},
     "output_type": "execute_result"
    }
   ],
   "source": [
    "msib"
   ]
  },
  {
   "cell_type": "code",
   "execution_count": 6,
   "id": "2d036af8",
   "metadata": {},
   "outputs": [],
   "source": [
    "msib.to_csv(\"F:\\Documents ASUS\\MATH\\#8\\S.MAT 2023\\Coba\\msib.csv\")"
   ]
  },
  {
   "cell_type": "code",
   "execution_count": 2,
   "id": "a08988b1",
   "metadata": {},
   "outputs": [],
   "source": [
    "msib2023 = []"
   ]
  },
  {
   "cell_type": "code",
   "execution_count": 8,
   "id": "b07f5833",
   "metadata": {},
   "outputs": [
    {
     "name": "stderr",
     "output_type": "stream",
     "text": [
      "C:\\Users\\ASUS\\AppData\\Local\\Temp\\ipykernel_6404\\1090520039.py:4: FutureWarning: content is deprecated, use rawContent instead\n",
      "  msib2023.append([tweet.date, tweet.id, tweet.content, tweet.user.username])\n"
     ]
    }
   ],
   "source": [
    "# Scraping data dengan kata kunci msib tahun 2023\n",
    "\n",
    "for i, tweet in enumerate(sntwitter.TwitterSearchScraper('msib since:2023-01-01 until:2023-01-31').get_items()):\n",
    "    if i>15000:\n",
    "        break\n",
    "    msib2023.append([tweet.date, tweet.id, tweet.content, tweet.user.username])"
   ]
  },
  {
   "cell_type": "code",
   "execution_count": 9,
   "id": "62ddc5f5",
   "metadata": {},
   "outputs": [],
   "source": [
    "msib2023_df = pd.DataFrame(msib2023, columns=['Datetime', 'TweetID', 'Text', 'Username'])"
   ]
  },
  {
   "cell_type": "code",
   "execution_count": 10,
   "id": "a2a5da1c",
   "metadata": {},
   "outputs": [
    {
     "data": {
      "text/html": [
       "<div>\n",
       "<style scoped>\n",
       "    .dataframe tbody tr th:only-of-type {\n",
       "        vertical-align: middle;\n",
       "    }\n",
       "\n",
       "    .dataframe tbody tr th {\n",
       "        vertical-align: top;\n",
       "    }\n",
       "\n",
       "    .dataframe thead th {\n",
       "        text-align: right;\n",
       "    }\n",
       "</style>\n",
       "<table border=\"1\" class=\"dataframe\">\n",
       "  <thead>\n",
       "    <tr style=\"text-align: right;\">\n",
       "      <th></th>\n",
       "      <th>Datetime</th>\n",
       "      <th>TweetID</th>\n",
       "      <th>Text</th>\n",
       "      <th>Username</th>\n",
       "    </tr>\n",
       "  </thead>\n",
       "  <tbody>\n",
       "    <tr>\n",
       "      <th>0</th>\n",
       "      <td>2023-01-30 23:42:20+00:00</td>\n",
       "      <td>1620205804937949184</td>\n",
       "      <td>@xxxxxxxhah belommm</td>\n",
       "      <td>pixxieyoun</td>\n",
       "    </tr>\n",
       "    <tr>\n",
       "      <th>1</th>\n",
       "      <td>2023-01-30 23:41:55+00:00</td>\n",
       "      <td>1620205700839518208</td>\n",
       "      <td>[cm] ada ga sih yg lolos msib tanpa lampirin p...</td>\n",
       "      <td>collegemenfess</td>\n",
       "    </tr>\n",
       "    <tr>\n",
       "      <th>2</th>\n",
       "      <td>2023-01-30 23:04:48+00:00</td>\n",
       "      <td>1620196360783015936</td>\n",
       "      <td>Ada yg udh dapat email pengunduran jadwal surv...</td>\n",
       "      <td>xxxxxxxhah</td>\n",
       "    </tr>\n",
       "    <tr>\n",
       "      <th>3</th>\n",
       "      <td>2023-01-30 23:03:49+00:00</td>\n",
       "      <td>1620196112392159234</td>\n",
       "      <td>@Velvetocheese @collegemenfess Untuk msib tes ...</td>\n",
       "      <td>Yoo_wes1</td>\n",
       "    </tr>\n",
       "    <tr>\n",
       "      <th>4</th>\n",
       "      <td>2023-01-30 22:54:12+00:00</td>\n",
       "      <td>1620193691565690880</td>\n",
       "      <td>@lucyddreamis @HaniefBaihaqi @starshlpzwonjin ...</td>\n",
       "      <td>pixxieyoun</td>\n",
       "    </tr>\n",
       "    <tr>\n",
       "      <th>...</th>\n",
       "      <td>...</td>\n",
       "      <td>...</td>\n",
       "      <td>...</td>\n",
       "      <td>...</td>\n",
       "    </tr>\n",
       "    <tr>\n",
       "      <th>3833</th>\n",
       "      <td>2023-01-01 04:08:56+00:00</td>\n",
       "      <td>1609401261270630407</td>\n",
       "      <td>Tim ikut msib atau kuliah offline? -dips!</td>\n",
       "      <td>undipmenfess</td>\n",
       "    </tr>\n",
       "    <tr>\n",
       "      <th>3834</th>\n",
       "      <td>2023-01-01 02:59:29+00:00</td>\n",
       "      <td>1609383781596811264</td>\n",
       "      <td>[cm] haloo ada yg kemaren magang msib di petro...</td>\n",
       "      <td>collegemenfess</td>\n",
       "    </tr>\n",
       "    <tr>\n",
       "      <th>3835</th>\n",
       "      <td>2023-01-01 02:32:07+00:00</td>\n",
       "      <td>1609376895568875520</td>\n",
       "      <td>Semoga keterima MSIB 😔</td>\n",
       "      <td>pacarnya_baymax</td>\n",
       "    </tr>\n",
       "    <tr>\n",
       "      <th>3836</th>\n",
       "      <td>2023-01-01 02:31:45+00:00</td>\n",
       "      <td>1609376802795032577</td>\n",
       "      <td>2023 keterima KM, Sem 7 keterima MSIB aminn😭</td>\n",
       "      <td>pacarnya_baymax</td>\n",
       "    </tr>\n",
       "    <tr>\n",
       "      <th>3837</th>\n",
       "      <td>2023-01-01 01:37:35+00:00</td>\n",
       "      <td>1609363173676834826</td>\n",
       "      <td>@tanyakanrl mo ngeprint buat daftar msib</td>\n",
       "      <td>heyunah_</td>\n",
       "    </tr>\n",
       "  </tbody>\n",
       "</table>\n",
       "<p>3838 rows × 4 columns</p>\n",
       "</div>"
      ],
      "text/plain": [
       "                      Datetime              TweetID  \\\n",
       "0    2023-01-30 23:42:20+00:00  1620205804937949184   \n",
       "1    2023-01-30 23:41:55+00:00  1620205700839518208   \n",
       "2    2023-01-30 23:04:48+00:00  1620196360783015936   \n",
       "3    2023-01-30 23:03:49+00:00  1620196112392159234   \n",
       "4    2023-01-30 22:54:12+00:00  1620193691565690880   \n",
       "...                        ...                  ...   \n",
       "3833 2023-01-01 04:08:56+00:00  1609401261270630407   \n",
       "3834 2023-01-01 02:59:29+00:00  1609383781596811264   \n",
       "3835 2023-01-01 02:32:07+00:00  1609376895568875520   \n",
       "3836 2023-01-01 02:31:45+00:00  1609376802795032577   \n",
       "3837 2023-01-01 01:37:35+00:00  1609363173676834826   \n",
       "\n",
       "                                                   Text         Username  \n",
       "0                                   @xxxxxxxhah belommm       pixxieyoun  \n",
       "1     [cm] ada ga sih yg lolos msib tanpa lampirin p...   collegemenfess  \n",
       "2     Ada yg udh dapat email pengunduran jadwal surv...       xxxxxxxhah  \n",
       "3     @Velvetocheese @collegemenfess Untuk msib tes ...         Yoo_wes1  \n",
       "4     @lucyddreamis @HaniefBaihaqi @starshlpzwonjin ...       pixxieyoun  \n",
       "...                                                 ...              ...  \n",
       "3833          Tim ikut msib atau kuliah offline? -dips!     undipmenfess  \n",
       "3834  [cm] haloo ada yg kemaren magang msib di petro...   collegemenfess  \n",
       "3835                             Semoga keterima MSIB 😔  pacarnya_baymax  \n",
       "3836       2023 keterima KM, Sem 7 keterima MSIB aminn😭  pacarnya_baymax  \n",
       "3837           @tanyakanrl mo ngeprint buat daftar msib         heyunah_  \n",
       "\n",
       "[3838 rows x 4 columns]"
      ]
     },
     "execution_count": 10,
     "metadata": {},
     "output_type": "execute_result"
    }
   ],
   "source": [
    "msib2023_df"
   ]
  },
  {
   "cell_type": "code",
   "execution_count": 12,
   "id": "837d8eab",
   "metadata": {},
   "outputs": [],
   "source": [
    "msib2023_df.to_csv(\"F:\\Documents ASUS\\MATH\\#8\\S.MAT 2023\\Coba\\msib2023.csv\")"
   ]
  }
 ],
 "metadata": {
  "kernelspec": {
   "display_name": "Python 3 (ipykernel)",
   "language": "python",
   "name": "python3"
  },
  "language_info": {
   "codemirror_mode": {
    "name": "ipython",
    "version": 3
   },
   "file_extension": ".py",
   "mimetype": "text/x-python",
   "name": "python",
   "nbconvert_exporter": "python",
   "pygments_lexer": "ipython3",
   "version": "3.9.12"
  }
 },
 "nbformat": 4,
 "nbformat_minor": 5
}
