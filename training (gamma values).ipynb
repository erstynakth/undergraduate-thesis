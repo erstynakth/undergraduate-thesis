{
 "cells": [
  {
   "cell_type": "code",
   "execution_count": 9,
   "id": "a7a84e7b",
   "metadata": {},
   "outputs": [],
   "source": [
    "import pandas as pd\n",
    "import numpy as np\n",
    "import re\n",
    "import math\n",
    "import string\n",
    "import matplotlib.pyplot as plt\n",
    "import seaborn as sns\n",
    "\n",
    "from sklearn.feature_extraction.text import CountVectorizer, TfidfTransformer\n",
    "from sklearn.feature_extraction.text import TfidfVectorizer\n",
    "from sklearn.linear_model import LogisticRegression\n",
    "from sklearn.svm import SVC\n",
    "from sklearn.model_selection import train_test_split, StratifiedKFold, cross_val_score\n",
    "from sklearn.pipeline import make_pipeline, Pipeline\n",
    "from sklearn.model_selection import GridSearchCV\n",
    "from sklearn.metrics import make_scorer, accuracy_score, precision_score, f1_score, balanced_accuracy_score\n",
    "from sklearn.metrics import confusion_matrix, roc_auc_score, recall_score, precision_score, classification_report\n",
    "from nltk.tokenize import TweetTokenizer"
   ]
  },
  {
   "cell_type": "code",
   "execution_count": 10,
   "id": "03960948",
   "metadata": {},
   "outputs": [],
   "source": [
    "sample = pd.read_csv(r'C:\\Users\\ASUS\\skripsi\\sample_preprocessed.csv')"
   ]
  },
  {
   "cell_type": "code",
   "execution_count": 11,
   "id": "63105254",
   "metadata": {},
   "outputs": [
    {
     "data": {
      "text/html": [
       "<div>\n",
       "<style scoped>\n",
       "    .dataframe tbody tr th:only-of-type {\n",
       "        vertical-align: middle;\n",
       "    }\n",
       "\n",
       "    .dataframe tbody tr th {\n",
       "        vertical-align: top;\n",
       "    }\n",
       "\n",
       "    .dataframe thead th {\n",
       "        text-align: right;\n",
       "    }\n",
       "</style>\n",
       "<table border=\"1\" class=\"dataframe\">\n",
       "  <thead>\n",
       "    <tr style=\"text-align: right;\">\n",
       "      <th></th>\n",
       "      <th>Unnamed: 0</th>\n",
       "      <th>date</th>\n",
       "      <th>link</th>\n",
       "      <th>username</th>\n",
       "      <th>tweet</th>\n",
       "      <th>like</th>\n",
       "      <th>retweet</th>\n",
       "      <th>reply</th>\n",
       "      <th>qrt</th>\n",
       "      <th>Sentimen</th>\n",
       "      <th>cleansing</th>\n",
       "      <th>normalization</th>\n",
       "      <th>stemmed</th>\n",
       "      <th>tokenized</th>\n",
       "      <th>filtered</th>\n",
       "      <th>preprocessed</th>\n",
       "    </tr>\n",
       "  </thead>\n",
       "  <tbody>\n",
       "  </tbody>\n",
       "</table>\n",
       "</div>"
      ],
      "text/plain": [
       "Empty DataFrame\n",
       "Columns: [Unnamed: 0, date, link, username, tweet, like, retweet, reply, qrt, Sentimen, cleansing, normalization, stemmed, tokenized, filtered, preprocessed]\n",
       "Index: []"
      ]
     },
     "execution_count": 11,
     "metadata": {},
     "output_type": "execute_result"
    }
   ],
   "source": [
    "sample[sample['preprocessed'].isnull()]"
   ]
  },
  {
   "cell_type": "code",
   "execution_count": 12,
   "id": "6da73845",
   "metadata": {},
   "outputs": [],
   "source": [
    "sample['preprocessed'] = sample['preprocessed'].replace(np.nan, 'msib kerja rodi tidak layak')"
   ]
  },
  {
   "cell_type": "code",
   "execution_count": 13,
   "id": "df03b14e",
   "metadata": {},
   "outputs": [
    {
     "name": "stdout",
     "output_type": "stream",
     "text": [
      "<class 'pandas.core.frame.DataFrame'>\n",
      "RangeIndex: 1411 entries, 0 to 1410\n",
      "Data columns (total 16 columns):\n",
      " #   Column         Non-Null Count  Dtype \n",
      "---  ------         --------------  ----- \n",
      " 0   Unnamed: 0     1411 non-null   int64 \n",
      " 1   date           1411 non-null   object\n",
      " 2   link           1411 non-null   object\n",
      " 3   username       1411 non-null   object\n",
      " 4   tweet          1411 non-null   object\n",
      " 5   like           1411 non-null   int64 \n",
      " 6   retweet        1411 non-null   int64 \n",
      " 7   reply          1411 non-null   int64 \n",
      " 8   qrt            1411 non-null   int64 \n",
      " 9   Sentimen       1411 non-null   int64 \n",
      " 10  cleansing      1410 non-null   object\n",
      " 11  normalization  1410 non-null   object\n",
      " 12  stemmed        1410 non-null   object\n",
      " 13  tokenized      1411 non-null   object\n",
      " 14  filtered       1411 non-null   object\n",
      " 15  preprocessed   1411 non-null   object\n",
      "dtypes: int64(6), object(10)\n",
      "memory usage: 176.5+ KB\n"
     ]
    }
   ],
   "source": [
    "sample.info()"
   ]
  },
  {
   "cell_type": "code",
   "execution_count": 14,
   "id": "c314842a",
   "metadata": {},
   "outputs": [
    {
     "data": {
      "text/html": [
       "<div>\n",
       "<style scoped>\n",
       "    .dataframe tbody tr th:only-of-type {\n",
       "        vertical-align: middle;\n",
       "    }\n",
       "\n",
       "    .dataframe tbody tr th {\n",
       "        vertical-align: top;\n",
       "    }\n",
       "\n",
       "    .dataframe thead th {\n",
       "        text-align: right;\n",
       "    }\n",
       "</style>\n",
       "<table border=\"1\" class=\"dataframe\">\n",
       "  <thead>\n",
       "    <tr style=\"text-align: right;\">\n",
       "      <th></th>\n",
       "      <th>date</th>\n",
       "      <th>link</th>\n",
       "      <th>username</th>\n",
       "      <th>tweet</th>\n",
       "      <th>like</th>\n",
       "      <th>retweet</th>\n",
       "      <th>reply</th>\n",
       "      <th>qrt</th>\n",
       "      <th>Sentimen</th>\n",
       "      <th>cleansing</th>\n",
       "      <th>normalization</th>\n",
       "      <th>stemmed</th>\n",
       "      <th>tokenized</th>\n",
       "      <th>filtered</th>\n",
       "      <th>preprocessed</th>\n",
       "    </tr>\n",
       "  </thead>\n",
       "  <tbody>\n",
       "    <tr>\n",
       "      <th>0</th>\n",
       "      <td>2022-07-19 14:41:28</td>\n",
       "      <td>https://twitter.com/collegemenfess/status/1549...</td>\n",
       "      <td>collegemenfess</td>\n",
       "      <td>[cm] adakah kakak2 yg ikut msib angkatan sebel...</td>\n",
       "      <td>0</td>\n",
       "      <td>0</td>\n",
       "      <td>3</td>\n",
       "      <td>0</td>\n",
       "      <td>0</td>\n",
       "      <td>cm  adakah kakak  yg ikut msib angkatan sebelu...</td>\n",
       "      <td>cuma  adakah kakak  yang ikut msib angkatan se...</td>\n",
       "      <td>cuma ada kakak yang ikut msib angkat belum nya...</td>\n",
       "      <td>['cuma', 'ada', 'kakak', 'yang', 'ikut', 'msib...</td>\n",
       "      <td>['kakak', 'msib', 'angkat', 'magang', 'studi',...</td>\n",
       "      <td>kakak msib angkat magang studi independen tia ...</td>\n",
       "    </tr>\n",
       "    <tr>\n",
       "      <th>1</th>\n",
       "      <td>2023-01-09 12:58:17</td>\n",
       "      <td>https://twitter.com/unnesmenfess/status/161243...</td>\n",
       "      <td>unnesmenfess</td>\n",
       "      <td>-ness maaf mau tanya disini ada mahasiswa smst...</td>\n",
       "      <td>1</td>\n",
       "      <td>0</td>\n",
       "      <td>0</td>\n",
       "      <td>0</td>\n",
       "      <td>0</td>\n",
       "      <td>ness maaf mau tanya disini ada mahasiswa smstr...</td>\n",
       "      <td>nes maaf mau tanya disini ada mahasiswa smstr ...</td>\n",
       "      <td>nes maaf mau tanya sini ada mahasiswa smstr ya...</td>\n",
       "      <td>['nes', 'maaf', 'mau', 'tanya', 'sini', 'ada',...</td>\n",
       "      <td>['maaf', 'mahasiswa', 'smstr', 'msib']</td>\n",
       "      <td>maaf mahasiswa smstr msib</td>\n",
       "    </tr>\n",
       "    <tr>\n",
       "      <th>2</th>\n",
       "      <td>2022-07-20 02:12:31</td>\n",
       "      <td>https://twitter.com/YUPIEN_FESS/status/1549577...</td>\n",
       "      <td>YUPIEN_FESS</td>\n",
       "      <td>-upnjog masi bisa ga minta ttd untuk surat SPT...</td>\n",
       "      <td>0</td>\n",
       "      <td>0</td>\n",
       "      <td>1</td>\n",
       "      <td>0</td>\n",
       "      <td>0</td>\n",
       "      <td>upnjog masi bisa ga minta ttd untuk surat SPTJ...</td>\n",
       "      <td>upnjog masih bisa enggak meminta ttd untuk sur...</td>\n",
       "      <td>upnjog masih bisa enggak minta ttd untuk surat...</td>\n",
       "      <td>['upnjog', 'masih', 'bisa', 'enggak', 'minta',...</td>\n",
       "      <td>['ttd', 'surat', 'sptjm', 'msib']</td>\n",
       "      <td>ttd surat sptjm msib</td>\n",
       "    </tr>\n",
       "    <tr>\n",
       "      <th>3</th>\n",
       "      <td>2022-12-29 14:43:18</td>\n",
       "      <td>https://twitter.com/bapakkusungjin/status/1608...</td>\n",
       "      <td>bapakkusungjin</td>\n",
       "      <td>anjir kok bisa ini kaprodi gatau apa2 soal MSIB😭</td>\n",
       "      <td>0</td>\n",
       "      <td>0</td>\n",
       "      <td>0</td>\n",
       "      <td>0</td>\n",
       "      <td>-1</td>\n",
       "      <td>anjir kok bisa ini kaprodi gatau apa  soal MSI...</td>\n",
       "      <td>anjir kok bisa ini kaprodi enggak tau apa  soa...</td>\n",
       "      <td>anjir kok bisa ini kaprodi enggak tau apa soal...</td>\n",
       "      <td>['anjir', 'kok', 'bisa', 'ini', 'kaprodi', 'en...</td>\n",
       "      <td>['anjir', 'kaprodi', 'tau', 'msib', 'wajah', '...</td>\n",
       "      <td>anjir kaprodi tau msib wajah menang keras</td>\n",
       "    </tr>\n",
       "    <tr>\n",
       "      <th>4</th>\n",
       "      <td>2022-07-21 05:09:43</td>\n",
       "      <td>https://twitter.com/wonderkid911/status/154998...</td>\n",
       "      <td>wonderkid911</td>\n",
       "      <td>beberapa minggu lalu ada mahasiwa yang selalu ...</td>\n",
       "      <td>0</td>\n",
       "      <td>0</td>\n",
       "      <td>1</td>\n",
       "      <td>0</td>\n",
       "      <td>1</td>\n",
       "      <td>beberapa minggu lalu ada mahasiwa yang selalu ...</td>\n",
       "      <td>beberapa minggu lalu ada mahasiwa yang selalu ...</td>\n",
       "      <td>beberapa minggu lalu ada mahasiwa yang selalu ...</td>\n",
       "      <td>['beberapa', 'minggu', 'lalu', 'ada', 'mahasiw...</td>\n",
       "      <td>['minggu', 'mahasiwa', 'chat', 'konsultasi', '...</td>\n",
       "      <td>minggu mahasiwa chat konsultasi cv program msi...</td>\n",
       "    </tr>\n",
       "    <tr>\n",
       "      <th>...</th>\n",
       "      <td>...</td>\n",
       "      <td>...</td>\n",
       "      <td>...</td>\n",
       "      <td>...</td>\n",
       "      <td>...</td>\n",
       "      <td>...</td>\n",
       "      <td>...</td>\n",
       "      <td>...</td>\n",
       "      <td>...</td>\n",
       "      <td>...</td>\n",
       "      <td>...</td>\n",
       "      <td>...</td>\n",
       "      <td>...</td>\n",
       "      <td>...</td>\n",
       "      <td>...</td>\n",
       "    </tr>\n",
       "    <tr>\n",
       "      <th>1406</th>\n",
       "      <td>2022-09-15 17:17:58</td>\n",
       "      <td>https://twitter.com/saapraiiiabc/status/157046...</td>\n",
       "      <td>saapraiiiabc</td>\n",
       "      <td>intern di lembaga swasta fee nya ngalahin di M...</td>\n",
       "      <td>0</td>\n",
       "      <td>0</td>\n",
       "      <td>0</td>\n",
       "      <td>0</td>\n",
       "      <td>0</td>\n",
       "      <td>intern di lembaga swasta fee nya ngalahin di M...</td>\n",
       "      <td>intern di lembaga swasta fe nya mengalahkan di...</td>\n",
       "      <td>intern di lembaga swasta fe nya kalah di msib ...</td>\n",
       "      <td>['intern', 'di', 'lembaga', 'swasta', 'fe', 'n...</td>\n",
       "      <td>['intern', 'lembaga', 'swasta', 'fe', 'kalah',...</td>\n",
       "      <td>intern lembaga swasta fe kalah msib anjir cuma...</td>\n",
       "    </tr>\n",
       "    <tr>\n",
       "      <th>1407</th>\n",
       "      <td>2023-01-04 16:07:01</td>\n",
       "      <td>https://twitter.com/yenireca1/status/161066913...</td>\n",
       "      <td>yenireca1</td>\n",
       "      <td>daily report \\n4/01/2023\\n\\n1. bikin vision bo...</td>\n",
       "      <td>1</td>\n",
       "      <td>0</td>\n",
       "      <td>2</td>\n",
       "      <td>0</td>\n",
       "      <td>0</td>\n",
       "      <td>daily report              bikin vision board k...</td>\n",
       "      <td>daily report              bikin vision board k...</td>\n",
       "      <td>daily report bikin vision board dua siapin aff...</td>\n",
       "      <td>['daily', 'report', 'bikin', 'vision', 'board'...</td>\n",
       "      <td>['daily', 'report', 'bikin', 'vision', 'board'...</td>\n",
       "      <td>daily report bikin vision board siapin affilia...</td>\n",
       "    </tr>\n",
       "    <tr>\n",
       "      <th>1408</th>\n",
       "      <td>2022-12-18 01:44:50</td>\n",
       "      <td>https://twitter.com/ipb_menfess/status/1604291...</td>\n",
       "      <td>ipb_menfess</td>\n",
       "      <td>Punten yg daftar msib cv nya harus ats friendl...</td>\n",
       "      <td>0</td>\n",
       "      <td>0</td>\n",
       "      <td>1</td>\n",
       "      <td>0</td>\n",
       "      <td>0</td>\n",
       "      <td>Punten yg daftar msib cv nya harus ats friendl...</td>\n",
       "      <td>Punten yang daftar msib cv nya harus atas frie...</td>\n",
       "      <td>punten yang daftar msib cv nya harus atas frie...</td>\n",
       "      <td>['punten', 'yang', 'daftar', 'msib', 'cv', 'ny...</td>\n",
       "      <td>['punten', 'daftar', 'msib', 'cv', 'friendly']</td>\n",
       "      <td>punten daftar msib cv friendly</td>\n",
       "    </tr>\n",
       "    <tr>\n",
       "      <th>1409</th>\n",
       "      <td>2022-07-15 16:02:38</td>\n",
       "      <td>https://twitter.com/collegemenfess/status/1547...</td>\n",
       "      <td>collegemenfess</td>\n",
       "      <td>[cm] sender 3L, lemah letih lesu menanti feedb...</td>\n",
       "      <td>14</td>\n",
       "      <td>0</td>\n",
       "      <td>6</td>\n",
       "      <td>0</td>\n",
       "      <td>0</td>\n",
       "      <td>cm  sender  L  lemah letih lesu menanti feedba...</td>\n",
       "      <td>cuma  sender  L  lemah letih lesu menanti feed...</td>\n",
       "      <td>cuma sender l lemah letih lesu nanti feedback ...</td>\n",
       "      <td>['cuma', 'sender', 'l', 'lemah', 'letih', 'les...</td>\n",
       "      <td>['sender', 'l', 'lemah', 'letih', 'lesu', 'fee...</td>\n",
       "      <td>sender l lemah letih lesu feedback msib doain ...</td>\n",
       "    </tr>\n",
       "    <tr>\n",
       "      <th>1410</th>\n",
       "      <td>2023-01-07 17:36:03</td>\n",
       "      <td>https://twitter.com/telurenak_/status/16117787...</td>\n",
       "      <td>telurenak_</td>\n",
       "      <td>Momen gue di bully dari sd-sma ada aja wkwk ku...</td>\n",
       "      <td>0</td>\n",
       "      <td>0</td>\n",
       "      <td>0</td>\n",
       "      <td>0</td>\n",
       "      <td>1</td>\n",
       "      <td>Momen gue di bully dari sd sma ada aja wkwk ku...</td>\n",
       "      <td>Momen gue di bully dari sd sama ada saja wkwk ...</td>\n",
       "      <td>momen gue di bully dari sd sama ada saja wkwk ...</td>\n",
       "      <td>['momen', 'gue', 'di', 'bully', 'dari', 'sd', ...</td>\n",
       "      <td>['momen', 'gue', 'bully', 'sd', 'wkwk', 'kulia...</td>\n",
       "      <td>momen gue bully sd wkwk kuliah sepi banget gue...</td>\n",
       "    </tr>\n",
       "  </tbody>\n",
       "</table>\n",
       "<p>1411 rows × 15 columns</p>\n",
       "</div>"
      ],
      "text/plain": [
       "                     date                                               link  \\\n",
       "0     2022-07-19 14:41:28  https://twitter.com/collegemenfess/status/1549...   \n",
       "1     2023-01-09 12:58:17  https://twitter.com/unnesmenfess/status/161243...   \n",
       "2     2022-07-20 02:12:31  https://twitter.com/YUPIEN_FESS/status/1549577...   \n",
       "3     2022-12-29 14:43:18  https://twitter.com/bapakkusungjin/status/1608...   \n",
       "4     2022-07-21 05:09:43  https://twitter.com/wonderkid911/status/154998...   \n",
       "...                   ...                                                ...   \n",
       "1406  2022-09-15 17:17:58  https://twitter.com/saapraiiiabc/status/157046...   \n",
       "1407  2023-01-04 16:07:01  https://twitter.com/yenireca1/status/161066913...   \n",
       "1408  2022-12-18 01:44:50  https://twitter.com/ipb_menfess/status/1604291...   \n",
       "1409  2022-07-15 16:02:38  https://twitter.com/collegemenfess/status/1547...   \n",
       "1410  2023-01-07 17:36:03  https://twitter.com/telurenak_/status/16117787...   \n",
       "\n",
       "            username                                              tweet  like  \\\n",
       "0     collegemenfess  [cm] adakah kakak2 yg ikut msib angkatan sebel...     0   \n",
       "1       unnesmenfess  -ness maaf mau tanya disini ada mahasiswa smst...     1   \n",
       "2        YUPIEN_FESS  -upnjog masi bisa ga minta ttd untuk surat SPT...     0   \n",
       "3     bapakkusungjin   anjir kok bisa ini kaprodi gatau apa2 soal MSIB😭     0   \n",
       "4       wonderkid911  beberapa minggu lalu ada mahasiwa yang selalu ...     0   \n",
       "...              ...                                                ...   ...   \n",
       "1406    saapraiiiabc  intern di lembaga swasta fee nya ngalahin di M...     0   \n",
       "1407       yenireca1  daily report \\n4/01/2023\\n\\n1. bikin vision bo...     1   \n",
       "1408     ipb_menfess  Punten yg daftar msib cv nya harus ats friendl...     0   \n",
       "1409  collegemenfess  [cm] sender 3L, lemah letih lesu menanti feedb...    14   \n",
       "1410      telurenak_  Momen gue di bully dari sd-sma ada aja wkwk ku...     0   \n",
       "\n",
       "      retweet  reply  qrt  Sentimen  \\\n",
       "0           0      3    0         0   \n",
       "1           0      0    0         0   \n",
       "2           0      1    0         0   \n",
       "3           0      0    0        -1   \n",
       "4           0      1    0         1   \n",
       "...       ...    ...  ...       ...   \n",
       "1406        0      0    0         0   \n",
       "1407        0      2    0         0   \n",
       "1408        0      1    0         0   \n",
       "1409        0      6    0         0   \n",
       "1410        0      0    0         1   \n",
       "\n",
       "                                              cleansing  \\\n",
       "0     cm  adakah kakak  yg ikut msib angkatan sebelu...   \n",
       "1     ness maaf mau tanya disini ada mahasiswa smstr...   \n",
       "2     upnjog masi bisa ga minta ttd untuk surat SPTJ...   \n",
       "3     anjir kok bisa ini kaprodi gatau apa  soal MSI...   \n",
       "4     beberapa minggu lalu ada mahasiwa yang selalu ...   \n",
       "...                                                 ...   \n",
       "1406  intern di lembaga swasta fee nya ngalahin di M...   \n",
       "1407  daily report              bikin vision board k...   \n",
       "1408  Punten yg daftar msib cv nya harus ats friendl...   \n",
       "1409  cm  sender  L  lemah letih lesu menanti feedba...   \n",
       "1410  Momen gue di bully dari sd sma ada aja wkwk ku...   \n",
       "\n",
       "                                          normalization  \\\n",
       "0     cuma  adakah kakak  yang ikut msib angkatan se...   \n",
       "1     nes maaf mau tanya disini ada mahasiswa smstr ...   \n",
       "2     upnjog masih bisa enggak meminta ttd untuk sur...   \n",
       "3     anjir kok bisa ini kaprodi enggak tau apa  soa...   \n",
       "4     beberapa minggu lalu ada mahasiwa yang selalu ...   \n",
       "...                                                 ...   \n",
       "1406  intern di lembaga swasta fe nya mengalahkan di...   \n",
       "1407  daily report              bikin vision board k...   \n",
       "1408  Punten yang daftar msib cv nya harus atas frie...   \n",
       "1409  cuma  sender  L  lemah letih lesu menanti feed...   \n",
       "1410  Momen gue di bully dari sd sama ada saja wkwk ...   \n",
       "\n",
       "                                                stemmed  \\\n",
       "0     cuma ada kakak yang ikut msib angkat belum nya...   \n",
       "1     nes maaf mau tanya sini ada mahasiswa smstr ya...   \n",
       "2     upnjog masih bisa enggak minta ttd untuk surat...   \n",
       "3     anjir kok bisa ini kaprodi enggak tau apa soal...   \n",
       "4     beberapa minggu lalu ada mahasiwa yang selalu ...   \n",
       "...                                                 ...   \n",
       "1406  intern di lembaga swasta fe nya kalah di msib ...   \n",
       "1407  daily report bikin vision board dua siapin aff...   \n",
       "1408  punten yang daftar msib cv nya harus atas frie...   \n",
       "1409  cuma sender l lemah letih lesu nanti feedback ...   \n",
       "1410  momen gue di bully dari sd sama ada saja wkwk ...   \n",
       "\n",
       "                                              tokenized  \\\n",
       "0     ['cuma', 'ada', 'kakak', 'yang', 'ikut', 'msib...   \n",
       "1     ['nes', 'maaf', 'mau', 'tanya', 'sini', 'ada',...   \n",
       "2     ['upnjog', 'masih', 'bisa', 'enggak', 'minta',...   \n",
       "3     ['anjir', 'kok', 'bisa', 'ini', 'kaprodi', 'en...   \n",
       "4     ['beberapa', 'minggu', 'lalu', 'ada', 'mahasiw...   \n",
       "...                                                 ...   \n",
       "1406  ['intern', 'di', 'lembaga', 'swasta', 'fe', 'n...   \n",
       "1407  ['daily', 'report', 'bikin', 'vision', 'board'...   \n",
       "1408  ['punten', 'yang', 'daftar', 'msib', 'cv', 'ny...   \n",
       "1409  ['cuma', 'sender', 'l', 'lemah', 'letih', 'les...   \n",
       "1410  ['momen', 'gue', 'di', 'bully', 'dari', 'sd', ...   \n",
       "\n",
       "                                               filtered  \\\n",
       "0     ['kakak', 'msib', 'angkat', 'magang', 'studi',...   \n",
       "1                ['maaf', 'mahasiswa', 'smstr', 'msib']   \n",
       "2                     ['ttd', 'surat', 'sptjm', 'msib']   \n",
       "3     ['anjir', 'kaprodi', 'tau', 'msib', 'wajah', '...   \n",
       "4     ['minggu', 'mahasiwa', 'chat', 'konsultasi', '...   \n",
       "...                                                 ...   \n",
       "1406  ['intern', 'lembaga', 'swasta', 'fe', 'kalah',...   \n",
       "1407  ['daily', 'report', 'bikin', 'vision', 'board'...   \n",
       "1408     ['punten', 'daftar', 'msib', 'cv', 'friendly']   \n",
       "1409  ['sender', 'l', 'lemah', 'letih', 'lesu', 'fee...   \n",
       "1410  ['momen', 'gue', 'bully', 'sd', 'wkwk', 'kulia...   \n",
       "\n",
       "                                           preprocessed  \n",
       "0     kakak msib angkat magang studi independen tia ...  \n",
       "1                             maaf mahasiswa smstr msib  \n",
       "2                                  ttd surat sptjm msib  \n",
       "3             anjir kaprodi tau msib wajah menang keras  \n",
       "4     minggu mahasiwa chat konsultasi cv program msi...  \n",
       "...                                                 ...  \n",
       "1406  intern lembaga swasta fe kalah msib anjir cuma...  \n",
       "1407  daily report bikin vision board siapin affilia...  \n",
       "1408                     punten daftar msib cv friendly  \n",
       "1409  sender l lemah letih lesu feedback msib doain ...  \n",
       "1410  momen gue bully sd wkwk kuliah sepi banget gue...  \n",
       "\n",
       "[1411 rows x 15 columns]"
      ]
     },
     "execution_count": 14,
     "metadata": {},
     "output_type": "execute_result"
    }
   ],
   "source": [
    "sample = sample.drop(['Unnamed: 0'], axis = 1)\n",
    "sample"
   ]
  },
  {
   "cell_type": "code",
   "execution_count": 15,
   "id": "50e7982f",
   "metadata": {},
   "outputs": [],
   "source": [
    "# sample.to_csv(r'C:\\Users\\ASUS\\skripsi\\sample_preprocessed.csv')"
   ]
  },
  {
   "cell_type": "code",
   "execution_count": 16,
   "id": "314e5f4f",
   "metadata": {},
   "outputs": [],
   "source": [
    "sample_model = sample.loc[:, ['link','preprocessed', 'Sentimen']]"
   ]
  },
  {
   "cell_type": "markdown",
   "id": "b0ede168",
   "metadata": {},
   "source": [
    "# PROSES TF IDF"
   ]
  },
  {
   "cell_type": "code",
   "execution_count": 17,
   "id": "6d0be9fe",
   "metadata": {},
   "outputs": [],
   "source": [
    "# Tokenisasi\n",
    "\n",
    "def tokenize(text): \n",
    "    tknzr = TweetTokenizer()\n",
    "    return tknzr.tokenize(text)"
   ]
  },
  {
   "cell_type": "code",
   "execution_count": 18,
   "id": "7a493305",
   "metadata": {},
   "outputs": [],
   "source": [
    "# Pembobotan TF-IDF\n",
    "\n",
    "from sklearn.feature_extraction.text import TfidfVectorizer\n",
    "vectorizer = TfidfVectorizer(\n",
    "    analyzer = 'word',\n",
    "    tokenizer = tokenize,\n",
    "    lowercase = True,\n",
    "    ngram_range=(1, 1)\n",
    ")"
   ]
  },
  {
   "cell_type": "code",
   "execution_count": 19,
   "id": "2c1c7040",
   "metadata": {},
   "outputs": [
    {
     "name": "stderr",
     "output_type": "stream",
     "text": [
      "C:\\ProgramData\\Anaconda3\\lib\\site-packages\\sklearn\\utils\\deprecation.py:87: FutureWarning: Function get_feature_names is deprecated; get_feature_names is deprecated in 1.0 and will be removed in 1.2. Please use get_feature_names_out instead.\n",
      "  warnings.warn(msg, category=FutureWarning)\n"
     ]
    },
    {
     "data": {
      "text/html": [
       "<div>\n",
       "<style scoped>\n",
       "    .dataframe tbody tr th:only-of-type {\n",
       "        vertical-align: middle;\n",
       "    }\n",
       "\n",
       "    .dataframe tbody tr th {\n",
       "        vertical-align: top;\n",
       "    }\n",
       "\n",
       "    .dataframe thead th {\n",
       "        text-align: right;\n",
       "    }\n",
       "</style>\n",
       "<table border=\"1\" class=\"dataframe\">\n",
       "  <thead>\n",
       "    <tr style=\"text-align: right;\">\n",
       "      <th></th>\n",
       "      <th>3</th>\n",
       "      <th>a</th>\n",
       "      <th>aaaaaaaaaaaaanjing</th>\n",
       "      <th>aaaak</th>\n",
       "      <th>aaargh</th>\n",
       "      <th>aarrgh</th>\n",
       "      <th>ab</th>\n",
       "      <th>abang</th>\n",
       "      <th>abdi</th>\n",
       "      <th>abdillah</th>\n",
       "      <th>...</th>\n",
       "      <th>yuk</th>\n",
       "      <th>yukz</th>\n",
       "      <th>yulje</th>\n",
       "      <th>yupi</th>\n",
       "      <th>zaky</th>\n",
       "      <th>zamisyak</th>\n",
       "      <th>zen</th>\n",
       "      <th>zenius</th>\n",
       "      <th>zoom</th>\n",
       "      <th>zoomnya</th>\n",
       "    </tr>\n",
       "  </thead>\n",
       "  <tbody>\n",
       "    <tr>\n",
       "      <th>0</th>\n",
       "      <td>0.0</td>\n",
       "      <td>0.0</td>\n",
       "      <td>0.0</td>\n",
       "      <td>0.0</td>\n",
       "      <td>0.0</td>\n",
       "      <td>0.0</td>\n",
       "      <td>0.0</td>\n",
       "      <td>0.0</td>\n",
       "      <td>0.0</td>\n",
       "      <td>0.0</td>\n",
       "      <td>...</td>\n",
       "      <td>0.0</td>\n",
       "      <td>0.0</td>\n",
       "      <td>0.0</td>\n",
       "      <td>0.0</td>\n",
       "      <td>0.0</td>\n",
       "      <td>0.0</td>\n",
       "      <td>0.0</td>\n",
       "      <td>0.0</td>\n",
       "      <td>0.0</td>\n",
       "      <td>0.0</td>\n",
       "    </tr>\n",
       "    <tr>\n",
       "      <th>1</th>\n",
       "      <td>0.0</td>\n",
       "      <td>0.0</td>\n",
       "      <td>0.0</td>\n",
       "      <td>0.0</td>\n",
       "      <td>0.0</td>\n",
       "      <td>0.0</td>\n",
       "      <td>0.0</td>\n",
       "      <td>0.0</td>\n",
       "      <td>0.0</td>\n",
       "      <td>0.0</td>\n",
       "      <td>...</td>\n",
       "      <td>0.0</td>\n",
       "      <td>0.0</td>\n",
       "      <td>0.0</td>\n",
       "      <td>0.0</td>\n",
       "      <td>0.0</td>\n",
       "      <td>0.0</td>\n",
       "      <td>0.0</td>\n",
       "      <td>0.0</td>\n",
       "      <td>0.0</td>\n",
       "      <td>0.0</td>\n",
       "    </tr>\n",
       "    <tr>\n",
       "      <th>2</th>\n",
       "      <td>0.0</td>\n",
       "      <td>0.0</td>\n",
       "      <td>0.0</td>\n",
       "      <td>0.0</td>\n",
       "      <td>0.0</td>\n",
       "      <td>0.0</td>\n",
       "      <td>0.0</td>\n",
       "      <td>0.0</td>\n",
       "      <td>0.0</td>\n",
       "      <td>0.0</td>\n",
       "      <td>...</td>\n",
       "      <td>0.0</td>\n",
       "      <td>0.0</td>\n",
       "      <td>0.0</td>\n",
       "      <td>0.0</td>\n",
       "      <td>0.0</td>\n",
       "      <td>0.0</td>\n",
       "      <td>0.0</td>\n",
       "      <td>0.0</td>\n",
       "      <td>0.0</td>\n",
       "      <td>0.0</td>\n",
       "    </tr>\n",
       "    <tr>\n",
       "      <th>3</th>\n",
       "      <td>0.0</td>\n",
       "      <td>0.0</td>\n",
       "      <td>0.0</td>\n",
       "      <td>0.0</td>\n",
       "      <td>0.0</td>\n",
       "      <td>0.0</td>\n",
       "      <td>0.0</td>\n",
       "      <td>0.0</td>\n",
       "      <td>0.0</td>\n",
       "      <td>0.0</td>\n",
       "      <td>...</td>\n",
       "      <td>0.0</td>\n",
       "      <td>0.0</td>\n",
       "      <td>0.0</td>\n",
       "      <td>0.0</td>\n",
       "      <td>0.0</td>\n",
       "      <td>0.0</td>\n",
       "      <td>0.0</td>\n",
       "      <td>0.0</td>\n",
       "      <td>0.0</td>\n",
       "      <td>0.0</td>\n",
       "    </tr>\n",
       "    <tr>\n",
       "      <th>4</th>\n",
       "      <td>0.0</td>\n",
       "      <td>0.0</td>\n",
       "      <td>0.0</td>\n",
       "      <td>0.0</td>\n",
       "      <td>0.0</td>\n",
       "      <td>0.0</td>\n",
       "      <td>0.0</td>\n",
       "      <td>0.0</td>\n",
       "      <td>0.0</td>\n",
       "      <td>0.0</td>\n",
       "      <td>...</td>\n",
       "      <td>0.0</td>\n",
       "      <td>0.0</td>\n",
       "      <td>0.0</td>\n",
       "      <td>0.0</td>\n",
       "      <td>0.0</td>\n",
       "      <td>0.0</td>\n",
       "      <td>0.0</td>\n",
       "      <td>0.0</td>\n",
       "      <td>0.0</td>\n",
       "      <td>0.0</td>\n",
       "    </tr>\n",
       "    <tr>\n",
       "      <th>...</th>\n",
       "      <td>...</td>\n",
       "      <td>...</td>\n",
       "      <td>...</td>\n",
       "      <td>...</td>\n",
       "      <td>...</td>\n",
       "      <td>...</td>\n",
       "      <td>...</td>\n",
       "      <td>...</td>\n",
       "      <td>...</td>\n",
       "      <td>...</td>\n",
       "      <td>...</td>\n",
       "      <td>...</td>\n",
       "      <td>...</td>\n",
       "      <td>...</td>\n",
       "      <td>...</td>\n",
       "      <td>...</td>\n",
       "      <td>...</td>\n",
       "      <td>...</td>\n",
       "      <td>...</td>\n",
       "      <td>...</td>\n",
       "      <td>...</td>\n",
       "    </tr>\n",
       "    <tr>\n",
       "      <th>1406</th>\n",
       "      <td>0.0</td>\n",
       "      <td>0.0</td>\n",
       "      <td>0.0</td>\n",
       "      <td>0.0</td>\n",
       "      <td>0.0</td>\n",
       "      <td>0.0</td>\n",
       "      <td>0.0</td>\n",
       "      <td>0.0</td>\n",
       "      <td>0.0</td>\n",
       "      <td>0.0</td>\n",
       "      <td>...</td>\n",
       "      <td>0.0</td>\n",
       "      <td>0.0</td>\n",
       "      <td>0.0</td>\n",
       "      <td>0.0</td>\n",
       "      <td>0.0</td>\n",
       "      <td>0.0</td>\n",
       "      <td>0.0</td>\n",
       "      <td>0.0</td>\n",
       "      <td>0.0</td>\n",
       "      <td>0.0</td>\n",
       "    </tr>\n",
       "    <tr>\n",
       "      <th>1407</th>\n",
       "      <td>0.0</td>\n",
       "      <td>0.0</td>\n",
       "      <td>0.0</td>\n",
       "      <td>0.0</td>\n",
       "      <td>0.0</td>\n",
       "      <td>0.0</td>\n",
       "      <td>0.0</td>\n",
       "      <td>0.0</td>\n",
       "      <td>0.0</td>\n",
       "      <td>0.0</td>\n",
       "      <td>...</td>\n",
       "      <td>0.0</td>\n",
       "      <td>0.0</td>\n",
       "      <td>0.0</td>\n",
       "      <td>0.0</td>\n",
       "      <td>0.0</td>\n",
       "      <td>0.0</td>\n",
       "      <td>0.0</td>\n",
       "      <td>0.0</td>\n",
       "      <td>0.0</td>\n",
       "      <td>0.0</td>\n",
       "    </tr>\n",
       "    <tr>\n",
       "      <th>1408</th>\n",
       "      <td>0.0</td>\n",
       "      <td>0.0</td>\n",
       "      <td>0.0</td>\n",
       "      <td>0.0</td>\n",
       "      <td>0.0</td>\n",
       "      <td>0.0</td>\n",
       "      <td>0.0</td>\n",
       "      <td>0.0</td>\n",
       "      <td>0.0</td>\n",
       "      <td>0.0</td>\n",
       "      <td>...</td>\n",
       "      <td>0.0</td>\n",
       "      <td>0.0</td>\n",
       "      <td>0.0</td>\n",
       "      <td>0.0</td>\n",
       "      <td>0.0</td>\n",
       "      <td>0.0</td>\n",
       "      <td>0.0</td>\n",
       "      <td>0.0</td>\n",
       "      <td>0.0</td>\n",
       "      <td>0.0</td>\n",
       "    </tr>\n",
       "    <tr>\n",
       "      <th>1409</th>\n",
       "      <td>0.0</td>\n",
       "      <td>0.0</td>\n",
       "      <td>0.0</td>\n",
       "      <td>0.0</td>\n",
       "      <td>0.0</td>\n",
       "      <td>0.0</td>\n",
       "      <td>0.0</td>\n",
       "      <td>0.0</td>\n",
       "      <td>0.0</td>\n",
       "      <td>0.0</td>\n",
       "      <td>...</td>\n",
       "      <td>0.0</td>\n",
       "      <td>0.0</td>\n",
       "      <td>0.0</td>\n",
       "      <td>0.0</td>\n",
       "      <td>0.0</td>\n",
       "      <td>0.0</td>\n",
       "      <td>0.0</td>\n",
       "      <td>0.0</td>\n",
       "      <td>0.0</td>\n",
       "      <td>0.0</td>\n",
       "    </tr>\n",
       "    <tr>\n",
       "      <th>1410</th>\n",
       "      <td>0.0</td>\n",
       "      <td>0.0</td>\n",
       "      <td>0.0</td>\n",
       "      <td>0.0</td>\n",
       "      <td>0.0</td>\n",
       "      <td>0.0</td>\n",
       "      <td>0.0</td>\n",
       "      <td>0.0</td>\n",
       "      <td>0.0</td>\n",
       "      <td>0.0</td>\n",
       "      <td>...</td>\n",
       "      <td>0.0</td>\n",
       "      <td>0.0</td>\n",
       "      <td>0.0</td>\n",
       "      <td>0.0</td>\n",
       "      <td>0.0</td>\n",
       "      <td>0.0</td>\n",
       "      <td>0.0</td>\n",
       "      <td>0.0</td>\n",
       "      <td>0.0</td>\n",
       "      <td>0.0</td>\n",
       "    </tr>\n",
       "  </tbody>\n",
       "</table>\n",
       "<p>1411 rows × 3044 columns</p>\n",
       "</div>"
      ],
      "text/plain": [
       "        3    a  aaaaaaaaaaaaanjing  aaaak  aaargh  aarrgh   ab  abang  abdi  \\\n",
       "0     0.0  0.0                 0.0    0.0     0.0     0.0  0.0    0.0   0.0   \n",
       "1     0.0  0.0                 0.0    0.0     0.0     0.0  0.0    0.0   0.0   \n",
       "2     0.0  0.0                 0.0    0.0     0.0     0.0  0.0    0.0   0.0   \n",
       "3     0.0  0.0                 0.0    0.0     0.0     0.0  0.0    0.0   0.0   \n",
       "4     0.0  0.0                 0.0    0.0     0.0     0.0  0.0    0.0   0.0   \n",
       "...   ...  ...                 ...    ...     ...     ...  ...    ...   ...   \n",
       "1406  0.0  0.0                 0.0    0.0     0.0     0.0  0.0    0.0   0.0   \n",
       "1407  0.0  0.0                 0.0    0.0     0.0     0.0  0.0    0.0   0.0   \n",
       "1408  0.0  0.0                 0.0    0.0     0.0     0.0  0.0    0.0   0.0   \n",
       "1409  0.0  0.0                 0.0    0.0     0.0     0.0  0.0    0.0   0.0   \n",
       "1410  0.0  0.0                 0.0    0.0     0.0     0.0  0.0    0.0   0.0   \n",
       "\n",
       "      abdillah  ...  yuk  yukz  yulje  yupi  zaky  zamisyak  zen  zenius  \\\n",
       "0          0.0  ...  0.0   0.0    0.0   0.0   0.0       0.0  0.0     0.0   \n",
       "1          0.0  ...  0.0   0.0    0.0   0.0   0.0       0.0  0.0     0.0   \n",
       "2          0.0  ...  0.0   0.0    0.0   0.0   0.0       0.0  0.0     0.0   \n",
       "3          0.0  ...  0.0   0.0    0.0   0.0   0.0       0.0  0.0     0.0   \n",
       "4          0.0  ...  0.0   0.0    0.0   0.0   0.0       0.0  0.0     0.0   \n",
       "...        ...  ...  ...   ...    ...   ...   ...       ...  ...     ...   \n",
       "1406       0.0  ...  0.0   0.0    0.0   0.0   0.0       0.0  0.0     0.0   \n",
       "1407       0.0  ...  0.0   0.0    0.0   0.0   0.0       0.0  0.0     0.0   \n",
       "1408       0.0  ...  0.0   0.0    0.0   0.0   0.0       0.0  0.0     0.0   \n",
       "1409       0.0  ...  0.0   0.0    0.0   0.0   0.0       0.0  0.0     0.0   \n",
       "1410       0.0  ...  0.0   0.0    0.0   0.0   0.0       0.0  0.0     0.0   \n",
       "\n",
       "      zoom  zoomnya  \n",
       "0      0.0      0.0  \n",
       "1      0.0      0.0  \n",
       "2      0.0      0.0  \n",
       "3      0.0      0.0  \n",
       "4      0.0      0.0  \n",
       "...    ...      ...  \n",
       "1406   0.0      0.0  \n",
       "1407   0.0      0.0  \n",
       "1408   0.0      0.0  \n",
       "1409   0.0      0.0  \n",
       "1410   0.0      0.0  \n",
       "\n",
       "[1411 rows x 3044 columns]"
      ]
     },
     "execution_count": 19,
     "metadata": {},
     "output_type": "execute_result"
    }
   ],
   "source": [
    "feature_matrix = vectorizer.fit_transform(sample_model['preprocessed'])\n",
    "document_term_matrix = pd.DataFrame(data=feature_matrix.toarray(), columns=vectorizer.get_feature_names())\n",
    "# document_term_matrix.to_excel(r'C:\\Users\\ASUS\\skripsi\\tfidf_matrix.xlsx', index = False)\n",
    "document_term_matrix"
   ]
  },
  {
   "cell_type": "code",
   "execution_count": 20,
   "id": "42451056",
   "metadata": {},
   "outputs": [],
   "source": [
    "features_used = document_term_matrix[['a', 'aaaaaaaaaaaaanjing', 'aaargh', 'aarrgh', 'ab', 'abang', 'abdillah', 'absen', 'abt', 'abu', 'ac', 'academy', 'acara', 'accepted', 'account', 'achievment', 'actually', 'adbis', 'admin', 'administrasi', 'adminnya', 'ado', 'advance', 'advice', 'advo', 'advokasi', 'aenya', 'affiliate', 'afni', 'agaknua', 'agraria', 'agustus', 'ahli', 'ahmad', 'ai', 'aib', 'aidah', 'aih', 'ain', 'aing', 'air', 'ajaib', 'ajak', 'ajang', 'ajar', 'aju', 'akademik', 'akademis', 'akademisi', 'akal', 'akang', 'akt', 'aktif', 'aktifitas', 'aktivitas', 'akuin', 'akun', 'akuntansi', 'akwkkawk', 'al', 'alaikum', 'alam', 'alami', 'alamin', 'alas', 'album', 'alesannya', 'alfamidi', 'alghifari', 'alhamdulilah', 'alhamdulillah', 'alhasil', 'alias', 'alih', 'allah', 'allowed', 'alumne', 'alumni', 'alur', 'always', 'aman', 'ambang', 'ambil', 'ameylia', 'amik', 'amin', 'amp', 'amplop', 'ampu', 'an', 'ana', 'anak', 'analisis', 'anas', 'and', 'andai', 'android', 'angka', 'angkat', 'anjeng', 'anjg', 'anjing', 'anjir', 'annyone', 'another', 'antartika', 'antra', 'antusias', 'anxiety', 'any', 'anything', 'anyway', 'apadeh', 'apakabar', 'apdet', 'apiary', 'aplikasi', 'apply', 'appreciation', 'appreticenship', 'apr', 'apresiasi', 'april', 'aprilia', 'arah', 'are', 'arek', 'argh', 'arti', 'arya', 'as', 'asa', 'asdos', 'asesmen', 'asih', 'asik', 'asing', 'askrl', 'asli', 'aspirasi', 'assalamu', 'assesment', 'astaghfirullah', 'astra', 'asu', 'at', 'atauga', 'ati', 'ato', 'atr', 'atsnya', 'atur', 'auditorium', 'aug', 'auto', 'autocad', 'available', 'aware', 'awesome', 'awokawok', 'ayo', 'b', 'baba', 'babak', 'babi', 'baca', 'bacain', 'backup', 'badan', 'badut', 'bae', 'bagen', 'bagus', 'bahagia', 'bahak', 'bahan', 'bahas', 'bahasa', 'baki', 'bakti', 'bal', 'bala', 'balas', 'baleek', 'balesan', 'balikin', 'banding', 'bandung', 'banfu', 'bang', 'banget', 'bangga', 'bangkit', 'bangkrut', 'bangsa', 'bangsat', 'banh', 'bank', 'bantai', 'bantu', 'bantuin', 'bantul', 'banyaknha', 'bara', 'barang', 'barangkali', 'barata', 'bareng', 'barusan', 'bas', 'basah', 'basically', 'batal', 'batalin', 'batas', 'batch', 'batin', 'bawa', 'bayar', 'bbh', 'be', 'beasiswa', 'beban', 'bebas', 'because', 'becus', 'beda', 'been', 'begimana', 'bego', 'being', 'bekal', 'bekerjasama', 'bela', 'beli', 'beliau', 'believe', 'bem', 'benefit', 'benerin', 'bentar', 'bentrok', 'bentuk', 'berangkat', 'berani', 'beranta', 'berat', 'beres', 'beristighfar', 'berita', 'berkas', 'berkat', 'bersertifikas', 'bersetifikat', 'bersin', 'bes', 'besok', 'best', 'betah', 'better', 'between', 'bgos', 'bgst', 'bgts', 'bhd', 'bi', 'biar', 'biaya', 'bib', 'bicara', 'bidang', 'bijak', 'bikaus', 'bikin', 'bilang', 'billa', 'bimawa', 'bimbang', 'bimbing', 'binar', 'binatang', 'bineka', 'bing', 'bingung', 'bingungin', 'bintang', 'bio', 'biro', 'birokrasi', 'biru', 'bisain', 'bismillah', 'bismillahhhhhhy', 'bisnis', 'bitlabs', 'bkl', 'blacklist', 'blgnya', 'blkg', 'blokir', 'board', 'boarding', 'bocil', 'bolah', 'bolak', 'book', 'bootcamp', 'boothcamp', 'bot', 'bpjs', 'bpn', 'brand', 'bri', 'brimo', 'brkaitan', 'bromo', 'bsi', 'btw', 'bu', 'budak', 'budaya', 'budget', 'budrek', 'buka', 'bukti', 'buku', 'bulat', 'bully', 'bumn', 'bunga', 'bur', 'bursa', 'buru', 'bus', 'busa', 'buset', 'but', 'butuh', 'buzzer', 'cabut', 'cah', 'cair', 'cal', 'calling', 'calon', 'campus', 'can', 'cancel', 'canda', 'cantik', 'cap', 'capai', 'capek', 'capital', 'career', 'cari', 'case', 'catat', 'cbt', 'cdc', 'ce', 'cek', 'cemberut', 'cenderung', 'centang', 'center', 'cepat', 'cerah', 'cerita', 'ceroboh', 'certified', 'cewek', 'cha', 'challenging', 'channel', 'chat', 'chatan', 'check', 'cheer', 'cias', 'ciater', 'cinta', 'circle', 'cirebon', 'cita', 'cium', 'ckitu', 'classes', 'clear', 'click', 'clio', 'closing', 'clueles', 'cmiiw', 'coal', 'coba', 'cocok', 'code', 'cok', 'colle', 'coming', 'communication', 'comp', 'company', 'competition', 'computer', 'congratulations', 'consultancy', 'consulting', 'cont', 'contoh', 'conversation', 'convert', 'copas', 'copywriting', 'corner', 'corp', 'corporate', 'counting', 'course', 'cover', 'cowok', 'cp', 'creative', 'crew', 'cuk', 'cuman', 'cung', 'curang', 'curgia', 'curhaaat', 'curhat', 'curhatnya', 'curiga', 'cus', 'cushio', 'cut', 'cuti', 'cuy', 'cv', 'cvku', 'cvnya', 'cybersecutiry', 'cycle', 'dada', 'daerah', 'daftar', 'daftarin', 'daftat', 'dafyar', 'dagdigdug', 'dah', 'daily', 'dalem', 'damn', 'dampak', 'dana', 'dapetnya', 'dar', 'darah', 'darimana', 'darmajaya', 'darurat', 'data', 'date', 'day', 'daya', 'deadlinennya', 'deadlinenya', 'deg', 'degan', 'deh', 'dekan', 'denda', 'dengar', 'departemen', 'derita', 'des', 'desa', 'desember', 'deserved', 'desk', 'desperate', 'develop', 'developer', 'developing', 'development', 'dftar', 'dftr', 'dha', 'diac', 'dianggep', 'diapus', 'dibales', 'dibantuin', 'dibarengin', 'dibayarin', 'diberitahukan', 'dibicarain', 'diblacklist', 'dibolehin', 'dibuatin', 'dibutuhin', 'dichat', 'dicoding', 'dicutof', 'didik', 'didnt', 'didownload', 'diextend', 'digangguin', 'digital', 'digitalent', 'digoto', 'diharusin', 'diikutin', 'diikutsertakan', 'dijanjiin', 'dijelasin', 'dijulidin', 'dik', 'dikit', 'dikomunikasiin', 'dikosan', 'dikosongin', 'dikti', 'diktiristek', 'dikumpulin', 'dilema', 'dimasing', 'dinas', 'dingin', 'diperpanjaang', 'dipersimple', 'diploma', 'dirayain', 'diread', 'direchat', 'direject', 'direktorat', 'direktur', 'dirjen', 'disampein', 'disiapin', 'diskusi', 'dissukcapil', 'disubmit', 'ditandatangani', 'ditanyain', 'ditempatin', 'ditjen', 'dituker', 'dituntasin', 'diupload', 'divisi', 'dlnya', 'dluan', 'dm', 'doa', 'doain', 'doang', 'dokter', 'dokumen', 'dom', 'done', 'dosbingku', 'dosen', 'down', 'download', 'dpl', 'dpr', 'drakoran', 'drama', 'dreamies', 'drip', 'drop', 'dstar', 'duduk', 'duh', 'duid', 'duit', 'dukung', 'duluan', 'dumb', 'dump', 'dun', 'dunia', 'durasi', 'durung', 'e', 'early', 'easily', 'edisi', 'education', 'eel', 'efek', 'effort', 'efisien', 'egois', 'eh', 'eiruueriegiwfogfbewortgrurgiurewiefu', 'either', 'ekonomi', 'ekspektasi', 'ekspor', 'ekspresi', 'el', 'elburdah', 'eligible', 'emaik', 'email', 'embus', 'emosi', 'emot', 'empet', 'enak', 'enake', 'end', 'eneg', 'energi', 'engah', 'enggan', 'engganya', 'engineer', 'engineering', 'enih', 'enlighten', 'entar', 'entitas', 'ept', 'erick', 'error', 'erti', 'es', 'esp', 'essai', 'euy', 'evaluasi', 'evaluation', 'everyone', 'everytime', 'excited', 'exp', 'expand', 'expect', 'expectation', 'expecting', 'experience', 'ey', 'facilku', 'facilnya', 'fakultas', 'falkor', 'fapet', 'fasilitas', 'favorit', 'fb', 'fe', 'feb', 'februari', 'feedback', 'feeling', 'fermentasi', 'fes', 'festival', 'fgd', 'fh', 'fhci', 'fia', 'fifin', 'fikom', 'fiks', 'file', 'filter', 'final', 'fine', 'fisip', 'fitur', 'fix', 'fkip', 'flagship', 'fo', 'fokus', 'follow', 'fomo', 'food', 'for', 'form', 'format', 'formulir', 'forum', 'forward', 'foto', 'fren', 'friendly', 'from', 'fsm', 'ful', 'fulltime', 'fun', 'future', 'gaaaak', 'gabole', 'gabung', 'gadapet', 'gadpt', 'gaes', 'gagal', 'gaikut', 'gairah', 'gais', 'gajadi', 'gaji', 'gakjelas', 'gaksi', 'galau', 'gali', 'gang', 'ganggu', 'ganjil', 'ganteng', 'ganti', 'gantung', 'gantungin', 'gapaham', 'gapapa', 'gaperlu', 'gara', 'gara-gara', 'garage', 'gars', 'gas', 'gatauah', 'gatuh', 'gausaah', 'gd', 'ge', 'gede', 'gedek', 'gedung', 'gegara', 'gelar', 'gelo', 'gembira', 'genap', 'generasi', 'gengs', 'gengsi', 'gerak', 'gerbang', 'gerilya', 'ges', 'geser', 'getcontact', 'gform', 'giat', 'gift', 'gila', 'gilang', 'giselle', 'gits', 'give', 'gjls', 'global', 'gmbr', 'gmpang', 'god', 'going', 'gon', 'good', 'goodbye', 'goodluck', 'google', 'got', 'gp', 'grace', 'graduation', 'gramedia', 'grammar', 'gratis', 'greatedu', 'group', 'growatparagon', 'growth', 'grup', 'gua', 'gue', 'gues', 'gugur', 'guling', 'gumoh', 'gunain', 'guru', 'guys', 'gweh', 'h', 'habis', 'hack', 'had', 'hadap', 'hadir', 'hah', 'hahaha', 'hahahha', 'hai', 'hajar', 'hak', 'hakka', 'halaman', 'halang', 'halo', 'han', 'handle', 'hanjur', 'happines', 'happy', 'hapus', 'hara', 'harap', 'harder', 'hardskil', 'harga', 'has', 'hashmicro', 'hasil', 'hasut', 'hataman', 'hate', 'hati', 'hayo', 'he', 'hebat', 'heh', 'hehe', 'hehehehe', 'heheheheh', 'hello', 'help', 'helpdesk', 'hemat', 'her', 'heran', 'heru', 'hey', 'hft', 'hi', 'hibur', 'hidup', 'hihi', 'hijau', 'hiks', 'hiksrot', 'hilal', 'hilang', 'himasta', 'himpun', 'hitam', 'hitung', 'hm', 'hmj', 'honor', 'hope', 'hopeles', 'hormat', 'hospitality', 'how', 'hp', 'hu', 'huaak', 'huawei', 'hubung', 'hubungin', 'hue', 'huehuehue', 'huft', 'huhu', 'huhuhu', 'huhuhuhuhuhu', 'human', 'huru', 'hustle', 'hv', 'hybrid', 'hype', 'i', 'ibadah', 'id', 'idak', 'identitas', 'idk', 'iduka', 'ig', 'ih', 'iib', 'iisma', 'ikhlas', 'iku', 'ikutab', 'ilkom', 'ilmu', 'ilpol', 'im', 'imajinasi', 'imissu', 'impi', 'implementasi', 'impulsif', 'inagurasi', 'include', 'ind', 'indak', 'inde', 'independen', 'independent', 'indikasi', 'indikator', 'indonesia', 'indonesians', 'industri', 'industry', 'info', 'infoin', 'informasi', 'informatika', 'information', 'inggris', 'inka', 'innovation', 'innovators', 'inovasi', 'input', 'insecure', 'insentif', 'inspect', 'inspiratif', 'inspiring', 'instagram', 'instal', 'installasi', 'instansi', 'institusi', 'insyaallah', 'interact', 'intern', 'internal', 'internasional', 'international', 'internet', 'internship', 'interview', 'inti', 'intv', 'ip', 'ipad', 'ipeka', 'ipk', 'ir', 'ira', 'iri', 'is', 'iseng', 'isi', 'istikamah', 'istirahat', 'isu', 'isyarat', 'itk', 'its', 'itscareercenter', 'itutuh', 'iv', 'iya', 'izin', 'jabanin', 'jabat', 'jadwal', 'jaga', 'jago', 'jahat', 'jajan', 'jakarta', 'jalan', 'jam', 'jangka', 'janji', 'jantung', 'januari', 'jaoh', 'jarang', 'jaring', 'jasa', 'jasmani', 'jatohnya', 'jatuh', 'jawat', 'jaya', 'jdnya', 'jebal', 'jebol', 'jebul', 'jedag', 'jedug', 'jelasin', 'jelek', 'jembatan', 'jempol', 'jenderal', 'jenis', 'jenjang', 'jepit', 'jerapah', 'jiah', 'jmblo', 'jobdesk', 'jogja', \n",
    "                                     'join', 'journey', 'jrusanku', 'jual', 'juang', 'judul', 'jujur', 'jujurly', 'jul', 'juli', 'july', 'jumat', 'jun', 'juni', 'jurnal', 'jurus', 'just', 'juta', 'kab', 'kabar', 'kabul', 'kabupaten', 'kabur', 'kacamata', 'kacau', 'kacaw', 'kadaluwarsa', 'kadang', 'kader', 'kagak', 'kait', 'kajur', 'kak', 'kakak', 'kaki', 'kalah', 'kalang', 'kalender', 'kali', 'kalibr', 'kalo', 'kamjar', 'kampus', 'kampusmerdeka', 'kanan', 'kang', 'kantor', 'kapaaan', 'kapai', 'kapastitas', 'kaprodi', 'karier', 'karir', 'kartu', 'karuan', 'karyawan', 'karyawannya', 'kas', 'kasih', 'kategori', 'kating', 'katingku', 'kau', 'kawands', 'kaya', 'kayak', 'kbm', 'kebhinekaan', 'kebhinekaannya', 'kebun', 'keburu', 'kecantol', 'kecewa', 'kedip', 'keep', 'kejar', 'kelar', 'kelarin', 'kelas', 'kelen', 'kelompok', 'keluarga', 'keluh', 'kelulus', 'kemari', 'kemarin', 'kembang', 'kemdikbud', 'kemdikbudristek', 'kemenag', 'kemendikbud', 'kemendikbudristek', 'kemenkeu', 'kemensetneg', 'ken', 'kena', 'kenal', 'kenan', 'kenang', 'kencang', 'kendala', 'kendara', 'kepala', 'kepastiaan', 'kepo', 'keras', 'keren', 'keringat', 'kerja', 'kerjasama', 'kertosentono', 'kesan', 'kesana', 'kesel', 'kesini', 'kesma', 'ketat', 'ketemu', 'ketenagakerjaan', 'keteter', 'ketik', 'ketompo', 'ketrima', 'ketua', 'ketuk', 'keupdate', 'kewalahan', 'kg', 'khanif', 'khosasih', 'khusus', 'kilau', 'kimia', 'kirim', 'kiro', 'kisah', 'kisi', 'kkn', 'kknt', 'klaim', 'klarifikasi', 'klik', 'kls', 'kmmi', 'knapa', 'know', 'koar', 'kolaborasi', 'kolega', 'kolektif', 'komen', 'kominfo', 'komisi', 'komitmen', 'komp', 'kompas', 'kompeten', 'kompetensi', 'komputer', 'komunikasi', 'komunitas', 'kondisi', 'konek', 'koneksi', 'konfirmasi', 'konsekuensi', 'konsiltasi', 'konsisten', 'konsolidasi', 'konsultasi', 'kontak', 'konteks', 'kontrak', 'konver', 'konvers', 'konversi', 'konyol', 'koor', 'koordinasi', 'koordinator', 'koprodi', 'korban', 'kos', 'kosan', 'kosong', 'kost', 'kota', 'kotak', 'kouta', 'koyo', 'kp', 'kredit', 'krim', 'kriteria', 'krs', 'krsan', 'krsnya', 'krusial', 'ktar', 'ktir', 'ktp', 'ku', 'kualitas', 'kuasa', 'kuat', 'kucing', 'kudu', 'kui', 'kuisoner', 'kuliah', 'kulit', 'kumpulin', 'kunjung', 'kuota', 'kursi', 'kusut', 'kutu', 'kv', 'l', 'laaah', 'label', 'lage', 'lagipula', 'lai', 'laksana', 'laku', 'laman', 'lamar', 'lambai', 'lambat', 'lampir', 'lancar', 'langgan', 'langgar', 'langkah', 'langsung', 'lanjur', 'lantai', 'lapakjpwta', 'lapang', 'lapor', 'laptop', 'larang', 'last', 'lastday', 'lawak', 'lawan', 'layak', 'layar', 'least', 'lebar', 'left', 'lega', 'lelah', 'lemah', 'lembaga', 'lembar', 'lembur', 'lemes', 'lempar', 'lengan', 'lengkap', 'lengkapin', 'lepas', 'lese', 'lesu', 'letih', 'lets', 'letsgo', 'level', 'lho', 'lian', 'libur', 'lihat', 'lika', 'like', 'liku', 'lilin', 'line', 'linear', 'lingkar', 'lingkung', 'linjur', 'link', 'linked', 'linkedin', 'linknya', 'lintas', 'lipat', 'liput', 'lirik', 'list', 'listrik', 'literally', 'live', 'lo', 'loa', 'loading', 'loadingnya', 'lock', 'lodging', 'log', 'logika', 'login', 'logistik', 'loh', 'lok', 'lokasi', 'lolos', 'lomba', 'looke', 'lorong', 'lose', 'lower', 'lowong', 'lpdp', 'lspr', 'lu', 'luang', 'luas', 'luck', 'lucu', 'lulus', 'lulussidang', 'lumayan', 'lunas', 'luncur', 'lupa', 'lur', 'luring', 'lutut', 'maaf', 'maaksi', 'made', 'mag', 'magang', 'maganga', 'magangmerdeka', 'mageran', 'magic', 'mah', 'maha', 'mahasiswa', 'mahasiswi', 'mahasiwa', 'mail', 'main', 'maintenance', 'maisng', 'mak', 'makan', 'makasiih', 'makassiih', 'maks', 'maksimal', 'maksud', 'makul', 'malaikat', 'malam', 'malas', 'man', 'management', 'managementnya', 'manajemen', 'mandi', 'mandiri', 'manfaat', 'mangkanya', 'manifesting', 'mantab', 'mantap', 'mantappu', 'mantau', 'mantengin', 'manual', 'manusia', 'mar', 'marah', 'maret', 'marketing', 'markicob', 'mas', 'masak', 'masjid', 'massal', 'mastiin', 'masuk', 'mata', 'matahari', 'matematika', 'materi', 'mati', 'matkul', 'matkulku', 'matkulnya', 'mauarah', 'max', 'maxy', 'maya', 'mayoritas', 'mbak', 'mbkm', 'mbkmnya', 'me', 'meanwhile', 'medan', 'media', 'meet', 'meeting', 'mei', 'mejam', 'mekar', 'melu', 'memelas', 'memgambil', 'memnuhi', 'menang', 'mending', 'menfes', 'mengepoi', 'mengikhlaskn', 'mengsedih', 'mengupload', 'menit', 'mental', 'menteri', 'mentok', 'mentor', 'mentoring', 'menuhin', 'mepet', 'merah', 'merdeka', 'message', 'mesti', 'metaverse', 'mgerjain', 'mhs', 'mhsw', 'mib', 'mice', 'microsoft', 'mikir', 'milik', 'mimpi', 'min', 'minat', 'minder', 'minergi', 'minggu', 'minimal', 'ministry', 'minus', 'miris', 'misuh', 'mitra', 'mix', 'mixue', 'mjb', 'mnj', 'mobile', 'mobilisasi', 'mobitekno', 'modal', 'modul', 'moga', 'mohon', 'mojadiap', 'momen', 'momentum', 'month', 'moots', 'more', 'mostly', 'motor', 'mou', 'msbi', 'msib', 'msibnya', 'mtual', 'mu', 'mubazir', 'much', 'mud', 'muda', 'mudah', 'muhammadiyah', 'muhsin', 'mujiibassailiin', 'muka', 'mules', 'multi', 'multinasional', 'mulu', 'mulut', 'mumet', 'mumpuni', 'muncul', 'mundur', 'muntah', 'murah', 'mustahil', 'mutah', 'muter', 'muts', 'mutualan', 'my', 'n', 'nabrak', 'nadiem', 'nafas', 'nagih', 'nak', 'nama', 'nang', 'nanggung', 'nanyain', 'nanyo', 'napas', 'nar', 'narahubung', 'narasumber', 'naruh', 'nasib', 'nasional', 'national', 'nay', 'nazar', 'ndadak', 'ndaniyo', 'ndeer', 'nder', 'nebar', 'necessary', 'need', 'needs', 'negara', 'negative', 'negeri', 'nendo', 'neng', 'net', 'netral', 'news', 'next', 'nf', 'ng', 'ngab', 'ngabari', 'ngabarin', 'ngabisin', 'ngadepin', 'ngajuinnya', 'ngalamin', 'ngambil', 'ngang', 'nganggep', 'nganggur', 'ngangkat', 'ngantuk', 'nge', 'ngecancel', 'ngeceknya', 'ngedown', 'ngefasil', 'ngeghosting', 'ngehubungin', 'ngekos', 'ngekosongin', 'ngelamar', 'ngelatih', 'ngeluh', 'ngerasin', 'ngerelain', 'ngeri', 'ngeringanin', 'ngerjain', 'ngerjainnya', 'ngetweet', 'nggada', 'ngganya', 'nginput', 'ngisi', 'ngjk', 'ngoding', 'ngong', 'ngontrak', 'nguju', 'ngulang', 'ngumpulin', 'ngundurin', 'niat', 'nic', 'nih', 'nila', 'nilai', 'nimbrung', 'nip', 'nitip', 'no', 'nolak', 'nominal', 'nomor', 'non', 'normal', 'notabene', 'note', 'nothing', 'notice', 'notif', 'notifikasi', 'now', 'nrima', 'nugas', 'numpang', 'numpuk', 'nunda', 'nur', 'nurse', 'nutrisi', 'nyabang', 'nyala', 'nyambi', 'nyamperin', 'nyantol', 'nyata', 'nyebutinnya', 'nyepelein', 'nyerah', 'nyia', 'nyiain', 'nyiapin', 'nyokap', 'nyusun', 'oalaaah', 'obviously', 'oeluangnya', 'of', 'ofc', 'ofering', 'offense', 'offering', 'offeringnya', 'official', 'offline', 'oflen', 'ohiya', 'oikawa', 'ojan', 'ojk', 'okay', 'oke', 'olah', 'omaygat', 'omg', 'omong', 'on', 'onboarding', 'onlen', 'online', 'oot', 'open', 'oper', 'opo', 'opportunities', 'opportunity', 'optimal', 'optimis', 'orang', 'organisasi', 'orientasi', 'oriented', 'other', 'otomatis', 'otot', 'otw', 'our', 'out', 'outbond', 'overthinking', 'ovt', 'owalah', 'p', 'pacar', 'pacil', 'padahaal', 'padat', 'pagi', 'pah', 'paham', 'paid', 'paitnya', 'paji', 'pakai', 'paket', 'paksa', 'paku', 'panah', 'panas', 'panggil', 'panik', 'panitia', 'pantau', 'pantesan', 'papa', 'paragon', 'parah', 'part', 'participated', 'partisipasi', 'partner', 'parttime', 'pas', 'pasar', 'pasport', 'pasrah', 'passcode', 'pasuk', 'patah', 'pc', 'pddikti', 'peduli', 'pegang', 'peluang', 'peluk', 'pemberitahuan', 'pend', 'pendaftran', 'pengaruh', 'pengenin', 'pengin', 'pening', 'penuh', 'penyampain', 'perah', 'perang', 'percaya', 'perform', 'perhati', 'perihal', 'periksa', 'perintah', 'periode', 'perjunganya', 'perkara', 'permaneker', 'permisi', 'persada', 'pertanggungjawaban', 'pertimbangin', 'perusahaanya', 'pesimis', 'pesta', 'peta', 'petinggi', 'petisi', 'pgpaud', 'phk', 'php', 'phpin', 'pic', 'pict', 'pido', 'pikir', 'pilar', 'pilih', 'pilihin', 'pindah', 'pintar', 'pinternya', 'pirsa', 'pisah', 'piye', 'pjnya', 'pkj', 'pkl', 'plan', 'planning', 'platform', 'please', 'plin', 'plis', 'plise', 'plns', 'pls', 'plt', 'plus', 'plz', 'pm', 'pmmb', 'pnj', 'pntolan', 'point', 'pokok', 'polinema', 'politik', 'ponsel', 'populasi', 'porto', 'posisi', 'positif', 'post', 'postingan', 'potensi', 'potong', 'pov', 'power', 'ppk', 'ppm', 'ppsdm', 'pr', 'praktik', 'praktikum', 'praktisi', 'prambanan', 'prasetyo', 'praying', 'pre', 'prediksi', 'prefer', 'prepare', 'presentasi', 'presiden', 'prestasi', 'pria', 'pribadi', 'pringgodani', 'printilan', 'prioritas', 'privat', 'private', 'pro', 'prodi', 'prodiku', 'prodinya', 'product', 'production', 'produktif', 'prof', 'professional', 'profil', 'progam', 'program', 'progres', 'project', 'projek', 'proses', 'proud', 'provinsi', 'proyek', 'prshbtn', 'psikologi', 'psikotest', 'pt', 'ptg', 'puasa', 'public', 'publikasi', 'pudir', 'puji', 'pulang', 'pulau', 'puluh', 'punteeen', 'punten', 'pupr', 'pupuk', 'pus', 'pusat', 'pusban', 'pusing', 'puska', 'putar', 'putih', 'putra', 'putri', 'putus', 'pw', 'qrt', 'quit', 'quotanya', 'quran', 'r', 'rabu', 'rada', 'ragu', 'raih', 'raisha', 'raishawdnt', 'rajin', 'rame', 'rancang', 'rang', 'rangin', 'rangkai', 'rangkap', 'rangkum', 'rantau', 'rapat', 'rapihin', 'rasai', 'ratus', 'rau', 'reach', 'react', 'read', 'ready', 'real', 'realis', 'realisasi', 'really', 'reason', 'rebah', 'recap', 'referensi', 'refused', 'regional', 'regis', 'regist', 'register', 'registration', 'regular', 'regulasi', 'reguler', 'rejected', 'rejecting', 'rek', 'rekan', 'rekendasi', 'rekening', 'rekognisi', 'rekomen', 'rekomendasi', 'rekomenin', 'rekrut', 'rektor', 'rela', 'relasi', 'relevan', 'remarked', 'remember', 'remote', 'rencana', 'renung', 'rep', 'reply', 'report', 'repost', 'repot', 'request', 'rese', 'research', 'resmi', 'respon', 'respons', 'responsif', 'restart', 'restu', 'retweet', 'review', 'reviewnya', 'revou', 'reza', 'rezeki', 'ri', 'ribet', 'ribu', 'ric', 'richy', 'ride', 'right', 'ringan', 'ringkas', 'riset', 'ristek', 'risza', 'riweh', 'riweuh', 'robotics', 'ruang', 'rudy', 'rugi', 'rumah', 'rumpun', 'rupa', 'sabar', 'sabtu', 'sad', 'sadar', 'safety', 'saftar', 'sahabat', 'saham', 'saking', 'sakit', 'saksi', 'saku', \n",
    "                                    'salah', 'salam', 'salty', 'sambel', 'sambi', 'sambung', 'sambut', 'samsek', 'sangka', 'santai', 'sanusi', 'sapa', 'sapi', 'saran', 'sarasehan', 'sardo', 'sarjana', 'sasar', 'sat', 'saturday', 'save', 'sayang', 'sbmptn', 'sbnrnya', 'scholarship', 'scm', 'screening', 'scrol', 'sd', 'sdm', 'sdn', 'sdngkan', 'sdr', 'seaqil', 'search', 'sebar', 'sebel', 'sebnya', 'section', 'sedia', 'sedih', 'segan', 'sehat', 'sekarg', 'sekian', 'sekira', 'sekjen', 'sekolah', 'sekre', 'sektor', 'selamat', 'selasa', 'seleksi', 'selenggara', 'selesai', 'self', 'seliwer', 'sem', 'semalem', 'semangaat', 'semangat', 'semangatin', 'semanggaat', 'semarang', 'sembuh', 'semester', 'semhas', 'seminar', 'sempro', 'semrawut', 'sems', 'semster', 'semt', 'senang', 'send', 'sender', 'sengaja', 'senin', 'senyum', 'sepede', 'sepenuh', 'sepi', 'sept', 'september', 'seragam', 'serang', 'seringai', 'serius', 'sertif', 'sertifikasi', 'sertifikat', 'seru', 'server', 'servernya', 'sesak', 'sesal', 'sesi', 'session', 'sesuai', 'sesuaiin', 'set', 'sh', 'shalu', 'share', 'sharing', 'shock', 'shope', 'showcase', 'si', 'sia', 'siang', 'siapin', 'siasat', 'sib', 'sibuk', 'sidang', 'siddiq', 'sign', 'signed', 'sih', 'siin', 'sikadu', 'sila', 'silang', 'siluet', 'simak', 'simul', 'simulasi', 'sinarm', 'sinkron', 'sinyal', 'sip', 'sipu', 'sisa', 'sisi', 'sistem', 'sit', 'sitiaisyah', 'situ', 'situasi', 'skadar', 'skema', 'skeptis', 'skil', 'skingame', 'skip', 'skripshit', 'skripsi', 'skripsweet', 'skrisian', 'sks', 'sksnya', 'sley', 'slnjtnya', 'slot', 'slowrespon', 'smart', 'sme', 'smes', 'smester', 'smk', 'smst', 'smstr', 'smt', 'smuanya', 'sngat', 'soalmya', 'sob', 'sobat', 'softskil', 'soialisasi', 'sok', 'solo', 'solopos', 'solusi', 'sombong', 'someone', 'soon', 'sore', 'sorry', 'sosialisasi', 'sosio', 'sosiometri', 'sosmed', 'sound', 'sowry', 'spam', 'spatial', 'speaker', 'speaking', 'specta', 'spesifik', 'spil', 'spiral', 'spjtm', 'sponsor', 'spreadsheets', 'sprtinya', 'sptjm', 'sptjmnya', 'sptmj', 'sr', 'start', 'startup', 'statement', 'status', 'stauku', 'stechoq', 'stil', 'stop', 'stori', 'story', 'stres', 'students', 'studi', 'study', 'stupen', 'suasana', 'sub', 'submit', 'subsidi', 'succes', 'such', 'sucks', 'suhu', 'sujud', 'suka', 'sukses', 'sulit', 'sumatera', 'sumber', 'sumpa', 'sumpah', 'sungguh', 'super', 'supportive', 'supportnya', 'sur', 'surabaya', 'surat', 'surbin', 'suruh', 'survei', 'survey', 'survive', 'susah', 'suskses', 'sv', 'sw', 'swasta', 'swipe', 'switch', 'syafira', 'syarat', 'system', 'syukur', 't', 'ta', 'tabung', 'tag', 'tahan', 'tahap', 'tahi', 'takdir', 'take', 'taking', 'takut', 'talenta', 'talk', 'tanah', 'tanda', 'tandatangani', 'tangan', 'tanggal', 'tanggung', 'tangsel', 'tani', 'tanyatanya', 'tara', 'tarik', 'tata', 'tau', 'taut', 'tawar', 'tb', 'tbh', 'tbk', 'tbtb', 'teach', 'tebal', 'tech', 'technology', 'technopark', 'tegang', 'teh', 'teknik', 'teknologi', 'tel', 'telat', 'tele', 'telegram', 'telek', 'telepon', 'telkom', 'telkomsel', 'telutizen', 'telyu', 'tema', 'teman', 'tematik', 'tembak', 'tembus', 'tembusin', 'temenku', 'template', 'templatenya', 'tempuh', 'temu', 'tenaga', 'tenang', 'tengkorak', 'teori', 'ter', 'tera', 'terampil', 'terang', 'terbit', 'terdahululuku', 'terima', 'terimakasih', 'terjun', 'terkadang', 'termin', 'terna', 'ternyta', 'tertawa', 'tes', 'test', 'testimoni', 'testimoninya', 'teteh', 'textbook', 'tf', 'thank', 'thanks', 'thanku', 'thankyou', 'the', 'theo', 'theory', 'there', 'things', 'thinking', 'this', 'thohir', 'thread', 'thx', 'ti', 'tia', 'tidur', 'tiket', 'tiktok', 'tikus', 'tim', 'timbang', 'time', 'timeline', 'timelinenya', 'timer', 'timgerilya', 'timingnya', 'tindak', 'tinggal', 'tingkat', 'tips', 'tipu', 'titipin', 'tjahjanto', 'tkt', 'tmi', 'tmnan', 'tmnku', 'today', 'toefl', 'toeicku', 'tolak', 'tombol', 'tonton', 'topik', 'total', 'totalitas', 'tpt', 'tq', 'track', 'tragedi', 'trainer', 'transfer', 'transkip', 'transkrip', 'translate', 'transparansi', 'transportasi', 'tratap', 'trauma', 'tread', 'trend', 'tribe', 'tricks', 'trimakasi', 'trisakti', 'tros', 'trust', 'ttd', 'ttpi', 'tua', 'tubes', 'tugas', 'tuh', 'tuhaaaan', 'tuhan', 'tuju', 'tukar', 'tulang', 'tulis', 'tumpuk', 'tunduk', 'tunggu', 'turun', 'tutor', 'tutup', 'tv', 'tweet', 'twibbon', 'twibbonnya', 'twitter', 'twt', 'typo', 'tysm', 'uad', 'uaf', 'uang', 'uas', 'ub', 'ubah', 'udaaah', 'udb', 'ueue', 'ug', 'ugj', 'ugm', 'ui', 'uix', 'uji', 'ujung', 'ukdw', 'ukm', 'ukt', 'ulang', 'ultah', 'um', 'umbridge', 'umsfes', 'umsu', 'umuslim', 'un', 'unair', 'undang', 'underpaid', 'undip', 'undur', 'uneg', 'uner', 'unggah', 'unggul', 'uni', 'unila', 'universe', 'universitas', 'univnya', 'unj', 'unm', 'unnes', 'unpad', 'unpaders', 'unpaid', 'unsr', 'unsri', 'untung', 'uny', 'up', 'upa', 'upaya', 'update', 'upgrade', 'upi', 'upload', 'upnjkt', 'upt', 'urai', 'urgent', 'uring', 'urus', 'us', 'usaha', 'user', 'username', 'usn', 'usung', 'utama', 'utara', 'utbk', 'utuh', 'ux', 'uy', 'valid', 'valiid', 'vendor', 'verif', 'verified', 'verifikasi', 'via', 'vibes', 'video', 'visa', 'vision', 'visual', 'vokasi', 'volunteer', 'wa', 'wabarakatuh', 'wadek', 'wae', 'wajah', 'wajar', 'wajib', 'wak', 'wake', 'wakil', 'wal', 'wamen', 'wanita', 'war', 'wara', 'warahmatullah', 'warek', 'warga', 'warna', 'warung', 'was', 'wawancara', 'way', 'we', 'web', 'webinar', 'webnya', 'webnyo', 'website', 'websitenya', 'weekend', 'wel', 'welcome', 'wes', 'wfa', 'wfh', 'wfo', 'what', 'whos', 'why', 'wib', 'widianti', 'widya', 'wifi', 'wifinya', 'wijaya', 'wild', 'win', 'wing', 'wir', 'wirausaha', 'wiri', 'wish', 'wishlist', 'wisuda', 'wkkwkwkwk', 'wkskwkwk', 'wkw', 'wkwk', 'wkwkkwkw', 'wkwkw', 'wkwkwk', 'wkwkwkkwk', 'wkwkwkwkw', 'wo', 'woe', 'woi', 'work', 'worker', 'workshop', 'worst', 'wos', 'wow', 'woy', 'wrwrrwrw', 'wtf', 'xdinaryheroes', 'xixix', 'xixixi', 'yaallah', 'yakali', 'yakan', 'yallah', 'yauda', 'yaudah', 'yaw', 'yay', 'yayasan', 'ybs', 'ye', 'yea', 'yeorobuun', 'yes', 'yogyakarta', 'you', 'your', 'youtube', 'yt', 'yudisium', 'yuk', 'yukz', 'yupi', 'zaky', 'zen', 'zenius', 'zoom', 'zoomnya']]"
   ]
  },
  {
   "cell_type": "code",
   "execution_count": 24,
   "id": "e82f7981",
   "metadata": {},
   "outputs": [],
   "source": [
    "features_used.to_excel(r'C:\\Users\\ASUS\\skripsi\\features_used.xlsx', index = False)"
   ]
  },
  {
   "cell_type": "markdown",
   "id": "5485db6a",
   "metadata": {},
   "source": [
    "# Training untuk Sentimen"
   ]
  },
  {
   "cell_type": "code",
   "execution_count": 25,
   "id": "bcd91846",
   "metadata": {},
   "outputs": [],
   "source": [
    "# Splitting Data (Data Training dan Data Testing)\n",
    "train, test = train_test_split(sample_model, test_size=0.2, random_state=1)\n",
    "X_train = train['preprocessed'].values\n",
    "X_test = test['preprocessed'].values\n",
    "y_train = train['Sentimen']\n",
    "y_test = test['Sentimen']\n",
    "\n",
    "# Menghitung Jumlah Masing-masing Data Train dan Test\n",
    "# y_train.count()\n",
    "# y_test.count()\n",
    "# y_train.value_counts()\n",
    "# y_test.value_counts()"
   ]
  },
  {
   "cell_type": "code",
   "execution_count": 26,
   "id": "e502aa92",
   "metadata": {},
   "outputs": [
    {
     "data": {
      "text/html": [
       "<div>\n",
       "<style scoped>\n",
       "    .dataframe tbody tr th:only-of-type {\n",
       "        vertical-align: middle;\n",
       "    }\n",
       "\n",
       "    .dataframe tbody tr th {\n",
       "        vertical-align: top;\n",
       "    }\n",
       "\n",
       "    .dataframe thead th {\n",
       "        text-align: right;\n",
       "    }\n",
       "</style>\n",
       "<table border=\"1\" class=\"dataframe\">\n",
       "  <thead>\n",
       "    <tr style=\"text-align: right;\">\n",
       "      <th></th>\n",
       "      <th>link</th>\n",
       "      <th>preprocessed</th>\n",
       "      <th>Sentimen</th>\n",
       "    </tr>\n",
       "  </thead>\n",
       "  <tbody>\n",
       "    <tr>\n",
       "      <th>1346</th>\n",
       "      <td>https://twitter.com/icemashi/status/1613212101...</td>\n",
       "      <td>colle sepi interact abt magang msib sender kir...</td>\n",
       "      <td>0</td>\n",
       "    </tr>\n",
       "    <tr>\n",
       "      <th>453</th>\n",
       "      <td>https://twitter.com/gemijni/status/16042796082...</td>\n",
       "      <td>msib buka tuh</td>\n",
       "      <td>0</td>\n",
       "    </tr>\n",
       "    <tr>\n",
       "      <th>58</th>\n",
       "      <td>https://twitter.com/subbiminal/status/16190115...</td>\n",
       "      <td>smt kapai kalo terima msib</td>\n",
       "      <td>0</td>\n",
       "    </tr>\n",
       "    <tr>\n",
       "      <th>575</th>\n",
       "      <td>https://twitter.com/katjiw/status/161178648609...</td>\n",
       "      <td>anjg senang banget cok lulus msib puji tuhan k...</td>\n",
       "      <td>1</td>\n",
       "    </tr>\n",
       "    <tr>\n",
       "      <th>777</th>\n",
       "      <td>https://twitter.com/icedtaeee/status/162057497...</td>\n",
       "      <td>baca twt doain gue pre test salah usaha gue ap...</td>\n",
       "      <td>1</td>\n",
       "    </tr>\n",
       "    <tr>\n",
       "      <th>...</th>\n",
       "      <td>...</td>\n",
       "      <td>...</td>\n",
       "      <td>...</td>\n",
       "    </tr>\n",
       "    <tr>\n",
       "      <th>715</th>\n",
       "      <td>https://twitter.com/collegemenfess/status/1498...</td>\n",
       "      <td>alhamdulillah tolak ratus lamar magang puluh a...</td>\n",
       "      <td>0</td>\n",
       "    </tr>\n",
       "    <tr>\n",
       "      <th>905</th>\n",
       "      <td>https://twitter.com/amigyue/status/16242036577...</td>\n",
       "      <td>tau sosialisasi msib kampus msib sisa sks mini...</td>\n",
       "      <td>0</td>\n",
       "    </tr>\n",
       "    <tr>\n",
       "      <th>1096</th>\n",
       "      <td>https://twitter.com/lalapanlele_/status/155515...</td>\n",
       "      <td>terima bpjs sehat</td>\n",
       "      <td>0</td>\n",
       "    </tr>\n",
       "    <tr>\n",
       "      <th>235</th>\n",
       "      <td>https://twitter.com/daymash_/status/1421642539...</td>\n",
       "      <td>konversi sks msib jurus prodi bijak dikomunika...</td>\n",
       "      <td>0</td>\n",
       "    </tr>\n",
       "    <tr>\n",
       "      <th>1061</th>\n",
       "      <td>https://twitter.com/collegemenfess/status/1603...</td>\n",
       "      <td>msib orang guys jurus mnj btw</td>\n",
       "      <td>0</td>\n",
       "    </tr>\n",
       "  </tbody>\n",
       "</table>\n",
       "<p>1128 rows × 3 columns</p>\n",
       "</div>"
      ],
      "text/plain": [
       "                                                   link  \\\n",
       "1346  https://twitter.com/icemashi/status/1613212101...   \n",
       "453   https://twitter.com/gemijni/status/16042796082...   \n",
       "58    https://twitter.com/subbiminal/status/16190115...   \n",
       "575   https://twitter.com/katjiw/status/161178648609...   \n",
       "777   https://twitter.com/icedtaeee/status/162057497...   \n",
       "...                                                 ...   \n",
       "715   https://twitter.com/collegemenfess/status/1498...   \n",
       "905   https://twitter.com/amigyue/status/16242036577...   \n",
       "1096  https://twitter.com/lalapanlele_/status/155515...   \n",
       "235   https://twitter.com/daymash_/status/1421642539...   \n",
       "1061  https://twitter.com/collegemenfess/status/1603...   \n",
       "\n",
       "                                           preprocessed  Sentimen  \n",
       "1346  colle sepi interact abt magang msib sender kir...         0  \n",
       "453                                       msib buka tuh         0  \n",
       "58                           smt kapai kalo terima msib         0  \n",
       "575   anjg senang banget cok lulus msib puji tuhan k...         1  \n",
       "777   baca twt doain gue pre test salah usaha gue ap...         1  \n",
       "...                                                 ...       ...  \n",
       "715   alhamdulillah tolak ratus lamar magang puluh a...         0  \n",
       "905   tau sosialisasi msib kampus msib sisa sks mini...         0  \n",
       "1096                                  terima bpjs sehat         0  \n",
       "235   konversi sks msib jurus prodi bijak dikomunika...         0  \n",
       "1061                      msib orang guys jurus mnj btw         0  \n",
       "\n",
       "[1128 rows x 3 columns]"
      ]
     },
     "execution_count": 26,
     "metadata": {},
     "output_type": "execute_result"
    }
   ],
   "source": [
    "train"
   ]
  },
  {
   "cell_type": "code",
   "execution_count": 27,
   "id": "61d586e6",
   "metadata": {},
   "outputs": [
    {
     "name": "stdout",
     "output_type": "stream",
     "text": [
      "[1346, 453, 58, 575, 777, 239, 1009, 1128, 27, 529, 126, 694, 597, 764, 880, 1219, 912, 90, 639, 778, 262, 1024, 941, 148, 929, 919, 78, 607, 631, 35, 460, 670, 1344, 6, 1116, 701, 983, 1092, 303, 1226, 216, 807, 1310, 496, 202, 925, 464, 310, 1119, 1351, 8, 241, 800, 535, 785, 725, 861, 547, 809, 275, 821, 979, 403, 632, 1167, 62, 596, 315, 859, 1240, 426, 1315, 383, 1153, 978, 154, 577, 1331, 1051, 188, 189, 735, 1023, 242, 976, 1290, 1345, 351, 41, 382, 99, 820, 746, 1274, 1131, 612, 589, 208, 83, 1251, 250, 76, 228, 1201, 536, 1224, 480, 991, 815, 1029, 623, 698, 446, 1093, 952, 471, 853, 660, 672, 705, 1299, 842, 200, 349, 963, 1030, 1242, 1176, 549, 1154, 1223, 921, 674, 793, 355, 1065, 613, 1204, 211, 180, 395, 244, 994, 274, 205, 487, 286, 1163, 599, 220, 1369, 428, 34, 85, 234, 156, 331, 776, 868, 579, 1016, 400, 1244, 1381, 661, 813, 924, 1286, 1134, 1090, 1258, 1357, 1253, 1144, 264, 867, 1272, 393, 1165, 855, 53, 804, 541, 347, 726, 329, 140, 1246, 323, 1022, 134, 720, 1143, 553, 363, 10, 909, 581, 644, 490, 314, 494, 584, 817, 679, 957, 1104, 602, 104, 498, 370, 534, 1047, 942, 125, 768, 407, 1287, 634, 683, 669, 1200, 512, 916, 935, 139, 299, 260, 1158, 473, 165, 226, 1113, 191, 306, 891, 1083, 1238, 482, 1140, 862, 1062, 320, 1127, 1304, 17, 692, 430, 1375, 947, 1248, 819, 948, 207, 237, 1084, 345, 900, 664, 340, 833, 457, 175, 1010, 459, 638, 571, 1218, 641, 653, 1132, 620, 1184, 463, 598, 326, 625, 1360, 930, 1172, 59, 13, 1402, 754, 877, 1199, 852, 913, 322, 700, 441, 1365, 840, 554, 256, 560, 1148, 1285, 1259, 72, 257, 1213, 2, 1284, 1101, 636, 367, 1066, 782, 479, 993, 926, 585, 117, 1007, 5, 1314, 864, 1091, 851, 622, 445, 136, 11, 966, 332, 604, 568, 1109, 1130, 1353, 54, 774, 233, 84, 799, 64, 187, 718, 151, 1133, 1185, 388, 137, 172, 530, 1373, 455, 1108, 594, 1005, 790, 374, 1281, 659, 160, 50, 1089, 977, 32, 238, 650, 354, 164, 486, 709, 1250, 755, 295, 895, 474, 680, 472, 1045, 708, 663, 808, 97, 996, 576, 834, 875, 550, 308, 1097, 729, 962, 433, 582, 1376, 980, 1124, 752, 1021, 1103, 567, 619, 492, 385, 281, 1157, 483, 282, 437, 745, 548, 750, 969, 719, 1081, 1147, 673, 1347, 686, 1188, 1366, 121, 1122, 699, 742, 16, 1393, 812, 1261, 922, 1170, 293, 791, 938, 106, 23, 710, 69, 888, 425, 1266, 972, 103, 555, 1205, 1048, 830, 1325, 74, 507, 1276, 218, 1249, 1000, 265, 825, 763, 434, 110, 987, 40, 1173, 276, 339, 1400, 1014, 185, 985, 744, 828, 1078, 885, 61, 578, 655, 1032, 387, 127, 1270, 251, 1216, 898, 307, 193, 646, 502, 33, 1057, 1397, 57, 1260, 358, 45, 1123, 1073, 831, 68, 318, 291, 46, 277, 1301, 297, 224, 816, 1265, 364, 1015, 366, 0, 986, 66, 1082, 31, 937, 1085, 28, 294, 1162, 113, 245, 415, 769, 161, 678, 411, 1106, 992, 1059, 1341, 1, 247, 1295, 665, 1339, 1053, 1291, 92, 381, 114, 1027, 254, 429, 588, 178, 1028, 389, 132, 997, 1323, 570, 289, 246, 1195, 775, 552, 89, 192, 892, 1387, 436, 894, 841, 651, 857, 146, 118, 887, 1354, 1006, 802, 1121, 982, 1178, 26, 676, 14, 500, 82, 961, 1192, 984, 600, 273, 684, 1232, 466, 1297, 1233, 662, 447, 371, 557, 854, 970, 271, 605, 449, 1206, 523, 214, 344, 838, 1229, 147, 1268, 1068, 723, 412, 990, 1262, 783, 342, 1012, 173, 943, 377, 931, 738, 305, 543, 989, 1245, 18, 285, 221, 953, 22, 1118, 116, 920, 406, 361, 95, 1159, 261, 1234, 1135, 1017, 179, 102, 574, 716, 563, 184, 467, 380, 903, 603, 71, 1228, 396, 874, 923, 346, 951, 1396, 29, 1171, 796, 39, 504, 157, 932, 658, 733, 635, 1247, 1063, 1333, 394, 52, 1126, 359, 1231, 402, 421, 448, 677, 284, 592, 227, 959, 353, 822, 771, 835, 9, 1174, 939, 30, 1257, 691, 1141, 1003, 334, 873, 805, 462, 7, 517, 197, 296, 392, 1037, 1256, 1129, 1139, 773, 510, 1038, 122, 688, 378, 38, 870, 1237, 846, 1408, 1071, 162, 67, 124, 551, 4, 1243, 845, 915, 533, 1405, 958, 1207, 300, 611, 747, 287, 748, 427, 956, 608, 863, 1403, 1044, 955, 158, 1069, 908, 506, 356, 352, 844, 836, 946, 667, 886, 1182, 333, 153, 787, 501, 721, 373, 590, 312, 42, 1098, 645, 1203, 971, 522, 1146, 762, 1197, 1060, 704, 1180, 1263, 944, 168, 360, 1018, 1392, 743, 272, 519, 814, 818, 734, 1327, 1386, 1102, 1394, 128, 998, 1275, 544, 379, 203, 343, 1210, 1313, 518, 488, 1385, 917, 232, 794, 1324, 514, 1395, 511, 112, 1350, 217, 499, 1380, 934, 225, 1042, 1209, 1308, 397, 540, 328, 795, 848, 1359, 93, 213, 770, 337, 803, 212, 618, 36, 105, 362, 850, 756, 758, 365, 856, 1189, 1407, 565, 249, 476, 781, 454, 1329, 1107, 230, 652, 70, 610, 1355, 1317, 1368, 410, 1340, 338, 1025, 43, 539, 601, 965, 1267, 171, 417, 837, 1181, 806, 882, 1319, 637, 423, 727, 967, 376, 524, 438, 1221, 150, 1410, 1282, 981, 954, 1273, 143, 717, 526, 583, 975, 566, 440, 1155, 174, 1196, 123, 138, 879, 1075, 732, 624, 784, 182, 617, 690, 1241, 240, 458, 681, 465, 1187, 1191, 145, 206, 1227, 324, 657, 1292, 714, 1352, 1338, 79, 1374, 687, 166, 229, 1363, 1252, 740, 100, 290, 444, 878, 1077, 739, 391, 86, 1409, 666, 1271, 475, 44, 788, 1002, 1137, 24, 832, 1193, 591, 1388, 973, 1056, 109, 1160, 222, 1052, 722, 55, 1390, 253, 1072, 642, 545, 477, 949, 843, 63, 413, 384, 974, 884, 451, 656, 369, 689, 219, 1322, 21, 760, 869, 420, 199, 450, 1161, 1019, 911, 696, 811, 1236, 1382, 910, 1049, 505, 1279, 1255, 405, 317, 183, 1120, 1311, 609, 626, 485, 278, 630, 20, 170, 901, 1039, 176, 327, 706, 1222, 470, 1302, 266, 615, 130, 865, 1358, 1307, 489, 606, 1217, 1164, 416, 152, 889, 849, 279, 1034, 269, 96, 210, 569, 1364, 871, 532, 1361, 1099, 712, 77, 263, 1406, 149, 469, 564, 461, 1277, 896, 695, 1175, 928, 1326, 1214, 586, 243, 1111, 751, 1348, 1312, 648, 1190, 595, 313, 933, 155, 1303, 1150, 999, 1046, 1306, 25, 196, 1088, 15, 1321, 883, 621, 1050, 1067, 497, 792, 964, 515, 1378, 1095, 542, 456, 633, 431, 627, 728, 1288, 209, 316, 513, 1337, 829, 319, 1031, 141, 1110, 753, 1001, 1239, 580, 562, 398, 668, 252, 907, 468, 914, 357, 1278, 1300, 1202, 1305, 508, 749, 129, 144, 960, 847, 715, 905, 1096, 235, 1061]\n"
     ]
    }
   ],
   "source": [
    "train_index = train.index.values.tolist()\n",
    "train_index\n",
    "\n",
    "with np.printoptions(threshold=np.inf):\n",
    "    print(train_index)"
   ]
  },
  {
   "cell_type": "code",
   "execution_count": 28,
   "id": "c718aa60",
   "metadata": {},
   "outputs": [],
   "source": [
    "train_rows = features_used.loc[train_index]\n",
    "train_rows.to_excel(r'C:\\Users\\ASUS\\skripsi\\train_rows.xlsx', index = True)"
   ]
  },
  {
   "cell_type": "code",
   "execution_count": 29,
   "id": "5398bb33",
   "metadata": {},
   "outputs": [
    {
     "data": {
      "text/plain": [
       "(1128, 2647)"
      ]
     },
     "execution_count": 29,
     "metadata": {},
     "output_type": "execute_result"
    }
   ],
   "source": []
  },
  {
   "cell_type": "code",
   "execution_count": null,
   "id": "dbf4fdd5",
   "metadata": {},
   "outputs": [],
   "source": [
    "index_sv = best_model.named_steps['svc'].support_\n",
    "index_sv = index_sv.tolist()\n",
    "with np.printoptions(threshold=np.inf):\n",
    "    print(index_sv)\n",
    "\n",
    "df_model = features_used.loc[index_sv]"
   ]
  },
  {
   "cell_type": "code",
   "execution_count": 16,
   "id": "bf4b8ccb",
   "metadata": {},
   "outputs": [
    {
     "data": {
      "text/plain": [
       "<AxesSubplot:title={'center':'Proporsi Sentimen pada Sampel'}>"
      ]
     },
     "execution_count": 16,
     "metadata": {},
     "output_type": "execute_result"
    },
    {
     "data": {
      "image/png": "[encoded data removed]",
      "text/plain": [
       "<Figure size 792x432 with 1 Axes>"
      ]
     },
     "metadata": {},
     "output_type": "display_data"
    }
   ],
   "source": [
    "# Proporsi Sentimen pada Sampel \n",
    "\n",
    "count_sentimen = sample_model.groupby('Sentimen').size().reset_index(name='count')\n",
    "count_sentimen['Sentimen'] = count_sentimen['Sentimen'].map({1: 'positif', 0: 'netral', -1:'negatif'})\n",
    "count_sentimen = count_sentimen.set_index('Sentimen')\n",
    "\n",
    "count_sentimen.plot.pie(y='count', title = 'Proporsi Sentimen pada Sampel', legend = False, \n",
    "                        autopct = '%1.1f%%', figsize = (11,6), ylabel = '')"
   ]
  },
  {
   "cell_type": "code",
   "execution_count": 17,
   "id": "3241b1db",
   "metadata": {},
   "outputs": [
    {
     "data": {
      "text/plain": [
       "Sentimen\n",
       "-1    247\n",
       " 0    944\n",
       " 1    220\n",
       "dtype: int64"
      ]
     },
     "execution_count": 17,
     "metadata": {},
     "output_type": "execute_result"
    }
   ],
   "source": [
    "# Melihat Jumlah Data Masing-masing Sentimen\n",
    "\n",
    "sample_model.groupby('Sentimen').size()"
   ]
  },
  {
   "cell_type": "code",
   "execution_count": 18,
   "id": "1a97af0d",
   "metadata": {},
   "outputs": [],
   "source": [
    "# Baseline\n",
    "\n",
    "pipeline_svm = make_pipeline(vectorizer, \n",
    "                            SVC(probability=True, C = 1.0, kernel=\"linear\", class_weight=\"balanced\"))\n",
    "\n",
    "baseline = pipeline_svm.fit(X_train, y_train)\n",
    "\n",
    "prediction_svm = pipeline_svm.predict(X_test)"
   ]
  },
  {
   "cell_type": "code",
   "execution_count": 19,
   "id": "b7850055",
   "metadata": {},
   "outputs": [],
   "source": [
    "# Metrics Evaluation Function\n",
    "\n",
    "def results(model, X, y):\n",
    "    pred_proba = model.predict_proba(X)[:, 1]\n",
    "    pred = model.predict(X)        \n",
    "    \n",
    "    acc = balanced_accuracy_score(y, pred)\n",
    "    f1 = f1_score(y, pred, average='weighted')\n",
    "    prec = precision_score(y, pred, average='weighted')\n",
    "    rec = recall_score(y, pred, average='weighted')\n",
    "    result = {'accuracy': acc, 'f1': f1,  'precision': prec, 'recall': rec}\n",
    "    return result"
   ]
  },
  {
   "cell_type": "code",
   "execution_count": 20,
   "id": "a5ca5f25",
   "metadata": {},
   "outputs": [
    {
     "data": {
      "text/plain": [
       "{'accuracy': 0.6552467140702435,\n",
       " 'f1': 0.7306770196255686,\n",
       " 'precision': 0.730010048168827,\n",
       " 'recall': 0.7314487632508834}"
      ]
     },
     "execution_count": 20,
     "metadata": {},
     "output_type": "execute_result"
    }
   ],
   "source": [
    "results(baseline, X_test, y_test)"
   ]
  },
  {
   "cell_type": "code",
   "execution_count": 19,
   "id": "0a51d74d",
   "metadata": {},
   "outputs": [],
   "source": [
    "# Hyperparameter Tuning\n",
    "\n",
    "# kfolds = StratifiedKFold(shuffle=True, random_state=42)\n",
    "# pipeline = make_pipeline(vectorizer, \n",
    "#                         SVC(probability = True, kernel=\"linear\", class_weight=\"balanced\"))\n",
    "# main_params = {\"tfidfvectorizer__max_features\": [1000, 2000, 3000, 4000],\n",
    "#               \"svc__C\": [0.0001, 0.001, 0.01, 0.1, 1.0, 10, 100, 1000],\n",
    "#               \"svc__gamma\": ['scale', 'auto'],\n",
    "#               \"svc__decision_function_shape\": ['ovo', 'ovr'],\n",
    "#               \"svc__random_state\" : [42]}\n",
    "# params_grid = [{**main_params, \"svc__kernel\" : [\"linear\", \"rbf\"]},\n",
    "#               {**main_params, \"svc__coef0\" : np.arange(0, 2, 0.1), \"svc__kernel\" : [\"poly\", \"sigmoid\"]}]\n",
    "# score = make_scorer(f1_score, average='weighted')"
   ]
  },
  {
   "cell_type": "code",
   "execution_count": 20,
   "id": "043ea595",
   "metadata": {},
   "outputs": [
    {
     "name": "stdout",
     "output_type": "stream",
     "text": [
      "Fitting 5 folds for each of 5376 candidates, totalling 26880 fits\n"
     ]
    },
    {
     "data": {
      "text/plain": [
       "GridSearchCV(cv=StratifiedKFold(n_splits=5, random_state=42, shuffle=True),\n",
       "             estimator=Pipeline(steps=[('tfidfvectorizer',\n",
       "                                        TfidfVectorizer(tokenizer=<function tokenize at 0x0000029D0798A4C0>)),\n",
       "                                       ('svc',\n",
       "                                        SVC(class_weight='balanced',\n",
       "                                            kernel='linear',\n",
       "                                            probability=True))]),\n",
       "             n_jobs=-1,\n",
       "             param_grid=[{'svc__C': [0.0001, 0.001, 0.01, 0.1, 1.0, 10, 100,\n",
       "                                     1000],\n",
       "                          'svc__decision_functi...\n",
       "                                     1000],\n",
       "                          'svc__coef0': array([0. , 0.1, 0.2, 0.3, 0.4, 0.5, 0.6, 0.7, 0.8, 0.9, 1. , 1.1, 1.2,\n",
       "       1.3, 1.4, 1.5, 1.6, 1.7, 1.8, 1.9]),\n",
       "                          'svc__decision_function_shape': ['ovo', 'ovr'],\n",
       "                          'svc__gamma': ['scale', 'auto'],\n",
       "                          'svc__kernel': ['poly', 'sigmoid'],\n",
       "                          'svc__random_state': [42],\n",
       "                          'tfidfvectorizer__max_features': [1000, 2000, 3000,\n",
       "                                                            4000]}],\n",
       "             scoring=make_scorer(f1_score, average=weighted), verbose=1)"
      ]
     },
     "execution_count": 20,
     "metadata": {},
     "output_type": "execute_result"
    }
   ],
   "source": [
    "# Grid Search CV\n",
    "\n",
    "# grid_svm = GridSearchCV(pipeline, \n",
    "#                        params_grid,\n",
    "#                        cv = kfolds,\n",
    "#                        scoring = score,\n",
    "#                        verbose = 1,\n",
    "#                        n_jobs = -1)\n",
    "\n",
    "# grid_svm.fit(X_train, y_train)"
   ]
  },
  {
   "cell_type": "code",
   "execution_count": 21,
   "id": "a85a7889",
   "metadata": {},
   "outputs": [
    {
     "data": {
      "text/plain": [
       "0.6820153837434879"
      ]
     },
     "execution_count": 21,
     "metadata": {},
     "output_type": "execute_result"
    }
   ],
   "source": [
    "# grid_svm.best_score_"
   ]
  },
  {
   "cell_type": "code",
   "execution_count": 22,
   "id": "8c91c438",
   "metadata": {},
   "outputs": [
    {
     "data": {
      "text/plain": [
       "{'svc__C': 0.1,\n",
       " 'svc__coef0': 1.8,\n",
       " 'svc__decision_function_shape': 'ovo',\n",
       " 'svc__gamma': 'scale',\n",
       " 'svc__kernel': 'poly',\n",
       " 'svc__random_state': 42,\n",
       " 'tfidfvectorizer__max_features': 3000}"
      ]
     },
     "execution_count": 22,
     "metadata": {},
     "output_type": "execute_result"
    }
   ],
   "source": [
    "# grid_svm.best_params_"
   ]
  },
  {
   "cell_type": "code",
   "execution_count": 23,
   "id": "0c265027",
   "metadata": {},
   "outputs": [
    {
     "data": {
      "text/plain": [
       "Pipeline(steps=[('tfidfvectorizer',\n",
       "                 TfidfVectorizer(max_features=3000,\n",
       "                                 tokenizer=<function tokenize at 0x0000029D0798A4C0>)),\n",
       "                ('svc',\n",
       "                 SVC(C=0.1, class_weight='balanced', coef0=1.8,\n",
       "                     decision_function_shape='ovo', kernel='poly',\n",
       "                     probability=True, random_state=42))])"
      ]
     },
     "execution_count": 23,
     "metadata": {},
     "output_type": "execute_result"
    }
   ],
   "source": [
    "# grid_svm.best_estimator_"
   ]
  },
  {
   "cell_type": "code",
   "execution_count": 24,
   "id": "eed21b11",
   "metadata": {},
   "outputs": [],
   "source": [
    "# gridsearch_result = pd.DataFrame(grid_svm.cv_results_)\n",
    "# gridsearch_result = gridsearch_result.sort_values(by=['rank_test_score'], ascending = True)\n",
    "# # gridsearch_result.to_csv(r'C:\\Users\\ASUS\\skripsi\\gridsearchcv2.csv', index=False)"
   ]
  },
  {
   "cell_type": "code",
   "execution_count": 25,
   "id": "a6785395",
   "metadata": {},
   "outputs": [],
   "source": [
    "# bestmodel = grid_svm.best_estimator_"
   ]
  },
  {
   "cell_type": "code",
   "execution_count": 27,
   "id": "0a3d2086",
   "metadata": {},
   "outputs": [
    {
     "data": {
      "text/plain": [
       "{'accuracy': 0.6174962292609352,\n",
       " 'f1': 0.7412305075501325,\n",
       " 'precision': 0.7557232919060693,\n",
       " 'recall': 0.7597173144876325}"
      ]
     },
     "execution_count": 27,
     "metadata": {},
     "output_type": "execute_result"
    }
   ],
   "source": [
    "# results(bestmodel, X_test, y_test)"
   ]
  },
  {
   "cell_type": "code",
   "execution_count": 21,
   "id": "d21d6238",
   "metadata": {},
   "outputs": [
    {
     "data": {
      "text/plain": [
       "Pipeline(steps=[('tfidfvectorizer',\n",
       "                 TfidfVectorizer(max_features=3000,\n",
       "                                 tokenizer=<function tokenize at 0x000001AA37D05820>)),\n",
       "                ('svc',\n",
       "                 SVC(C=0.1, class_weight='balanced', coef0=1.8,\n",
       "                     decision_function_shape='ovo', kernel='poly',\n",
       "                     probability=True, random_state=42))])"
      ]
     },
     "execution_count": 21,
     "metadata": {},
     "output_type": "execute_result"
    }
   ],
   "source": [
    "# Best Model: Kernel Polinomial (19 Juli 2023)\n",
    "\n",
    "best_model = make_pipeline(TfidfVectorizer(analyzer = 'word',\n",
    "                                       tokenizer = tokenize,\n",
    "                                       lowercase = True,\n",
    "                                       ngram_range=(1, 1),\n",
    "                                       max_features = 3000),\n",
    "                       SVC(kernel = \"poly\", \n",
    "                           class_weight = \"balanced\",\n",
    "                           decision_function_shape = \"ovo\",\n",
    "                           probability = True,\n",
    "                           coef0 = 1.8,\n",
    "                           gamma = \"scale\",\n",
    "                           random_state = 42,\n",
    "                           C = 0.1)) \n",
    "best_model.fit(X_train, y_train)"
   ]
  },
  {
   "cell_type": "code",
   "execution_count": 22,
   "id": "5707cf92",
   "metadata": {},
   "outputs": [
    {
     "data": {
      "text/plain": [
       "{'accuracy': 0.6174962292609352,\n",
       " 'f1': 0.7412305075501325,\n",
       " 'precision': 0.7557232919060693,\n",
       " 'recall': 0.7597173144876325}"
      ]
     },
     "execution_count": 22,
     "metadata": {},
     "output_type": "execute_result"
    }
   ],
   "source": [
    "results(best_model, X_test, y_test)"
   ]
  },
  {
   "cell_type": "code",
   "execution_count": 23,
   "id": "4fbad74a",
   "metadata": {
    "scrolled": true
   },
   "outputs": [
    {
     "data": {
      "text/plain": [
       "{'accuracy': 0.9858368783708601,\n",
       " 'f1': 0.9771498264502297,\n",
       " 'precision': 0.9782494421084011,\n",
       " 'recall': 0.9769503546099291}"
      ]
     },
     "execution_count": 23,
     "metadata": {},
     "output_type": "execute_result"
    }
   ],
   "source": [
    "results(best_model, X_train, y_train)"
   ]
  },
  {
   "cell_type": "code",
   "execution_count": 24,
   "id": "9e300ccc",
   "metadata": {},
   "outputs": [
    {
     "name": "stdout",
     "output_type": "stream",
     "text": [
      "['a' 'aaaaaaaaaaaaanjing' 'aaargh' 'aarrgh' 'ab' 'abang' 'abdillah'\n",
      " 'absen' 'abt' 'abu' 'ac' 'academy' 'acara' 'accepted' 'account'\n",
      " 'achievment' 'actually' 'adbis' 'admin' 'administrasi' 'adminnya' 'ado'\n",
      " 'advance' 'advice' 'advo' 'advokasi' 'aenya' 'affiliate' 'afni' 'agaknua'\n",
      " 'agraria' 'agustus' 'ahli' 'ahmad' 'ai' 'aib' 'aidah' 'aih' 'ain' 'aing'\n",
      " 'air' 'ajaib' 'ajak' 'ajang' 'ajar' 'aju' 'akademik' 'akademis'\n",
      " 'akademisi' 'akal' 'akang' 'akt' 'aktif' 'aktifitas' 'aktivitas' 'akuin'\n",
      " 'akun' 'akuntansi' 'akwkkawk' 'al' 'alaikum' 'alam' 'alami' 'alamin'\n",
      " 'alas' 'album' 'alesannya' 'alfamidi' 'alghifari' 'alhamdulilah'\n",
      " 'alhamdulillah' 'alhasil' 'alias' 'alih' 'allah' 'allowed' 'alumne'\n",
      " 'alumni' 'alur' 'always' 'aman' 'ambang' 'ambil' 'ameylia' 'amik' 'amin'\n",
      " 'amp' 'amplop' 'ampu' 'an' 'ana' 'anak' 'analisis' 'anas' 'and' 'andai'\n",
      " 'android' 'angka' 'angkat' 'anjeng' 'anjg' 'anjing' 'anjir' 'annyone'\n",
      " 'another' 'antartika' 'antra' 'antusias' 'anxiety' 'any' 'anything'\n",
      " 'anyway' 'apadeh' 'apakabar' 'apdet' 'apiary' 'aplikasi' 'apply'\n",
      " 'appreciation' 'appreticenship' 'apr' 'apresiasi' 'april' 'aprilia'\n",
      " 'arah' 'are' 'arek' 'argh' 'arti' 'arya' 'as' 'asa' 'asdos' 'asesmen'\n",
      " 'asih' 'asik' 'asing' 'askrl' 'asli' 'aspirasi' 'assalamu' 'assesment'\n",
      " 'astaghfirullah' 'astra' 'asu' 'at' 'atauga' 'ati' 'ato' 'atr' 'atsnya'\n",
      " 'atur' 'auditorium' 'aug' 'auto' 'autocad' 'available' 'aware' 'awesome'\n",
      " 'awokawok' 'ayo' 'b' 'baba' 'babak' 'babi' 'baca' 'bacain' 'backup'\n",
      " 'badan' 'badut' 'bae' 'bagen' 'bagus' 'bahagia' 'bahak' 'bahan' 'bahas'\n",
      " 'bahasa' 'baki' 'bakti' 'bal' 'bala' 'balas' 'baleek' 'balesan' 'balikin'\n",
      " 'banding' 'bandung' 'banfu' 'bang' 'banget' 'bangga' 'bangkit' 'bangkrut'\n",
      " 'bangsa' 'bangsat' 'banh' 'bank' 'bantai' 'bantu' 'bantuin' 'bantul'\n",
      " 'banyaknha' 'bara' 'barang' 'barangkali' 'barata' 'bareng' 'barusan'\n",
      " 'bas' 'basah' 'basically' 'batal' 'batalin' 'batas' 'batch' 'batin'\n",
      " 'bawa' 'bayar' 'bbh' 'be' 'beasiswa' 'beban' 'bebas' 'because' 'becus'\n",
      " 'beda' 'been' 'begimana' 'bego' 'being' 'bekal' 'bekerjasama' 'bela'\n",
      " 'beli' 'beliau' 'believe' 'bem' 'benefit' 'benerin' 'bentar' 'bentrok'\n",
      " 'bentuk' 'berangkat' 'berani' 'beranta' 'berat' 'beres' 'beristighfar'\n",
      " 'berita' 'berkas' 'berkat' 'bersertifikas' 'bersetifikat' 'bersin' 'bes'\n",
      " 'besok' 'best' 'betah' 'better' 'between' 'bgos' 'bgst' 'bgts' 'bhd' 'bi'\n",
      " 'biar' 'biaya' 'bib' 'bicara' 'bidang' 'bijak' 'bikaus' 'bikin' 'bilang'\n",
      " 'billa' 'bimawa' 'bimbang' 'bimbing' 'binar' 'binatang' 'bineka' 'bing'\n",
      " 'bingung' 'bingungin' 'bintang' 'bio' 'biro' 'birokrasi' 'biru' 'bisain'\n",
      " 'bismillah' 'bismillahhhhhhy' 'bisnis' 'bitlabs' 'bkl' 'blacklist'\n",
      " 'blgnya' 'blkg' 'blokir' 'board' 'boarding' 'bocil' 'bolah' 'bolak'\n",
      " 'book' 'bootcamp' 'boothcamp' 'bot' 'bpjs' 'bpn' 'brand' 'bri' 'brimo'\n",
      " 'brkaitan' 'bromo' 'bsi' 'btw' 'bu' 'budak' 'budaya' 'budget' 'budrek'\n",
      " 'buka' 'bukti' 'buku' 'bulat' 'bully' 'bumn' 'bunga' 'bur' 'bursa' 'buru'\n",
      " 'bus' 'busa' 'buset' 'but' 'butuh' 'buzzer' 'cabut' 'cah' 'cair' 'cal'\n",
      " 'calling' 'calon' 'campus' 'can' 'cancel' 'canda' 'cantik' 'cap' 'capai'\n",
      " 'capek' 'capital' 'career' 'cari' 'case' 'catat' 'cbt' 'cdc' 'ce' 'cek'\n",
      " 'cemberut' 'cenderung' 'centang' 'center' 'cepat' 'cerah' 'cerita'\n",
      " 'ceroboh' 'certified' 'cewek' 'cha' 'challenging' 'channel' 'chat'\n",
      " 'chatan' 'check' 'cheer' 'cias' 'ciater' 'cinta' 'circle' 'cirebon'\n",
      " 'cita' 'cium' 'ckitu' 'classes' 'clear' 'click' 'clio' 'closing'\n",
      " 'clueles' 'cmiiw' 'coal' 'coba' 'cocok' 'code' 'cok' 'colle' 'coming'\n",
      " 'communication' 'comp' 'company' 'competition' 'computer'\n",
      " 'congratulations' 'consultancy' 'consulting' 'cont' 'contoh'\n",
      " 'conversation' 'convert' 'copas' 'copywriting' 'corner' 'corp'\n",
      " 'corporate' 'counting' 'course' 'cover' 'cowok' 'cp' 'creative' 'crew'\n",
      " 'cuk' 'cuman' 'cung' 'curang' 'curgia' 'curhaaat' 'curhat' 'curhatnya'\n",
      " 'curiga' 'cus' 'cushio' 'cut' 'cuti' 'cuy' 'cv' 'cvku' 'cvnya'\n",
      " 'cybersecutiry' 'cycle' 'dada' 'daerah' 'daftar' 'daftarin' 'daftat'\n",
      " 'dafyar' 'dagdigdug' 'dah' 'daily' 'dalem' 'damn' 'dampak' 'dana'\n",
      " 'dapetnya' 'dar' 'darah' 'darimana' 'darmajaya' 'darurat' 'data' 'date'\n",
      " 'day' 'daya' 'deadlinennya' 'deadlinenya' 'deg' 'degan' 'deh' 'dekan'\n",
      " 'denda' 'dengar' 'departemen' 'derita' 'des' 'desa' 'desember' 'deserved'\n",
      " 'desk' 'desperate' 'develop' 'developer' 'developing' 'development'\n",
      " 'dftar' 'dftr' 'dha' 'diac' 'dianggep' 'diapus' 'dibales' 'dibantuin'\n",
      " 'dibarengin' 'dibayarin' 'diberitahukan' 'dibicarain' 'diblacklist'\n",
      " 'dibolehin' 'dibuatin' 'dibutuhin' 'dichat' 'dicoding' 'dicutof' 'didik'\n",
      " 'didnt' 'didownload' 'diextend' 'digangguin' 'digital' 'digitalent'\n",
      " 'digoto' 'diharusin' 'diikutin' 'diikutsertakan' 'dijanjiin' 'dijelasin'\n",
      " 'dijulidin' 'dik' 'dikit' 'dikomunikasiin' 'dikosan' 'dikosongin' 'dikti'\n",
      " 'diktiristek' 'dikumpulin' 'dilema' 'dimasing' 'dinas' 'dingin'\n",
      " 'diperpanjaang' 'dipersimple' 'diploma' 'dirayain' 'diread' 'direchat'\n",
      " 'direject' 'direktorat' 'direktur' 'dirjen' 'disampein' 'disiapin'\n",
      " 'diskusi' 'dissukcapil' 'disubmit' 'ditandatangani' 'ditanyain'\n",
      " 'ditempatin' 'ditjen' 'dituker' 'dituntasin' 'diupload' 'divisi' 'dlnya'\n",
      " 'dluan' 'dm' 'doa' 'doain' 'doang' 'dokter' 'dokumen' 'dom' 'done'\n",
      " 'dosbingku' 'dosen' 'down' 'download' 'dpl' 'dpr' 'drakoran' 'drama'\n",
      " 'dreamies' 'drip' 'drop' 'dstar' 'duduk' 'duh' 'duid' 'duit' 'dukung'\n",
      " 'duluan' 'dumb' 'dump' 'dun' 'dunia' 'durasi' 'durung' 'e' 'early'\n",
      " 'easily' 'edisi' 'education' 'eel' 'efek' 'effort' 'efisien' 'egois' 'eh'\n",
      " 'eiruueriegiwfogfbewortgrurgiurewiefu' 'either' 'ekonomi' 'ekspektasi'\n",
      " 'ekspor' 'ekspresi' 'el' 'elburdah' 'eligible' 'emaik' 'email' 'embus'\n",
      " 'emosi' 'emot' 'empet' 'enak' 'enake' 'end' 'eneg' 'energi' 'engah'\n",
      " 'enggan' 'engganya' 'engineer' 'engineering' 'enih' 'enlighten' 'entar'\n",
      " 'entitas' 'ept' 'erick' 'error' 'erti' 'es' 'esp' 'essai' 'euy'\n",
      " 'evaluasi' 'evaluation' 'everyone' 'everytime' 'excited' 'exp' 'expand'\n",
      " 'expect' 'expectation' 'expecting' 'experience' 'ey' 'facilku' 'facilnya'\n",
      " 'fakultas' 'falkor' 'fapet' 'fasilitas' 'favorit' 'fb' 'fe' 'feb'\n",
      " 'februari' 'feedback' 'feeling' 'fermentasi' 'fes' 'festival' 'fgd' 'fh'\n",
      " 'fhci' 'fia' 'fifin' 'fikom' 'fiks' 'file' 'filter' 'final' 'fine'\n",
      " 'fisip' 'fitur' 'fix' 'fkip' 'flagship' 'fo' 'fokus' 'follow' 'fomo'\n",
      " 'food' 'for' 'form' 'format' 'formulir' 'forum' 'forward' 'foto' 'fren'\n",
      " 'friendly' 'from' 'fsm' 'ful' 'fulltime' 'fun' 'future' 'gaaaak' 'gabole'\n",
      " 'gabung' 'gadapet' 'gadpt' 'gaes' 'gagal' 'gaikut' 'gairah' 'gais'\n",
      " 'gajadi' 'gaji' 'gakjelas' 'gaksi' 'galau' 'gali' 'gang' 'ganggu'\n",
      " 'ganjil' 'ganteng' 'ganti' 'gantung' 'gantungin' 'gapaham' 'gapapa'\n",
      " 'gaperlu' 'gara' 'gara-gara' 'garage' 'gars' 'gas' 'gatauah' 'gatuh'\n",
      " 'gausaah' 'gd' 'ge' 'gede' 'gedek' 'gedung' 'gegara' 'gelar' 'gelo'\n",
      " 'gembira' 'genap' 'generasi' 'gengs' 'gengsi' 'gerak' 'gerbang' 'gerilya'\n",
      " 'ges' 'geser' 'getcontact' 'gform' 'giat' 'gift' 'gila' 'gilang'\n",
      " 'giselle' 'gits' 'give' 'gjls' 'global' 'gmbr' 'gmpang' 'god' 'going'\n",
      " 'gon' 'good' 'goodbye' 'goodluck' 'google' 'got' 'gp' 'grace'\n",
      " 'graduation' 'gramedia' 'grammar' 'gratis' 'greatedu' 'group'\n",
      " 'growatparagon' 'growth' 'grup' 'gua' 'gue' 'gues' 'gugur' 'guling'\n",
      " 'gumoh' 'gunain' 'guru' 'guys' 'gweh' 'h' 'habis' 'hack' 'had' 'hadap'\n",
      " 'hadir' 'hah' 'hahaha' 'hahahha' 'hai' 'hajar' 'hak' 'hakka' 'halaman'\n",
      " 'halang' 'halo' 'han' 'handle' 'hanjur' 'happines' 'happy' 'hapus' 'hara'\n",
      " 'harap' 'harder' 'hardskil' 'harga' 'has' 'hashmicro' 'hasil' 'hasut'\n",
      " 'hataman' 'hate' 'hati' 'hayo' 'he' 'hebat' 'heh' 'hehe' 'hehehehe'\n",
      " 'heheheheh' 'hello' 'help' 'helpdesk' 'hemat' 'her' 'heran' 'heru' 'hey'\n",
      " 'hft' 'hi' 'hibur' 'hidup' 'hihi' 'hijau' 'hiks' 'hiksrot' 'hilal'\n",
      " 'hilang' 'himasta' 'himpun' 'hitam' 'hitung' 'hm' 'hmj' 'honor' 'hope'\n",
      " 'hopeles' 'hormat' 'hospitality' 'how' 'hp' 'hu' 'huaak' 'huawei'\n",
      " 'hubung' 'hubungin' 'hue' 'huehuehue' 'huft' 'huhu' 'huhuhu'\n",
      " 'huhuhuhuhuhu' 'human' 'huru' 'hustle' 'hv' 'hybrid' 'hype' 'i' 'ibadah'\n",
      " 'id' 'idak' 'identitas' 'idk' 'iduka' 'ig' 'ih' 'iib' 'iisma' 'ikhlas'\n",
      " 'iku' 'ikutab' 'ilkom' 'ilmu' 'ilpol' 'im' 'imajinasi' 'imissu' 'impi'\n",
      " 'implementasi' 'impulsif' 'inagurasi' 'include' 'ind' 'indak' 'inde'\n",
      " 'independen' 'independent' 'indikasi' 'indikator' 'indonesia'\n",
      " 'indonesians' 'industri' 'industry' 'info' 'infoin' 'informasi'\n",
      " 'informatika' 'information' 'inggris' 'inka' 'innovation' 'innovators'\n",
      " 'inovasi' 'input' 'insecure' 'insentif' 'inspect' 'inspiratif'\n",
      " 'inspiring' 'instagram' 'instal' 'installasi' 'instansi' 'institusi'\n",
      " 'insyaallah' 'interact' 'intern' 'internal' 'internasional'\n",
      " 'international' 'internet' 'internship' 'interview' 'inti' 'intv' 'ip'\n",
      " 'ipad' 'ipeka' 'ipk' 'ir' 'ira' 'iri' 'is' 'iseng' 'isi' 'istikamah'\n",
      " 'istirahat' 'isu' 'isyarat' 'itk' 'its' 'itscareercenter' 'itutuh' 'iv'\n",
      " 'iya' 'izin' 'jabanin' 'jabat' 'jadwal' 'jaga' 'jago' 'jahat' 'jajan'\n",
      " 'jakarta' 'jalan' 'jam' 'jangka' 'janji' 'jantung' 'januari' 'jaoh'\n",
      " 'jarang' 'jaring' 'jasa' 'jasmani' 'jatohnya' 'jatuh' 'jawat' 'jaya'\n",
      " 'jdnya' 'jebal' 'jebol' 'jebul' 'jedag' 'jedug' 'jelasin' 'jelek'\n",
      " 'jembatan' 'jempol' 'jenderal' 'jenis' 'jenjang' 'jepit' 'jerapah' 'jiah'\n",
      " 'jmblo' 'jobdesk' 'jogja' 'join' 'journey' 'jrusanku' 'jual' 'juang'\n",
      " 'judul' 'jujur' 'jujurly' 'jul' 'juli' 'july' 'jumat' 'jun' 'juni'\n",
      " 'jurnal' 'jurus' 'just' 'juta' 'kab' 'kabar' 'kabul' 'kabupaten' 'kabur'\n",
      " 'kacamata' 'kacau' 'kacaw' 'kadaluwarsa' 'kadang' 'kader' 'kagak' 'kait'\n",
      " 'kajur' 'kak' 'kakak' 'kaki' 'kalah' 'kalang' 'kalender' 'kali' 'kalibr'\n",
      " 'kalo' 'kamjar' 'kampus' 'kampusmerdeka' 'kanan' 'kang' 'kantor'\n",
      " 'kapaaan' 'kapai' 'kapastitas' 'kaprodi' 'karier' 'karir' 'kartu'\n",
      " 'karuan' 'karyawan' 'karyawannya' 'kas' 'kasih' 'kategori' 'kating'\n",
      " 'katingku' 'kau' 'kawands' 'kaya' 'kayak' 'kbm' 'kebhinekaan'\n",
      " 'kebhinekaannya' 'kebun' 'keburu' 'kecantol' 'kecewa' 'kedip' 'keep'\n",
      " 'kejar' 'kelar' 'kelarin' 'kelas' 'kelen' 'kelompok' 'keluarga' 'keluh'\n",
      " 'kelulus' 'kemari' 'kemarin' 'kembang' 'kemdikbud' 'kemdikbudristek'\n",
      " 'kemenag' 'kemendikbud' 'kemendikbudristek' 'kemenkeu' 'kemensetneg'\n",
      " 'ken' 'kena' 'kenal' 'kenan' 'kenang' 'kencang' 'kendala' 'kendara'\n",
      " 'kepala' 'kepastiaan' 'kepo' 'keras' 'keren' 'keringat' 'kerja'\n",
      " 'kerjasama' 'kertosentono' 'kesan' 'kesana' 'kesel' 'kesini' 'kesma'\n",
      " 'ketat' 'ketemu' 'ketenagakerjaan' 'keteter' 'ketik' 'ketompo' 'ketrima'\n",
      " 'ketua' 'ketuk' 'keupdate' 'kewalahan' 'kg' 'khanif' 'khosasih' 'khusus'\n",
      " 'kilau' 'kimia' 'kirim' 'kiro' 'kisah' 'kisi' 'kkn' 'kknt' 'klaim'\n",
      " 'klarifikasi' 'klik' 'kls' 'kmmi' 'knapa' 'know' 'koar' 'kolaborasi'\n",
      " 'kolega' 'kolektif' 'komen' 'kominfo' 'komisi' 'komitmen' 'komp' 'kompas'\n",
      " 'kompeten' 'kompetensi' 'komputer' 'komunikasi' 'komunitas' 'kondisi'\n",
      " 'konek' 'koneksi' 'konfirmasi' 'konsekuensi' 'konsiltasi' 'konsisten'\n",
      " 'konsolidasi' 'konsultasi' 'kontak' 'konteks' 'kontrak' 'konver'\n",
      " 'konvers' 'konversi' 'konyol' 'koor' 'koordinasi' 'koordinator' 'koprodi'\n",
      " 'korban' 'kos' 'kosan' 'kosong' 'kost' 'kota' 'kotak' 'kouta' 'koyo' 'kp'\n",
      " 'kredit' 'krim' 'kriteria' 'krs' 'krsan' 'krsnya' 'krusial' 'ktar' 'ktir'\n",
      " 'ktp' 'ku' 'kualitas' 'kuasa' 'kuat' 'kucing' 'kudu' 'kui' 'kuisoner'\n",
      " 'kuliah' 'kulit' 'kumpulin' 'kunjung' 'kuota' 'kursi' 'kusut' 'kutu' 'kv'\n",
      " 'l' 'laaah' 'label' 'lage' 'lagipula' 'lai' 'laksana' 'laku' 'laman'\n",
      " 'lamar' 'lambai' 'lambat' 'lampir' 'lancar' 'langgan' 'langgar' 'langkah'\n",
      " 'langsung' 'lanjur' 'lantai' 'lapakjpwta' 'lapang' 'lapor' 'laptop'\n",
      " 'larang' 'last' 'lastday' 'lawak' 'lawan' 'layak' 'layar' 'least' 'lebar'\n",
      " 'left' 'lega' 'lelah' 'lemah' 'lembaga' 'lembar' 'lembur' 'lemes'\n",
      " 'lempar' 'lengan' 'lengkap' 'lengkapin' 'lepas' 'lese' 'lesu' 'letih'\n",
      " 'lets' 'letsgo' 'level' 'lho' 'lian' 'libur' 'lihat' 'lika' 'like' 'liku'\n",
      " 'lilin' 'line' 'linear' 'lingkar' 'lingkung' 'linjur' 'link' 'linked'\n",
      " 'linkedin' 'linknya' 'lintas' 'lipat' 'liput' 'lirik' 'list' 'listrik'\n",
      " 'literally' 'live' 'lo' 'loa' 'loading' 'loadingnya' 'lock' 'lodging'\n",
      " 'log' 'logika' 'login' 'logistik' 'loh' 'lok' 'lokasi' 'lolos' 'lomba'\n",
      " 'looke' 'lorong' 'lose' 'lower' 'lowong' 'lpdp' 'lspr' 'lu' 'luang'\n",
      " 'luas' 'luck' 'lucu' 'lulus' 'lulussidang' 'lumayan' 'lunas' 'luncur'\n",
      " 'lupa' 'lur' 'luring' 'lutut' 'maaf' 'maaksi' 'made' 'mag' 'magang'\n",
      " 'maganga' 'magangmerdeka' 'mageran' 'magic' 'mah' 'maha' 'mahasiswa'\n",
      " 'mahasiswi' 'mahasiwa' 'mail' 'main' 'maintenance' 'maisng' 'mak' 'makan'\n",
      " 'makasiih' 'makassiih' 'maks' 'maksimal' 'maksud' 'makul' 'malaikat'\n",
      " 'malam' 'malas' 'man' 'management' 'managementnya' 'manajemen' 'mandi'\n",
      " 'mandiri' 'manfaat' 'mangkanya' 'manifesting' 'mantab' 'mantap'\n",
      " 'mantappu' 'mantau' 'mantengin' 'manual' 'manusia' 'mar' 'marah' 'maret'\n",
      " 'marketing' 'markicob' 'mas' 'masak' 'masjid' 'massal' 'mastiin' 'masuk'\n",
      " 'mata' 'matahari' 'matematika' 'materi' 'mati' 'matkul' 'matkulku'\n",
      " 'matkulnya' 'mauarah' 'max' 'maxy' 'maya' 'mayoritas' 'mbak' 'mbkm'\n",
      " 'mbkmnya' 'me' 'meanwhile' 'medan' 'media' 'meet' 'meeting' 'mei' 'mejam'\n",
      " 'mekar' 'melu' 'memelas' 'memgambil' 'memnuhi' 'menang' 'mending'\n",
      " 'menfes' 'mengepoi' 'mengikhlaskn' 'mengsedih' 'mengupload' 'menit'\n",
      " 'mental' 'menteri' 'mentok' 'mentor' 'mentoring' 'menuhin' 'mepet'\n",
      " 'merah' 'merdeka' 'message' 'mesti' 'metaverse' 'mgerjain' 'mhs' 'mhsw'\n",
      " 'mib' 'mice' 'microsoft' 'mikir' 'milik' 'mimpi' 'min' 'minat' 'minder'\n",
      " 'minergi' 'minggu' 'minimal' 'ministry' 'minus' 'miris' 'misuh' 'mitra'\n",
      " 'mix' 'mixue' 'mjb' 'mnj' 'mobile' 'mobilisasi' 'mobitekno' 'modal'\n",
      " 'modul' 'moga' 'mohon' 'mojadiap' 'momen' 'momentum' 'month' 'moots'\n",
      " 'more' 'mostly' 'motor' 'mou' 'msbi' 'msib' 'msibnya' 'mtual' 'mu'\n",
      " 'mubazir' 'much' 'mud' 'muda' 'mudah' 'muhammadiyah' 'muhsin'\n",
      " 'mujiibassailiin' 'muka' 'mules' 'multi' 'multinasional' 'mulu' 'mulut'\n",
      " 'mumet' 'mumpuni' 'muncul' 'mundur' 'muntah' 'murah' 'mustahil' 'mutah'\n",
      " 'muter' 'muts' 'mutualan' 'my' 'n' 'nabrak' 'nadiem' 'nafas' 'nagih'\n",
      " 'nak' 'nama' 'nang' 'nanggung' 'nanyain' 'nanyo' 'napas' 'nar'\n",
      " 'narahubung' 'narasumber' 'naruh' 'nasib' 'nasional' 'national' 'nay'\n",
      " 'nazar' 'ndadak' 'ndaniyo' 'ndeer' 'nder' 'nebar' 'necessary' 'need'\n",
      " 'needs' 'negara' 'negative' 'negeri' 'nendo' 'neng' 'net' 'netral' 'news'\n",
      " 'next' 'nf' 'ng' 'ngab' 'ngabari' 'ngabarin' 'ngabisin' 'ngadepin'\n",
      " 'ngajuinnya' 'ngalamin' 'ngambil' 'ngang' 'nganggep' 'nganggur'\n",
      " 'ngangkat' 'ngantuk' 'nge' 'ngecancel' 'ngeceknya' 'ngedown' 'ngefasil'\n",
      " 'ngeghosting' 'ngehubungin' 'ngekos' 'ngekosongin' 'ngelamar' 'ngelatih'\n",
      " 'ngeluh' 'ngerasin' 'ngerelain' 'ngeri' 'ngeringanin' 'ngerjain'\n",
      " 'ngerjainnya' 'ngetweet' 'nggada' 'ngganya' 'nginput' 'ngisi' 'ngjk'\n",
      " 'ngoding' 'ngong' 'ngontrak' 'nguju' 'ngulang' 'ngumpulin' 'ngundurin'\n",
      " 'niat' 'nic' 'nih' 'nila' 'nilai' 'nimbrung' 'nip' 'nitip' 'no' 'nolak'\n",
      " 'nominal' 'nomor' 'non' 'normal' 'notabene' 'note' 'nothing' 'notice'\n",
      " 'notif' 'notifikasi' 'now' 'nrima' 'nugas' 'numpang' 'numpuk' 'nunda'\n",
      " 'nur' 'nurse' 'nutrisi' 'nyabang' 'nyala' 'nyambi' 'nyamperin' 'nyantol'\n",
      " 'nyata' 'nyebutinnya' 'nyepelein' 'nyerah' 'nyia' 'nyiain' 'nyiapin'\n",
      " 'nyokap' 'nyusun' 'oalaaah' 'obviously' 'oeluangnya' 'of' 'ofc' 'ofering'\n",
      " 'offense' 'offering' 'offeringnya' 'official' 'offline' 'oflen' 'ohiya'\n",
      " 'oikawa' 'ojan' 'ojk' 'okay' 'oke' 'olah' 'omaygat' 'omg' 'omong' 'on'\n",
      " 'onboarding' 'onlen' 'online' 'oot' 'open' 'oper' 'opo' 'opportunities'\n",
      " 'opportunity' 'optimal' 'optimis' 'orang' 'organisasi' 'orientasi'\n",
      " 'oriented' 'other' 'otomatis' 'otot' 'otw' 'our' 'out' 'outbond'\n",
      " 'overthinking' 'ovt' 'owalah' 'p' 'pacar' 'pacil' 'padahaal' 'padat'\n",
      " 'pagi' 'pah' 'paham' 'paid' 'paitnya' 'paji' 'pakai' 'paket' 'paksa'\n",
      " 'paku' 'panah' 'panas' 'panggil' 'panik' 'panitia' 'pantau' 'pantesan'\n",
      " 'papa' 'paragon' 'parah' 'part' 'participated' 'partisipasi' 'partner'\n",
      " 'parttime' 'pas' 'pasar' 'pasport' 'pasrah' 'passcode' 'pasuk' 'patah'\n",
      " 'pc' 'pddikti' 'peduli' 'pegang' 'peluang' 'peluk' 'pemberitahuan' 'pend'\n",
      " 'pendaftran' 'pengaruh' 'pengenin' 'pengin' 'pening' 'penuh' 'penyampain'\n",
      " 'perah' 'perang' 'percaya' 'perform' 'perhati' 'perihal' 'periksa'\n",
      " 'perintah' 'periode' 'perjunganya' 'perkara' 'permaneker' 'permisi'\n",
      " 'persada' 'pertanggungjawaban' 'pertimbangin' 'perusahaanya' 'pesimis'\n",
      " 'pesta' 'peta' 'petinggi' 'petisi' 'pgpaud' 'phk' 'php' 'phpin' 'pic'\n",
      " 'pict' 'pido' 'pikir' 'pilar' 'pilih' 'pilihin' 'pindah' 'pintar'\n",
      " 'pinternya' 'pirsa' 'pisah' 'piye' 'pjnya' 'pkj' 'pkl' 'plan' 'planning'\n",
      " 'platform' 'please' 'plin' 'plis' 'plise' 'plns' 'pls' 'plt' 'plus' 'plz'\n",
      " 'pm' 'pmmb' 'pnj' 'pntolan' 'point' 'pokok' 'polinema' 'politik' 'ponsel'\n",
      " 'populasi' 'porto' 'posisi' 'positif' 'post' 'postingan' 'potensi'\n",
      " 'potong' 'pov' 'power' 'ppk' 'ppm' 'ppsdm' 'pr' 'praktik' 'praktikum'\n",
      " 'praktisi' 'prambanan' 'prasetyo' 'praying' 'pre' 'prediksi' 'prefer'\n",
      " 'prepare' 'presentasi' 'presiden' 'prestasi' 'pria' 'pribadi'\n",
      " 'pringgodani' 'printilan' 'prioritas' 'privat' 'private' 'pro' 'prodi'\n",
      " 'prodiku' 'prodinya' 'product' 'production' 'produktif' 'prof'\n",
      " 'professional' 'profil' 'progam' 'program' 'progres' 'project' 'projek'\n",
      " 'proses' 'proud' 'provinsi' 'proyek' 'prshbtn' 'psikologi' 'psikotest'\n",
      " 'pt' 'ptg' 'puasa' 'public' 'publikasi' 'pudir' 'puji' 'pulang' 'pulau'\n",
      " 'puluh' 'punteeen' 'punten' 'pupr' 'pupuk' 'pus' 'pusat' 'pusban'\n",
      " 'pusing' 'puska' 'putar' 'putih' 'putra' 'putri' 'putus' 'pw' 'qrt'\n",
      " 'quit' 'quotanya' 'quran' 'r' 'rabu' 'rada' 'ragu' 'raih' 'raisha'\n",
      " 'raishawdnt' 'rajin' 'rame' 'rancang' 'rang' 'rangin' 'rangkai' 'rangkap'\n",
      " 'rangkum' 'rantau' 'rapat' 'rapihin' 'rasai' 'ratus' 'rau' 'reach'\n",
      " 'react' 'read' 'ready' 'real' 'realis' 'realisasi' 'really' 'reason'\n",
      " 'rebah' 'recap' 'referensi' 'refused' 'regional' 'regis' 'regist'\n",
      " 'register' 'registration' 'regular' 'regulasi' 'reguler' 'rejected'\n",
      " 'rejecting' 'rek' 'rekan' 'rekendasi' 'rekening' 'rekognisi' 'rekomen'\n",
      " 'rekomendasi' 'rekomenin' 'rekrut' 'rektor' 'rela' 'relasi' 'relevan'\n",
      " 'remarked' 'remember' 'remote' 'rencana' 'renung' 'rep' 'reply' 'report'\n",
      " 'repost' 'repot' 'request' 'rese' 'research' 'resmi' 'respon' 'respons'\n",
      " 'responsif' 'restart' 'restu' 'retweet' 'review' 'reviewnya' 'revou'\n",
      " 'reza' 'rezeki' 'ri' 'ribet' 'ribu' 'ric' 'richy' 'ride' 'right' 'ringan'\n",
      " 'ringkas' 'riset' 'ristek' 'risza' 'riweh' 'riweuh' 'robotics' 'ruang'\n",
      " 'rudy' 'rugi' 'rumah' 'rumpun' 'rupa' 'sabar' 'sabtu' 'sad' 'sadar'\n",
      " 'safety' 'saftar' 'sahabat' 'saham' 'saking' 'sakit' 'saksi' 'saku'\n",
      " 'salah' 'salam' 'salty' 'sambel' 'sambi' 'sambung' 'sambut' 'samsek'\n",
      " 'sangka' 'santai' 'sanusi' 'sapa' 'sapi' 'saran' 'sarasehan' 'sardo'\n",
      " 'sarjana' 'sasar' 'sat' 'saturday' 'save' 'sayang' 'sbmptn' 'sbnrnya'\n",
      " 'scholarship' 'scm' 'screening' 'scrol' 'sd' 'sdm' 'sdn' 'sdngkan' 'sdr'\n",
      " 'seaqil' 'search' 'sebar' 'sebel' 'sebnya' 'section' 'sedia' 'sedih'\n",
      " 'segan' 'sehat' 'sekarg' 'sekian' 'sekira' 'sekjen' 'sekolah' 'sekre'\n",
      " 'sektor' 'selamat' 'selasa' 'seleksi' 'selenggara' 'selesai' 'self'\n",
      " 'seliwer' 'sem' 'semalem' 'semangaat' 'semangat' 'semangatin'\n",
      " 'semanggaat' 'semarang' 'sembuh' 'semester' 'semhas' 'seminar' 'sempro'\n",
      " 'semrawut' 'sems' 'semster' 'semt' 'senang' 'send' 'sender' 'sengaja'\n",
      " 'senin' 'senyum' 'sepede' 'sepenuh' 'sepi' 'sept' 'september' 'seragam'\n",
      " 'serang' 'seringai' 'serius' 'sertif' 'sertifikasi' 'sertifikat' 'seru'\n",
      " 'server' 'servernya' 'sesak' 'sesal' 'sesi' 'session' 'sesuai' 'sesuaiin'\n",
      " 'set' 'sh' 'shalu' 'share' 'sharing' 'shock' 'shope' 'showcase' 'si'\n",
      " 'sia' 'siang' 'siapin' 'siasat' 'sib' 'sibuk' 'sidang' 'siddiq' 'sign'\n",
      " 'signed' 'sih' 'siin' 'sikadu' 'sila' 'silang' 'siluet' 'simak' 'simul'\n",
      " 'simulasi' 'sinarm' 'sinkron' 'sinyal' 'sip' 'sipu' 'sisa' 'sisi'\n",
      " 'sistem' 'sit' 'sitiaisyah' 'situ' 'situasi' 'skadar' 'skema' 'skeptis'\n",
      " 'skil' 'skingame' 'skip' 'skripshit' 'skripsi' 'skripsweet' 'skrisian'\n",
      " 'sks' 'sksnya' 'sley' 'slnjtnya' 'slot' 'slowrespon' 'smart' 'sme' 'smes'\n",
      " 'smester' 'smk' 'smst' 'smstr' 'smt' 'smuanya' 'sngat' 'soalmya' 'sob'\n",
      " 'sobat' 'softskil' 'soialisasi' 'sok' 'solo' 'solopos' 'solusi' 'sombong'\n",
      " 'someone' 'soon' 'sore' 'sorry' 'sosialisasi' 'sosio' 'sosiometri'\n",
      " 'sosmed' 'sound' 'sowry' 'spam' 'spatial' 'speaker' 'speaking' 'specta'\n",
      " 'spesifik' 'spil' 'spiral' 'spjtm' 'sponsor' 'spreadsheets' 'sprtinya'\n",
      " 'sptjm' 'sptjmnya' 'sptmj' 'sr' 'start' 'startup' 'statement' 'status'\n",
      " 'stauku' 'stechoq' 'stil' 'stop' 'stori' 'story' 'stres' 'students'\n",
      " 'studi' 'study' 'stupen' 'suasana' 'sub' 'submit' 'subsidi' 'succes'\n",
      " 'such' 'sucks' 'suhu' 'sujud' 'suka' 'sukses' 'sulit' 'sumatera' 'sumber'\n",
      " 'sumpa' 'sumpah' 'sungguh' 'super' 'supportive' 'supportnya' 'sur'\n",
      " 'surabaya' 'surat' 'surbin' 'suruh' 'survei' 'survey' 'survive' 'susah'\n",
      " 'suskses' 'sv' 'sw' 'swasta' 'swipe' 'switch' 'syafira' 'syarat' 'system'\n",
      " 'syukur' 't' 'ta' 'tabung' 'tag' 'tahan' 'tahap' 'tahi' 'takdir' 'take'\n",
      " 'taking' 'takut' 'talenta' 'talk' 'tanah' 'tanda' 'tandatangani' 'tangan'\n",
      " 'tanggal' 'tanggung' 'tangsel' 'tani' 'tanyatanya' 'tara' 'tarik' 'tata'\n",
      " 'tau' 'taut' 'tawar' 'tb' 'tbh' 'tbk' 'tbtb' 'teach' 'tebal' 'tech'\n",
      " 'technology' 'technopark' 'tegang' 'teh' 'teknik' 'teknologi' 'tel'\n",
      " 'telat' 'tele' 'telegram' 'telek' 'telepon' 'telkom' 'telkomsel'\n",
      " 'telutizen' 'telyu' 'tema' 'teman' 'tematik' 'tembak' 'tembus' 'tembusin'\n",
      " 'temenku' 'template' 'templatenya' 'tempuh' 'temu' 'tenaga' 'tenang'\n",
      " 'tengkorak' 'teori' 'ter' 'tera' 'terampil' 'terang' 'terbit'\n",
      " 'terdahululuku' 'terima' 'terimakasih' 'terjun' 'terkadang' 'termin'\n",
      " 'terna' 'ternyta' 'tertawa' 'tes' 'test' 'testimoni' 'testimoninya'\n",
      " 'teteh' 'textbook' 'tf' 'thank' 'thanks' 'thanku' 'thankyou' 'the' 'theo'\n",
      " 'theory' 'there' 'things' 'thinking' 'this' 'thohir' 'thread' 'thx' 'ti'\n",
      " 'tia' 'tidur' 'tiket' 'tiktok' 'tikus' 'tim' 'timbang' 'time' 'timeline'\n",
      " 'timelinenya' 'timer' 'timgerilya' 'timingnya' 'tindak' 'tinggal'\n",
      " 'tingkat' 'tips' 'tipu' 'titipin' 'tjahjanto' 'tkt' 'tmi' 'tmnan' 'tmnku'\n",
      " 'today' 'toefl' 'toeicku' 'tolak' 'tombol' 'tonton' 'topik' 'total'\n",
      " 'totalitas' 'tpt' 'tq' 'track' 'tragedi' 'trainer' 'transfer' 'transkip'\n",
      " 'transkrip' 'translate' 'transparansi' 'transportasi' 'tratap' 'trauma'\n",
      " 'tread' 'trend' 'tribe' 'tricks' 'trimakasi' 'trisakti' 'tros' 'trust'\n",
      " 'ttd' 'ttpi' 'tua' 'tubes' 'tugas' 'tuh' 'tuhaaaan' 'tuhan' 'tuju'\n",
      " 'tukar' 'tulang' 'tulis' 'tumpuk' 'tunduk' 'tunggu' 'turun' 'tutor'\n",
      " 'tutup' 'tv' 'tweet' 'twibbon' 'twibbonnya' 'twitter' 'twt' 'typo' 'tysm'\n",
      " 'uad' 'uaf' 'uang' 'uas' 'ub' 'ubah' 'udaaah' 'udb' 'ueue' 'ug' 'ugj'\n",
      " 'ugm' 'ui' 'uix' 'uji' 'ujung' 'ukdw' 'ukm' 'ukt' 'ulang' 'ultah' 'um'\n",
      " 'umbridge' 'umsfes' 'umsu' 'umuslim' 'un' 'unair' 'undang' 'underpaid'\n",
      " 'undip' 'undur' 'uneg' 'uner' 'unggah' 'unggul' 'uni' 'unila' 'universe'\n",
      " 'universitas' 'univnya' 'unj' 'unm' 'unnes' 'unpad' 'unpaders' 'unpaid'\n",
      " 'unsr' 'unsri' 'untung' 'uny' 'up' 'upa' 'upaya' 'update' 'upgrade' 'upi'\n",
      " 'upload' 'upnjkt' 'upt' 'urai' 'urgent' 'uring' 'urus' 'us' 'usaha'\n",
      " 'user' 'username' 'usn' 'usung' 'utama' 'utara' 'utbk' 'utuh' 'ux' 'uy'\n",
      " 'valid' 'valiid' 'vendor' 'verif' 'verified' 'verifikasi' 'via' 'vibes'\n",
      " 'video' 'visa' 'vision' 'visual' 'vokasi' 'volunteer' 'wa' 'wabarakatuh'\n",
      " 'wadek' 'wae' 'wajah' 'wajar' 'wajib' 'wak' 'wake' 'wakil' 'wal' 'wamen'\n",
      " 'wanita' 'war' 'wara' 'warahmatullah' 'warek' 'warga' 'warna' 'warung'\n",
      " 'was' 'wawancara' 'way' 'we' 'web' 'webinar' 'webnya' 'webnyo' 'website'\n",
      " 'websitenya' 'weekend' 'wel' 'welcome' 'wes' 'wfa' 'wfh' 'wfo' 'what'\n",
      " 'whos' 'why' 'wib' 'widianti' 'widya' 'wifi' 'wifinya' 'wijaya' 'wild'\n",
      " 'win' 'wing' 'wir' 'wirausaha' 'wiri' 'wish' 'wishlist' 'wisuda'\n",
      " 'wkkwkwkwk' 'wkskwkwk' 'wkw' 'wkwk' 'wkwkkwkw' 'wkwkw' 'wkwkwk'\n",
      " 'wkwkwkkwk' 'wkwkwkwkw' 'wo' 'woe' 'woi' 'work' 'worker' 'workshop'\n",
      " 'worst' 'wos' 'wow' 'woy' 'wrwrrwrw' 'wtf' 'xdinaryheroes' 'xixix'\n",
      " 'xixixi' 'yaallah' 'yakali' 'yakan' 'yallah' 'yauda' 'yaudah' 'yaw' 'yay'\n",
      " 'yayasan' 'ybs' 'ye' 'yea' 'yeorobuun' 'yes' 'yogyakarta' 'you' 'your'\n",
      " 'youtube' 'yt' 'yudisium' 'yuk' 'yukz' 'yupi' 'zaky' 'zen' 'zenius'\n",
      " 'zoom' 'zoomnya']\n"
     ]
    }
   ],
   "source": [
    "feature_names = best_model.named_steps['tfidfvectorizer'].get_feature_names_out([X_train])\n",
    "\n",
    "with np.printoptions(threshold=np.inf):\n",
    "    print(feature_names)"
   ]
  },
  {
   "cell_type": "code",
   "execution_count": 25,
   "id": "0388af50",
   "metadata": {},
   "outputs": [
    {
     "name": "stdout",
     "output_type": "stream",
     "text": [
      "['a', 'aaaaaaaaaaaaanjing', 'aaargh', 'aarrgh', 'ab', 'abang', 'abdillah', 'absen', 'abt', 'abu', 'ac', 'academy', 'acara', 'accepted', 'account', 'achievment', 'actually', 'adbis', 'admin', 'administrasi', 'adminnya', 'ado', 'advance', 'advice', 'advo', 'advokasi', 'aenya', 'affiliate', 'afni', 'agaknua', 'agraria', 'agustus', 'ahli', 'ahmad', 'ai', 'aib', 'aidah', 'aih', 'ain', 'aing', 'air', 'ajaib', 'ajak', 'ajang', 'ajar', 'aju', 'akademik', 'akademis', 'akademisi', 'akal', 'akang', 'akt', 'aktif', 'aktifitas', 'aktivitas', 'akuin', 'akun', 'akuntansi', 'akwkkawk', 'al', 'alaikum', 'alam', 'alami', 'alamin', 'alas', 'album', 'alesannya', 'alfamidi', 'alghifari', 'alhamdulilah', 'alhamdulillah', 'alhasil', 'alias', 'alih', 'allah', 'allowed', 'alumne', 'alumni', 'alur', 'always', 'aman', 'ambang', 'ambil', 'ameylia', 'amik', 'amin', 'amp', 'amplop', 'ampu', 'an', 'ana', 'anak', 'analisis', 'anas', 'and', 'andai', 'android', 'angka', 'angkat', 'anjeng', 'anjg', 'anjing', 'anjir', 'annyone', 'another', 'antartika', 'antra', 'antusias', 'anxiety', 'any', 'anything', 'anyway', 'apadeh', 'apakabar', 'apdet', 'apiary', 'aplikasi', 'apply', 'appreciation', 'appreticenship', 'apr', 'apresiasi', 'april', 'aprilia', 'arah', 'are', 'arek', 'argh', 'arti', 'arya', 'as', 'asa', 'asdos', 'asesmen', 'asih', 'asik', 'asing', 'askrl', 'asli', 'aspirasi', 'assalamu', 'assesment', 'astaghfirullah', 'astra', 'asu', 'at', 'atauga', 'ati', 'ato', 'atr', 'atsnya', 'atur', 'auditorium', 'aug', 'auto', 'autocad', 'available', 'aware', 'awesome', 'awokawok', 'ayo', 'b', 'baba', 'babak', 'babi', 'baca', 'bacain', 'backup', 'badan', 'badut', 'bae', 'bagen', 'bagus', 'bahagia', 'bahak', 'bahan', 'bahas', 'bahasa', 'baki', 'bakti', 'bal', 'bala', 'balas', 'baleek', 'balesan', 'balikin', 'banding', 'bandung', 'banfu', 'bang', 'banget', 'bangga', 'bangkit', 'bangkrut', 'bangsa', 'bangsat', 'banh', 'bank', 'bantai', 'bantu', 'bantuin', 'bantul', 'banyaknha', 'bara', 'barang', 'barangkali', 'barata', 'bareng', 'barusan', 'bas', 'basah', 'basically', 'batal', 'batalin', 'batas', 'batch', 'batin', 'bawa', 'bayar', 'bbh', 'be', 'beasiswa', 'beban', 'bebas', 'because', 'becus', 'beda', 'been', 'begimana', 'bego', 'being', 'bekal', 'bekerjasama', 'bela', 'beli', 'beliau', 'believe', 'bem', 'benefit', 'benerin', 'bentar', 'bentrok', 'bentuk', 'berangkat', 'berani', 'beranta', 'berat', 'beres', 'beristighfar', 'berita', 'berkas', 'berkat', 'bersertifikas', 'bersetifikat', 'bersin', 'bes', 'besok', 'best', 'betah', 'better', 'between', 'bgos', 'bgst', 'bgts', 'bhd', 'bi', 'biar', 'biaya', 'bib', 'bicara', 'bidang', 'bijak', 'bikaus', 'bikin', 'bilang', 'billa', 'bimawa', 'bimbang', 'bimbing', 'binar', 'binatang', 'bineka', 'bing', 'bingung', 'bingungin', 'bintang', 'bio', 'biro', 'birokrasi', 'biru', 'bisain', 'bismillah', 'bismillahhhhhhy', 'bisnis', 'bitlabs', 'bkl', 'blacklist', 'blgnya', 'blkg', 'blokir', 'board', 'boarding', 'bocil', 'bolah', 'bolak', 'book', 'bootcamp', 'boothcamp', 'bot', 'bpjs', 'bpn', 'brand', 'bri', 'brimo', 'brkaitan', 'bromo', 'bsi', 'btw', 'bu', 'budak', 'budaya', 'budget', 'budrek', 'buka', 'bukti', 'buku', 'bulat', 'bully', 'bumn', 'bunga', 'bur', 'bursa', 'buru', 'bus', 'busa', 'buset', 'but', 'butuh', 'buzzer', 'cabut', 'cah', 'cair', 'cal', 'calling', 'calon', 'campus', 'can', 'cancel', 'canda', 'cantik', 'cap', 'capai', 'capek', 'capital', 'career', 'cari', 'case', 'catat', 'cbt', 'cdc', 'ce', 'cek', 'cemberut', 'cenderung', 'centang', 'center', 'cepat', 'cerah', 'cerita', 'ceroboh', 'certified', 'cewek', 'cha', 'challenging', 'channel', 'chat', 'chatan', 'check', 'cheer', 'cias', 'ciater', 'cinta', 'circle', 'cirebon', 'cita', 'cium', 'ckitu', 'classes', 'clear', 'click', 'clio', 'closing', 'clueles', 'cmiiw', 'coal', 'coba', 'cocok', 'code', 'cok', 'colle', 'coming', 'communication', 'comp', 'company', 'competition', 'computer', 'congratulations', 'consultancy', 'consulting', 'cont', 'contoh', 'conversation', 'convert', 'copas', 'copywriting', 'corner', 'corp', 'corporate', 'counting', 'course', 'cover', 'cowok', 'cp', 'creative', 'crew', 'cuk', 'cuman', 'cung', 'curang', 'curgia', 'curhaaat', 'curhat', 'curhatnya', 'curiga', 'cus', 'cushio', 'cut', 'cuti', 'cuy', 'cv', 'cvku', 'cvnya', 'cybersecutiry', 'cycle', 'dada', 'daerah', 'daftar', 'daftarin', 'daftat', 'dafyar', 'dagdigdug', 'dah', 'daily', 'dalem', 'damn', 'dampak', 'dana', 'dapetnya', 'dar', 'darah', 'darimana', 'darmajaya', 'darurat', 'data', 'date', 'day', 'daya', 'deadlinennya', 'deadlinenya', 'deg', 'degan', 'deh', 'dekan', 'denda', 'dengar', 'departemen', 'derita', 'des', 'desa', 'desember', 'deserved', 'desk', 'desperate', 'develop', 'developer', 'developing', 'development', 'dftar', 'dftr', 'dha', 'diac', 'dianggep', 'diapus', 'dibales', 'dibantuin', 'dibarengin', 'dibayarin', 'diberitahukan', 'dibicarain', 'diblacklist', 'dibolehin', 'dibuatin', 'dibutuhin', 'dichat', 'dicoding', 'dicutof', 'didik', 'didnt', 'didownload', 'diextend', 'digangguin', 'digital', 'digitalent', 'digoto', 'diharusin', 'diikutin', 'diikutsertakan', 'dijanjiin', 'dijelasin', 'dijulidin', 'dik', 'dikit', 'dikomunikasiin', 'dikosan', 'dikosongin', 'dikti', 'diktiristek', 'dikumpulin', 'dilema', 'dimasing', 'dinas', 'dingin', 'diperpanjaang', 'dipersimple', 'diploma', 'dirayain', 'diread', 'direchat', 'direject', 'direktorat', 'direktur', 'dirjen', 'disampein', 'disiapin', 'diskusi', 'dissukcapil', 'disubmit', 'ditandatangani', 'ditanyain', 'ditempatin', 'ditjen', 'dituker', 'dituntasin', 'diupload', 'divisi', 'dlnya', 'dluan', 'dm', 'doa', 'doain', 'doang', 'dokter', 'dokumen', 'dom', 'done', 'dosbingku', 'dosen', 'down', 'download', 'dpl', 'dpr', 'drakoran', 'drama', 'dreamies', 'drip', 'drop', 'dstar', 'duduk', 'duh', 'duid', 'duit', 'dukung', 'duluan', 'dumb', 'dump', 'dun', 'dunia', 'durasi', 'durung', 'e', 'early', 'easily', 'edisi', 'education', 'eel', 'efek', 'effort', 'efisien', 'egois', 'eh', 'eiruueriegiwfogfbewortgrurgiurewiefu', 'either', 'ekonomi', 'ekspektasi', 'ekspor', 'ekspresi', 'el', 'elburdah', 'eligible', 'emaik', 'email', 'embus', 'emosi', 'emot', 'empet', 'enak', 'enake', 'end', 'eneg', 'energi', 'engah', 'enggan', 'engganya', 'engineer', 'engineering', 'enih', 'enlighten', 'entar', 'entitas', 'ept', 'erick', 'error', 'erti', 'es', 'esp', 'essai', 'euy', 'evaluasi', 'evaluation', 'everyone', 'everytime', 'excited', 'exp', 'expand', 'expect', 'expectation', 'expecting', 'experience', 'ey', 'facilku', 'facilnya', 'fakultas', 'falkor', 'fapet', 'fasilitas', 'favorit', 'fb', 'fe', 'feb', 'februari', 'feedback', 'feeling', 'fermentasi', 'fes', 'festival', 'fgd', 'fh', 'fhci', 'fia', 'fifin', 'fikom', 'fiks', 'file', 'filter', 'final', 'fine', 'fisip', 'fitur', 'fix', 'fkip', 'flagship', 'fo', 'fokus', 'follow', 'fomo', 'food', 'for', 'form', 'format', 'formulir', 'forum', 'forward', 'foto', 'fren', 'friendly', 'from', 'fsm', 'ful', 'fulltime', 'fun', 'future', 'gaaaak', 'gabole', 'gabung', 'gadapet', 'gadpt', 'gaes', 'gagal', 'gaikut', 'gairah', 'gais', 'gajadi', 'gaji', 'gakjelas', 'gaksi', 'galau', 'gali', 'gang', 'ganggu', 'ganjil', 'ganteng', 'ganti', 'gantung', 'gantungin', 'gapaham', 'gapapa', 'gaperlu', 'gara', 'gara-gara', 'garage', 'gars', 'gas', 'gatauah', 'gatuh', 'gausaah', 'gd', 'ge', 'gede', 'gedek', 'gedung', 'gegara', 'gelar', 'gelo', 'gembira', 'genap', 'generasi', 'gengs', 'gengsi', 'gerak', 'gerbang', 'gerilya', 'ges', 'geser', 'getcontact', 'gform', 'giat', 'gift', 'gila', 'gilang', 'giselle', 'gits', 'give', 'gjls', 'global', 'gmbr', 'gmpang', 'god', 'going', 'gon', 'good', 'goodbye', 'goodluck', 'google', 'got', 'gp', 'grace', 'graduation', 'gramedia', 'grammar', 'gratis', 'greatedu', 'group', 'growatparagon', 'growth', 'grup', 'gua', 'gue', 'gues', 'gugur', 'guling', 'gumoh', 'gunain', 'guru', 'guys', 'gweh', 'h', 'habis', 'hack', 'had', 'hadap', 'hadir', 'hah', 'hahaha', 'hahahha', 'hai', 'hajar', 'hak', 'hakka', 'halaman', 'halang', 'halo', 'han', 'handle', 'hanjur', 'happines', 'happy', 'hapus', 'hara', 'harap', 'harder', 'hardskil', 'harga', 'has', 'hashmicro', 'hasil', 'hasut', 'hataman', 'hate', 'hati', 'hayo', 'he', 'hebat', 'heh', 'hehe', 'hehehehe', 'heheheheh', 'hello', 'help', 'helpdesk', 'hemat', 'her', 'heran', 'heru', 'hey', 'hft', 'hi', 'hibur', 'hidup', 'hihi', 'hijau', 'hiks', 'hiksrot', 'hilal', 'hilang', 'himasta', 'himpun', 'hitam', 'hitung', 'hm', 'hmj', 'honor', 'hope', 'hopeles', 'hormat', 'hospitality', 'how', 'hp', 'hu', 'huaak', 'huawei', 'hubung', 'hubungin', 'hue', 'huehuehue', 'huft', 'huhu', 'huhuhu', 'huhuhuhuhuhu', 'human', 'huru', 'hustle', 'hv', 'hybrid', 'hype', 'i', 'ibadah', 'id', 'idak', 'identitas', 'idk', 'iduka', 'ig', 'ih', 'iib', 'iisma', 'ikhlas', 'iku', 'ikutab', 'ilkom', 'ilmu', 'ilpol', 'im', 'imajinasi', 'imissu', 'impi', 'implementasi', 'impulsif', 'inagurasi', 'include', 'ind', 'indak', 'inde', 'independen', 'independent', 'indikasi', 'indikator', 'indonesia', 'indonesians', 'industri', 'industry', 'info', 'infoin', 'informasi', 'informatika', 'information', 'inggris', 'inka', 'innovation', 'innovators', 'inovasi', 'input', 'insecure', 'insentif', 'inspect', 'inspiratif', 'inspiring', 'instagram', 'instal', 'installasi', 'instansi', 'institusi', 'insyaallah', 'interact', 'intern', 'internal', 'internasional', 'international', 'internet', 'internship', 'interview', 'inti', 'intv', 'ip', 'ipad', 'ipeka', 'ipk', 'ir', 'ira', 'iri', 'is', 'iseng', 'isi', 'istikamah', 'istirahat', 'isu', 'isyarat', 'itk', 'its', 'itscareercenter', 'itutuh', 'iv', 'iya', 'izin', 'jabanin', 'jabat', 'jadwal', 'jaga', 'jago', 'jahat', 'jajan', 'jakarta', 'jalan', 'jam', 'jangka', 'janji', 'jantung', 'januari', 'jaoh', 'jarang', 'jaring', 'jasa', 'jasmani', 'jatohnya', 'jatuh', 'jawat', 'jaya', 'jdnya', 'jebal', 'jebol', 'jebul', 'jedag', 'jedug', 'jelasin', 'jelek', 'jembatan', 'jempol', 'jenderal', 'jenis', 'jenjang', 'jepit', 'jerapah', 'jiah', 'jmblo', 'jobdesk', 'jogja', 'join', 'journey', 'jrusanku', 'jual', 'juang', 'judul', 'jujur', 'jujurly', 'jul', 'juli', 'july', 'jumat', 'jun', 'juni', 'jurnal', 'jurus', 'just', 'juta', 'kab', 'kabar', 'kabul', 'kabupaten', 'kabur', 'kacamata', 'kacau', 'kacaw', 'kadaluwarsa', 'kadang', 'kader', 'kagak', 'kait', 'kajur', 'kak', 'kakak', 'kaki', 'kalah', 'kalang', 'kalender', 'kali', 'kalibr', 'kalo', 'kamjar', 'kampus', 'kampusmerdeka', 'kanan', 'kang', 'kantor', 'kapaaan', 'kapai', 'kapastitas', 'kaprodi', 'karier', 'karir', 'kartu', 'karuan', 'karyawan', 'karyawannya', 'kas', 'kasih', 'kategori', 'kating', 'katingku', 'kau', 'kawands', 'kaya', 'kayak', 'kbm', 'kebhinekaan', 'kebhinekaannya', 'kebun', 'keburu', 'kecantol', 'kecewa', 'kedip', 'keep', 'kejar', 'kelar', 'kelarin', 'kelas', 'kelen', 'kelompok', 'keluarga', 'keluh', 'kelulus', 'kemari', 'kemarin', 'kembang', 'kemdikbud', 'kemdikbudristek', 'kemenag', 'kemendikbud', 'kemendikbudristek', 'kemenkeu', 'kemensetneg', 'ken', 'kena', 'kenal', 'kenan', 'kenang', 'kencang', 'kendala', 'kendara', 'kepala', 'kepastiaan', 'kepo', 'keras', 'keren', 'keringat', 'kerja', 'kerjasama', 'kertosentono', 'kesan', 'kesana', 'kesel', 'kesini', 'kesma', 'ketat', 'ketemu', 'ketenagakerjaan', 'keteter', 'ketik', 'ketompo', 'ketrima', 'ketua', 'ketuk', 'keupdate', 'kewalahan', 'kg', 'khanif', 'khosasih', 'khusus', 'kilau', 'kimia', 'kirim', 'kiro', 'kisah', 'kisi', 'kkn', 'kknt', 'klaim', 'klarifikasi', 'klik', 'kls', 'kmmi', 'knapa', 'know', 'koar', 'kolaborasi', 'kolega', 'kolektif', 'komen', 'kominfo', 'komisi', 'komitmen', 'komp', 'kompas', 'kompeten', 'kompetensi', 'komputer', 'komunikasi', 'komunitas', 'kondisi', 'konek', 'koneksi', 'konfirmasi', 'konsekuensi', 'konsiltasi', 'konsisten', 'konsolidasi', 'konsultasi', 'kontak', 'konteks', 'kontrak', 'konver', 'konvers', 'konversi', 'konyol', 'koor', 'koordinasi', 'koordinator', 'koprodi', 'korban', 'kos', 'kosan', 'kosong', 'kost', 'kota', 'kotak', 'kouta', 'koyo', 'kp', 'kredit', 'krim', 'kriteria', 'krs', 'krsan', 'krsnya', 'krusial', 'ktar', 'ktir', 'ktp', 'ku', 'kualitas', 'kuasa', 'kuat', 'kucing', 'kudu', 'kui', 'kuisoner', 'kuliah', 'kulit', 'kumpulin', 'kunjung', 'kuota', 'kursi', 'kusut', 'kutu', 'kv', 'l', 'laaah', 'label', 'lage', 'lagipula', 'lai', 'laksana', 'laku', 'laman', 'lamar', 'lambai', 'lambat', 'lampir', 'lancar', 'langgan', 'langgar', 'langkah', 'langsung', 'lanjur', 'lantai', 'lapakjpwta', 'lapang', 'lapor', 'laptop', 'larang', 'last', 'lastday', 'lawak', 'lawan', 'layak', 'layar', 'least', 'lebar', 'left', 'lega', 'lelah', 'lemah', 'lembaga', 'lembar', 'lembur', 'lemes', 'lempar', 'lengan', 'lengkap', 'lengkapin', 'lepas', 'lese', 'lesu', 'letih', 'lets', 'letsgo', 'level', 'lho', 'lian', 'libur', 'lihat', 'lika', 'like', 'liku', 'lilin', 'line', 'linear', 'lingkar', 'lingkung', 'linjur', 'link', 'linked', 'linkedin', 'linknya', 'lintas', 'lipat', 'liput', 'lirik', 'list', 'listrik', 'literally', 'live', 'lo', 'loa', 'loading', 'loadingnya', 'lock', 'lodging', 'log', 'logika', 'login', 'logistik', 'loh', 'lok', 'lokasi', 'lolos', 'lomba', 'looke', 'lorong', 'lose', 'lower', 'lowong', 'lpdp', 'lspr', 'lu', 'luang', 'luas', 'luck', 'lucu', 'lulus', 'lulussidang', 'lumayan', 'lunas', 'luncur', 'lupa', 'lur', 'luring', 'lutut', 'maaf', 'maaksi', 'made', 'mag', 'magang', 'maganga', 'magangmerdeka', 'mageran', 'magic', 'mah', 'maha', 'mahasiswa', 'mahasiswi', 'mahasiwa', 'mail', 'main', 'maintenance', 'maisng', 'mak', 'makan', 'makasiih', 'makassiih', 'maks', 'maksimal', 'maksud', 'makul', 'malaikat', 'malam', 'malas', 'man', 'management', 'managementnya', 'manajemen', 'mandi', 'mandiri', 'manfaat', 'mangkanya', 'manifesting', 'mantab', 'mantap', 'mantappu', 'mantau', 'mantengin', 'manual', 'manusia', 'mar', 'marah', 'maret', 'marketing', 'markicob', 'mas', 'masak', 'masjid', 'massal', 'mastiin', 'masuk', 'mata', 'matahari', 'matematika', 'materi', 'mati', 'matkul', 'matkulku', 'matkulnya', 'mauarah', 'max', 'maxy', 'maya', 'mayoritas', 'mbak', 'mbkm', 'mbkmnya', 'me', 'meanwhile', 'medan', 'media', 'meet', 'meeting', 'mei', 'mejam', 'mekar', 'melu', 'memelas', 'memgambil', 'memnuhi', 'menang', 'mending', 'menfes', 'mengepoi', 'mengikhlaskn', 'mengsedih', 'mengupload', 'menit', 'mental', 'menteri', 'mentok', 'mentor', 'mentoring', 'menuhin', 'mepet', 'merah', 'merdeka', 'message', 'mesti', 'metaverse', 'mgerjain', 'mhs', 'mhsw', 'mib', 'mice', 'microsoft', 'mikir', 'milik', 'mimpi', 'min', 'minat', 'minder', 'minergi', 'minggu', 'minimal', 'ministry', 'minus', 'miris', 'misuh', 'mitra', 'mix', 'mixue', 'mjb', 'mnj', 'mobile', 'mobilisasi', 'mobitekno', 'modal', 'modul', 'moga', 'mohon', 'mojadiap', 'momen', 'momentum', 'month', 'moots', 'more', 'mostly', 'motor', 'mou', 'msbi', 'msib', 'msibnya', 'mtual', 'mu', 'mubazir', 'much', 'mud', 'muda', 'mudah', 'muhammadiyah', 'muhsin', 'mujiibassailiin', 'muka', 'mules', 'multi', 'multinasional', 'mulu', 'mulut', 'mumet', 'mumpuni', 'muncul', 'mundur', 'muntah', 'murah', 'mustahil', 'mutah', 'muter', 'muts', 'mutualan', 'my', 'n', 'nabrak', 'nadiem', 'nafas', 'nagih', 'nak', 'nama', 'nang', 'nanggung', 'nanyain', 'nanyo', 'napas', 'nar', 'narahubung', 'narasumber', 'naruh', 'nasib', 'nasional', 'national', 'nay', 'nazar', 'ndadak', 'ndaniyo', 'ndeer', 'nder', 'nebar', 'necessary', 'need', 'needs', 'negara', 'negative', 'negeri', 'nendo', 'neng', 'net', 'netral', 'news', 'next', 'nf', 'ng', 'ngab', 'ngabari', 'ngabarin', 'ngabisin', 'ngadepin', 'ngajuinnya', 'ngalamin', 'ngambil', 'ngang', 'nganggep', 'nganggur', 'ngangkat', 'ngantuk', 'nge', 'ngecancel', 'ngeceknya', 'ngedown', 'ngefasil', 'ngeghosting', 'ngehubungin', 'ngekos', 'ngekosongin', 'ngelamar', 'ngelatih', 'ngeluh', 'ngerasin', 'ngerelain', 'ngeri', 'ngeringanin', 'ngerjain', 'ngerjainnya', 'ngetweet', 'nggada', 'ngganya', 'nginput', 'ngisi', 'ngjk', 'ngoding', 'ngong', 'ngontrak', 'nguju', 'ngulang', 'ngumpulin', 'ngundurin', 'niat', 'nic', 'nih', 'nila', 'nilai', 'nimbrung', 'nip', 'nitip', 'no', 'nolak', 'nominal', 'nomor', 'non', 'normal', 'notabene', 'note', 'nothing', 'notice', 'notif', 'notifikasi', 'now', 'nrima', 'nugas', 'numpang', 'numpuk', 'nunda', 'nur', 'nurse', 'nutrisi', 'nyabang', 'nyala', 'nyambi', 'nyamperin', 'nyantol', 'nyata', 'nyebutinnya', 'nyepelein', 'nyerah', 'nyia', 'nyiain', 'nyiapin', 'nyokap', 'nyusun', 'oalaaah', 'obviously', 'oeluangnya', 'of', 'ofc', 'ofering', 'offense', 'offering', 'offeringnya', 'official', 'offline', 'oflen', 'ohiya', 'oikawa', 'ojan', 'ojk', 'okay', 'oke', 'olah', 'omaygat', 'omg', 'omong', 'on', 'onboarding', 'onlen', 'online', 'oot', 'open', 'oper', 'opo', 'opportunities', 'opportunity', 'optimal', 'optimis', 'orang', 'organisasi', 'orientasi', 'oriented', 'other', 'otomatis', 'otot', 'otw', 'our', 'out', 'outbond', 'overthinking', 'ovt', 'owalah', 'p', 'pacar', 'pacil', 'padahaal', 'padat', 'pagi', 'pah', 'paham', 'paid', 'paitnya', 'paji', 'pakai', 'paket', 'paksa', 'paku', 'panah', 'panas', 'panggil', 'panik', 'panitia', 'pantau', 'pantesan', 'papa', 'paragon', 'parah', 'part', 'participated', 'partisipasi', 'partner', 'parttime', 'pas', 'pasar', 'pasport', 'pasrah', 'passcode', 'pasuk', 'patah', 'pc', 'pddikti', 'peduli', 'pegang', 'peluang', 'peluk', 'pemberitahuan', 'pend', 'pendaftran', 'pengaruh', 'pengenin', 'pengin', 'pening', 'penuh', 'penyampain', 'perah', 'perang', 'percaya', 'perform', 'perhati', 'perihal', 'periksa', 'perintah', 'periode', 'perjunganya', 'perkara', 'permaneker', 'permisi', 'persada', 'pertanggungjawaban', 'pertimbangin', 'perusahaanya', 'pesimis', 'pesta', 'peta', 'petinggi', 'petisi', 'pgpaud', 'phk', 'php', 'phpin', 'pic', 'pict', 'pido', 'pikir', 'pilar', 'pilih', 'pilihin', 'pindah', 'pintar', 'pinternya', 'pirsa', 'pisah', 'piye', 'pjnya', 'pkj', 'pkl', 'plan', 'planning', 'platform', 'please', 'plin', 'plis', 'plise', 'plns', 'pls', 'plt', 'plus', 'plz', 'pm', 'pmmb', 'pnj', 'pntolan', 'point', 'pokok', 'polinema', 'politik', 'ponsel', 'populasi', 'porto', 'posisi', 'positif', 'post', 'postingan', 'potensi', 'potong', 'pov', 'power', 'ppk', 'ppm', 'ppsdm', 'pr', 'praktik', 'praktikum', 'praktisi', 'prambanan', 'prasetyo', 'praying', 'pre', 'prediksi', 'prefer', 'prepare', 'presentasi', 'presiden', 'prestasi', 'pria', 'pribadi', 'pringgodani', 'printilan', 'prioritas', 'privat', 'private', 'pro', 'prodi', 'prodiku', 'prodinya', 'product', 'production', 'produktif', 'prof', 'professional', 'profil', 'progam', 'program', 'progres', 'project', 'projek', 'proses', 'proud', 'provinsi', 'proyek', 'prshbtn', 'psikologi', 'psikotest', 'pt', 'ptg', 'puasa', 'public', 'publikasi', 'pudir', 'puji', 'pulang', 'pulau', 'puluh', 'punteeen', 'punten', 'pupr', 'pupuk', 'pus', 'pusat', 'pusban', 'pusing', 'puska', 'putar', 'putih', 'putra', 'putri', 'putus', 'pw', 'qrt', 'quit', 'quotanya', 'quran', 'r', 'rabu', 'rada', 'ragu', 'raih', 'raisha', 'raishawdnt', 'rajin', 'rame', 'rancang', 'rang', 'rangin', 'rangkai', 'rangkap', 'rangkum', 'rantau', 'rapat', 'rapihin', 'rasai', 'ratus', 'rau', 'reach', 'react', 'read', 'ready', 'real', 'realis', 'realisasi', 'really', 'reason', 'rebah', 'recap', 'referensi', 'refused', 'regional', 'regis', 'regist', 'register', 'registration', 'regular', 'regulasi', 'reguler', 'rejected', 'rejecting', 'rek', 'rekan', 'rekendasi', 'rekening', 'rekognisi', 'rekomen', 'rekomendasi', 'rekomenin', 'rekrut', 'rektor', 'rela', 'relasi', 'relevan', 'remarked', 'remember', 'remote', 'rencana', 'renung', 'rep', 'reply', 'report', 'repost', 'repot', 'request', 'rese', 'research', 'resmi', 'respon', 'respons', 'responsif', 'restart', 'restu', 'retweet', 'review', 'reviewnya', 'revou', 'reza', 'rezeki', 'ri', 'ribet', 'ribu', 'ric', 'richy', 'ride', 'right', 'ringan', 'ringkas', 'riset', 'ristek', 'risza', 'riweh', 'riweuh', 'robotics', 'ruang', 'rudy', 'rugi', 'rumah', 'rumpun', 'rupa', 'sabar', 'sabtu', 'sad', 'sadar', 'safety', 'saftar', 'sahabat', 'saham', 'saking', 'sakit', 'saksi', 'saku', 'salah', 'salam', 'salty', 'sambel', 'sambi', 'sambung', 'sambut', 'samsek', 'sangka', 'santai', 'sanusi', 'sapa', 'sapi', 'saran', 'sarasehan', 'sardo', 'sarjana', 'sasar', 'sat', 'saturday', 'save', 'sayang', 'sbmptn', 'sbnrnya', 'scholarship', 'scm', 'screening', 'scrol', 'sd', 'sdm', 'sdn', 'sdngkan', 'sdr', 'seaqil', 'search', 'sebar', 'sebel', 'sebnya', 'section', 'sedia', 'sedih', 'segan', 'sehat', 'sekarg', 'sekian', 'sekira', 'sekjen', 'sekolah', 'sekre', 'sektor', 'selamat', 'selasa', 'seleksi', 'selenggara', 'selesai', 'self', 'seliwer', 'sem', 'semalem', 'semangaat', 'semangat', 'semangatin', 'semanggaat', 'semarang', 'sembuh', 'semester', 'semhas', 'seminar', 'sempro', 'semrawut', 'sems', 'semster', 'semt', 'senang', 'send', 'sender', 'sengaja', 'senin', 'senyum', 'sepede', 'sepenuh', 'sepi', 'sept', 'september', 'seragam', 'serang', 'seringai', 'serius', 'sertif', 'sertifikasi', 'sertifikat', 'seru', 'server', 'servernya', 'sesak', 'sesal', 'sesi', 'session', 'sesuai', 'sesuaiin', 'set', 'sh', 'shalu', 'share', 'sharing', 'shock', 'shope', 'showcase', 'si', 'sia', 'siang', 'siapin', 'siasat', 'sib', 'sibuk', 'sidang', 'siddiq', 'sign', 'signed', 'sih', 'siin', 'sikadu', 'sila', 'silang', 'siluet', 'simak', 'simul', 'simulasi', 'sinarm', 'sinkron', 'sinyal', 'sip', 'sipu', 'sisa', 'sisi', 'sistem', 'sit', 'sitiaisyah', 'situ', 'situasi', 'skadar', 'skema', 'skeptis', 'skil', 'skingame', 'skip', 'skripshit', 'skripsi', 'skripsweet', 'skrisian', 'sks', 'sksnya', 'sley', 'slnjtnya', 'slot', 'slowrespon', 'smart', 'sme', 'smes', 'smester', 'smk', 'smst', 'smstr', 'smt', 'smuanya', 'sngat', 'soalmya', 'sob', 'sobat', 'softskil', 'soialisasi', 'sok', 'solo', 'solopos', 'solusi', 'sombong', 'someone', 'soon', 'sore', 'sorry', 'sosialisasi', 'sosio', 'sosiometri', 'sosmed', 'sound', 'sowry', 'spam', 'spatial', 'speaker', 'speaking', 'specta', 'spesifik', 'spil', 'spiral', 'spjtm', 'sponsor', 'spreadsheets', 'sprtinya', 'sptjm', 'sptjmnya', 'sptmj', 'sr', 'start', 'startup', 'statement', 'status', 'stauku', 'stechoq', 'stil', 'stop', 'stori', 'story', 'stres', 'students', 'studi', 'study', 'stupen', 'suasana', 'sub', 'submit', 'subsidi', 'succes', 'such', 'sucks', 'suhu', 'sujud', 'suka', 'sukses', 'sulit', 'sumatera', 'sumber', 'sumpa', 'sumpah', 'sungguh', 'super', 'supportive', 'supportnya', 'sur', 'surabaya', 'surat', 'surbin', 'suruh', 'survei', 'survey', 'survive', 'susah', 'suskses', 'sv', 'sw', 'swasta', 'swipe', 'switch', 'syafira', 'syarat', 'system', 'syukur', 't', 'ta', 'tabung', 'tag', 'tahan', 'tahap', 'tahi', 'takdir', 'take', 'taking', 'takut', 'talenta', 'talk', 'tanah', 'tanda', 'tandatangani', 'tangan', 'tanggal', 'tanggung', 'tangsel', 'tani', 'tanyatanya', 'tara', 'tarik', 'tata', 'tau', 'taut', 'tawar', 'tb', 'tbh', 'tbk', 'tbtb', 'teach', 'tebal', 'tech', 'technology', 'technopark', 'tegang', 'teh', 'teknik', 'teknologi', 'tel', 'telat', 'tele', 'telegram', 'telek', 'telepon', 'telkom', 'telkomsel', 'telutizen', 'telyu', 'tema', 'teman', 'tematik', 'tembak', 'tembus', 'tembusin', 'temenku', 'template', 'templatenya', 'tempuh', 'temu', 'tenaga', 'tenang', 'tengkorak', 'teori', 'ter', 'tera', 'terampil', 'terang', 'terbit', 'terdahululuku', 'terima', 'terimakasih', 'terjun', 'terkadang', 'termin', 'terna', 'ternyta', 'tertawa', 'tes', 'test', 'testimoni', 'testimoninya', 'teteh', 'textbook', 'tf', 'thank', 'thanks', 'thanku', 'thankyou', 'the', 'theo', 'theory', 'there', 'things', 'thinking', 'this', 'thohir', 'thread', 'thx', 'ti', 'tia', 'tidur', 'tiket', 'tiktok', 'tikus', 'tim', 'timbang', 'time', 'timeline', 'timelinenya', 'timer', 'timgerilya', 'timingnya', 'tindak', 'tinggal', 'tingkat', 'tips', 'tipu', 'titipin', 'tjahjanto', 'tkt', 'tmi', 'tmnan', 'tmnku', 'today', 'toefl', 'toeicku', 'tolak', 'tombol', 'tonton', 'topik', 'total', 'totalitas', 'tpt', 'tq', 'track', 'tragedi', 'trainer', 'transfer', 'transkip', 'transkrip', 'translate', 'transparansi', 'transportasi', 'tratap', 'trauma', 'tread', 'trend', 'tribe', 'tricks', 'trimakasi', 'trisakti', 'tros', 'trust', 'ttd', 'ttpi', 'tua', 'tubes', 'tugas', 'tuh', 'tuhaaaan', 'tuhan', 'tuju', 'tukar', 'tulang', 'tulis', 'tumpuk', 'tunduk', 'tunggu', 'turun', 'tutor', 'tutup', 'tv', 'tweet', 'twibbon', 'twibbonnya', 'twitter', 'twt', 'typo', 'tysm', 'uad', 'uaf', 'uang', 'uas', 'ub', 'ubah', 'udaaah', 'udb', 'ueue', 'ug', 'ugj', 'ugm', 'ui', 'uix', 'uji', 'ujung', 'ukdw', 'ukm', 'ukt', 'ulang', 'ultah', 'um', 'umbridge', 'umsfes', 'umsu', 'umuslim', 'un', 'unair', 'undang', 'underpaid', 'undip', 'undur', 'uneg', 'uner', 'unggah', 'unggul', 'uni', 'unila', 'universe', 'universitas', 'univnya', 'unj', 'unm', 'unnes', 'unpad', 'unpaders', 'unpaid', 'unsr', 'unsri', 'untung', 'uny', 'up', 'upa', 'upaya', 'update', 'upgrade', 'upi', 'upload', 'upnjkt', 'upt', 'urai', 'urgent', 'uring', 'urus', 'us', 'usaha', 'user', 'username', 'usn', 'usung', 'utama', 'utara', 'utbk', 'utuh', 'ux', 'uy', 'valid', 'valiid', 'vendor', 'verif', 'verified', 'verifikasi', 'via', 'vibes', 'video', 'visa', 'vision', 'visual', 'vokasi', 'volunteer', 'wa', 'wabarakatuh', 'wadek', 'wae', 'wajah', 'wajar', 'wajib', 'wak', 'wake', 'wakil', 'wal', 'wamen', 'wanita', 'war', 'wara', 'warahmatullah', 'warek', 'warga', 'warna', 'warung', 'was', 'wawancara', 'way', 'we', 'web', 'webinar', 'webnya', 'webnyo', 'website', 'websitenya', 'weekend', 'wel', 'welcome', 'wes', 'wfa', 'wfh', 'wfo', 'what', 'whos', 'why', 'wib', 'widianti', 'widya', 'wifi', 'wifinya', 'wijaya', 'wild', 'win', 'wing', 'wir', 'wirausaha', 'wiri', 'wish', 'wishlist', 'wisuda', 'wkkwkwkwk', 'wkskwkwk', 'wkw', 'wkwk', 'wkwkkwkw', 'wkwkw', 'wkwkwk', 'wkwkwkkwk', 'wkwkwkwkw', 'wo', 'woe', 'woi', 'work', 'worker', 'workshop', 'worst', 'wos', 'wow', 'woy', 'wrwrrwrw', 'wtf', 'xdinaryheroes', 'xixix', 'xixixi', 'yaallah', 'yakali', 'yakan', 'yallah', 'yauda', 'yaudah', 'yaw', 'yay', 'yayasan', 'ybs', 'ye', 'yea', 'yeorobuun', 'yes', 'yogyakarta', 'you', 'your', 'youtube', 'yt', 'yudisium', 'yuk', 'yukz', 'yupi', 'zaky', 'zen', 'zenius', 'zoom', 'zoomnya']\n"
     ]
    }
   ],
   "source": [
    "j = feature_names.tolist()\n",
    "print(j)"
   ]
  },
  {
   "cell_type": "code",
   "execution_count": 26,
   "id": "836a36ad",
   "metadata": {},
   "outputs": [],
   "source": [
    "y_pred = best_model.predict(X_test)"
   ]
  },
  {
   "cell_type": "code",
   "execution_count": 27,
   "id": "8b27f0a8",
   "metadata": {},
   "outputs": [
    {
     "data": {
      "image/png": "[encoded data removed]",
      "text/plain": [
       "<Figure size 432x288 with 2 Axes>"
      ]
     },
     "metadata": {
      "needs_background": "light"
     },
     "output_type": "display_data"
    }
   ],
   "source": [
    "# Confusion Matrix Best Model: Kernel Polinomial\n",
    "\n",
    "from sklearn.metrics import ConfusionMatrixDisplay\n",
    "\n",
    "cm = confusion_matrix(y_test, y_pred, labels = best_model.classes_)\n",
    "disp = ConfusionMatrixDisplay(confusion_matrix=cm, display_labels=best_model.classes_)\n",
    "disp.plot()\n",
    "plt.title(\"Model Kernel Polinomial\")\n",
    "plt.show()"
   ]
  },
  {
   "cell_type": "code",
   "execution_count": 28,
   "id": "c4d24b0d",
   "metadata": {},
   "outputs": [
    {
     "name": "stdout",
     "output_type": "stream",
     "text": [
      "              precision    recall  f1-score   support\n",
      "\n",
      "          -1       0.74      0.40      0.52        50\n",
      "           0       0.77      0.92      0.84       182\n",
      "           1       0.73      0.53      0.61        51\n",
      "\n",
      "    accuracy                           0.76       283\n",
      "   macro avg       0.75      0.62      0.66       283\n",
      "weighted avg       0.76      0.76      0.74       283\n",
      "\n"
     ]
    }
   ],
   "source": [
    "print(classification_report(y_test, y_pred))"
   ]
  },
  {
   "cell_type": "code",
   "execution_count": 29,
   "id": "08dce830",
   "metadata": {},
   "outputs": [
    {
     "data": {
      "text/plain": [
       "<1031x2647 sparse matrix of type '<class 'numpy.float64'>'\n",
       "\twith 10645 stored elements in Compressed Sparse Row format>"
      ]
     },
     "execution_count": 29,
     "metadata": {},
     "output_type": "execute_result"
    }
   ],
   "source": [
    "best_model.named_steps['svc'].support_vectors_"
   ]
  },
  {
   "cell_type": "code",
   "execution_count": 115,
   "id": "c0f1b36d",
   "metadata": {},
   "outputs": [
    {
     "data": {
      "text/html": [
       "<div>\n",
       "<style scoped>\n",
       "    .dataframe tbody tr th:only-of-type {\n",
       "        vertical-align: middle;\n",
       "    }\n",
       "\n",
       "    .dataframe tbody tr th {\n",
       "        vertical-align: top;\n",
       "    }\n",
       "\n",
       "    .dataframe thead th {\n",
       "        text-align: right;\n",
       "    }\n",
       "</style>\n",
       "<table border=\"1\" class=\"dataframe\">\n",
       "  <thead>\n",
       "    <tr style=\"text-align: right;\">\n",
       "      <th></th>\n",
       "      <th>0</th>\n",
       "      <th>1</th>\n",
       "      <th>2</th>\n",
       "    </tr>\n",
       "  </thead>\n",
       "  <tbody>\n",
       "    <tr>\n",
       "      <th>0</th>\n",
       "      <td>-0.999900</td>\n",
       "      <td>-0.074176</td>\n",
       "      <td>0.999780</td>\n",
       "    </tr>\n",
       "    <tr>\n",
       "      <th>1</th>\n",
       "      <td>-1.017596</td>\n",
       "      <td>0.107958</td>\n",
       "      <td>0.999595</td>\n",
       "    </tr>\n",
       "    <tr>\n",
       "      <th>2</th>\n",
       "      <td>-1.000274</td>\n",
       "      <td>-0.306326</td>\n",
       "      <td>0.999886</td>\n",
       "    </tr>\n",
       "    <tr>\n",
       "      <th>3</th>\n",
       "      <td>0.094663</td>\n",
       "      <td>-1.000041</td>\n",
       "      <td>-0.999978</td>\n",
       "    </tr>\n",
       "    <tr>\n",
       "      <th>4</th>\n",
       "      <td>-0.279911</td>\n",
       "      <td>-0.999831</td>\n",
       "      <td>-1.000019</td>\n",
       "    </tr>\n",
       "    <tr>\n",
       "      <th>...</th>\n",
       "      <td>...</td>\n",
       "      <td>...</td>\n",
       "      <td>...</td>\n",
       "    </tr>\n",
       "    <tr>\n",
       "      <th>1123</th>\n",
       "      <td>-1.067977</td>\n",
       "      <td>-0.245494</td>\n",
       "      <td>0.999635</td>\n",
       "    </tr>\n",
       "    <tr>\n",
       "      <th>1124</th>\n",
       "      <td>-0.999905</td>\n",
       "      <td>-0.838288</td>\n",
       "      <td>0.431183</td>\n",
       "    </tr>\n",
       "    <tr>\n",
       "      <th>1125</th>\n",
       "      <td>-1.000009</td>\n",
       "      <td>0.257901</td>\n",
       "      <td>0.999686</td>\n",
       "    </tr>\n",
       "    <tr>\n",
       "      <th>1126</th>\n",
       "      <td>-0.636525</td>\n",
       "      <td>0.505594</td>\n",
       "      <td>1.000037</td>\n",
       "    </tr>\n",
       "    <tr>\n",
       "      <th>1127</th>\n",
       "      <td>-1.000239</td>\n",
       "      <td>0.564732</td>\n",
       "      <td>1.419418</td>\n",
       "    </tr>\n",
       "  </tbody>\n",
       "</table>\n",
       "<p>1128 rows × 3 columns</p>\n",
       "</div>"
      ],
      "text/plain": [
       "             0         1         2\n",
       "0    -0.999900 -0.074176  0.999780\n",
       "1    -1.017596  0.107958  0.999595\n",
       "2    -1.000274 -0.306326  0.999886\n",
       "3     0.094663 -1.000041 -0.999978\n",
       "4    -0.279911 -0.999831 -1.000019\n",
       "...        ...       ...       ...\n",
       "1123 -1.067977 -0.245494  0.999635\n",
       "1124 -0.999905 -0.838288  0.431183\n",
       "1125 -1.000009  0.257901  0.999686\n",
       "1126 -0.636525  0.505594  1.000037\n",
       "1127 -1.000239  0.564732  1.419418\n",
       "\n",
       "[1128 rows x 3 columns]"
      ]
     },
     "execution_count": 115,
     "metadata": {},
     "output_type": "execute_result"
    }
   ],
   "source": [
    "# sign_function = best_model.decision_function(X_train)\n",
    "# sign_function_df = pd.DataFrame(sign_function)\n",
    "# # sign_function_df.to_excel(excel_writer = r\"C:\\Users\\ASUS\\skripsi\\sign_function.xlsx\", index = False)\n",
    "\n",
    "# y_train_sign = pd.DataFrame(y_train)\n",
    "# # y_train_sign.to_excel(excel_writer = r\"C:\\Users\\ASUS\\skripsi\\y_train_sign.xlsx\", index = False)"
   ]
  },
  {
   "cell_type": "code",
   "execution_count": 30,
   "id": "a993e56e",
   "metadata": {},
   "outputs": [],
   "source": [
    "sign_function_test = best_model.decision_function(X_test)\n",
    "sign_function_df_test = pd.DataFrame(sign_function_test)\n",
    "# sign_function_df_test.to_excel(excel_writer = r\"C:\\Users\\ASUS\\skripsi\\sign_function_test.xlsx\", index = False)\n",
    "\n",
    "# y_pred_sign = pd.DataFrame(y_pred)\n",
    "# y_pred_sign.to_excel(excel_writer = r\"C:\\Users\\ASUS\\skripsi\\y_pred_sign.xlsx\", index = False)\n",
    "# y_test_sign = pd.DataFrame(y_test)\n",
    "# y_test_sign.to_excel(excel_writer = r\"C:\\Users\\ASUS\\skripsi\\y_test_sign.xlsx\", index = False)"
   ]
  },
  {
   "cell_type": "code",
   "execution_count": 135,
   "id": "91c25843",
   "metadata": {},
   "outputs": [],
   "source": [
    "dual_coef = best_model.named_steps['svc']._dual_coef_\n",
    "dual_coef = dual_coef.todense()\n",
    "df_dual_coef = pd.DataFrame(dual_coef)\n",
    "# df_dual_coef.to_excel(excel_writer = r\"C:\\Users\\ASUS\\skripsi\\dual_coef_.xlsx\")"
   ]
  },
  {
   "cell_type": "code",
   "execution_count": 38,
   "id": "72c5dfac",
   "metadata": {},
   "outputs": [
    {
     "data": {
      "text/plain": [
       "(1128, 2647)"
      ]
     },
     "execution_count": 38,
     "metadata": {},
     "output_type": "execute_result"
    }
   ],
   "source": [
    "best_model.named_steps['svc'].shape_fit_"
   ]
  },
  {
   "cell_type": "code",
   "execution_count": 50,
   "id": "aa061791",
   "metadata": {},
   "outputs": [],
   "source": [
    "features_used = pd.read_excel(r'C:\\Users\\ASUS\\skripsi\\features_used.xlsx')"
   ]
  },
  {
   "cell_type": "code",
   "execution_count": 37,
   "id": "81e238d9",
   "metadata": {},
   "outputs": [
    {
     "name": "stdout",
     "output_type": "stream",
     "text": [
      "[13, 22, 26, 31, 35, 49, 51, 61, 70, 75, 76, 85, 87, 96, 103, 105, 106, 107, 112, 113, 114, 123, 126, 132, 135, 138, 146, 150, 151, 153, 155, 156, 158, 174, 180, 186, 190, 195, 196, 198, 202, 205, 213, 218, 225, 231, 234, 237, 238, 242, 243, 248, 251, 256, 265, 268, 271, 273, 274, 280, 288, 289, 291, 299, 300, 305, 320, 330, 331, 344, 359, 360, 378, 379, 380, 382, 383, 400, 405, 414, 424, 434, 443, 444, 457, 460, 461, 464, 465, 467, 471, 472, 477, 485, 494, 496, 511, 514, 516, 530, 534, 545, 551, 553, 556, 568, 586, 605, 611, 613, 615, 622, 630, 631, 633, 652, 655, 657, 661, 662, 666, 668, 670, 678, 681, 682, 701, 705, 712, 721, 722, 731, 733, 734, 743, 744, 748, 753, 767, 769, 770, 779, 788, 790, 791, 794, 812, 816, 821, 829, 832, 843, 857, 864, 870, 874, 886, 892, 893, 897, 906, 910, 921, 929, 934, 954, 966, 970, 975, 980, 981, 983, 985, 992, 1001, 1006, 1009, 1011, 1013, 1038, 1039, 1046, 1048, 1064, 1065, 1078, 1086, 1087, 1090, 1092, 1095, 1096, 1100, 1110, 1114, 1117, 1121, 0, 1, 2, 5, 6, 8, 9, 10, 11, 12, 15, 17, 18, 19, 20, 23, 24, 25, 27, 28, 30, 32, 33, 36, 39, 40, 42, 43, 44, 46, 47, 48, 52, 53, 54, 55, 56, 59, 60, 62, 63, 64, 65, 66, 67, 68, 69, 71, 72, 73, 77, 78, 79, 80, 81, 82, 83, 84, 86, 88, 89, 91, 94, 95, 97, 99, 100, 102, 104, 108, 109, 111, 116, 117, 119, 121, 122, 124, 127, 129, 130, 131, 134, 136, 137, 141, 142, 144, 145, 147, 148, 157, 159, 160, 161, 169, 172, 175, 178, 179, 182, 183, 184, 188, 191, 192, 193, 194, 197, 199, 200, 201, 204, 207, 208, 209, 210, 212, 215, 217, 220, 221, 222, 223, 224, 227, 229, 233, 239, 240, 241, 244, 246, 249, 250, 252, 255, 257, 258, 259, 260, 262, 263, 264, 266, 267, 269, 270, 272, 275, 276, 278, 281, 282, 283, 285, 286, 290, 292, 293, 294, 295, 296, 297, 298, 301, 302, 303, 307, 308, 309, 311, 312, 313, 314, 315, 316, 318, 319, 321, 322, 324, 326, 328, 334, 335, 336, 337, 338, 340, 341, 342, 345, 346, 347, 350, 351, 352, 353, 354, 355, 356, 357, 358, 361, 363, 364, 365, 366, 367, 369, 371, 374, 375, 377, 381, 384, 385, 387, 388, 389, 390, 391, 392, 393, 394, 395, 396, 397, 399, 401, 402, 404, 406, 407, 408, 409, 410, 411, 412, 413, 416, 417, 418, 419, 420, 422, 423, 425, 427, 428, 429, 430, 431, 432, 433, 436, 437, 438, 439, 440, 441, 442, 445, 446, 449, 451, 453, 454, 455, 456, 462, 463, 466, 469, 474, 475, 476, 478, 479, 481, 483, 484, 487, 488, 489, 490, 492, 497, 498, 499, 503, 504, 505, 506, 507, 509, 512, 513, 519, 521, 522, 523, 524, 525, 526, 528, 529, 532, 533, 535, 537, 538, 539, 540, 541, 542, 543, 544, 546, 547, 548, 550, 552, 554, 555, 557, 559, 562, 563, 564, 565, 567, 570, 572, 574, 575, 577, 578, 580, 581, 582, 583, 584, 585, 587, 588, 589, 591, 592, 593, 596, 597, 598, 600, 602, 603, 604, 606, 607, 608, 614, 616, 617, 618, 619, 623, 626, 627, 632, 634, 635, 636, 637, 638, 640, 642, 643, 644, 646, 647, 648, 649, 650, 651, 653, 656, 658, 659, 660, 663, 664, 665, 667, 669, 671, 673, 674, 675, 676, 677, 683, 684, 685, 687, 690, 692, 693, 694, 695, 696, 697, 698, 699, 700, 702, 704, 708, 709, 710, 714, 715, 720, 723, 724, 725, 728, 729, 730, 732, 737, 739, 741, 742, 745, 747, 750, 751, 752, 755, 756, 757, 758, 759, 761, 762, 763, 764, 766, 768, 771, 772, 773, 774, 775, 776, 777, 778, 780, 781, 782, 783, 784, 785, 786, 789, 792, 793, 795, 796, 797, 798, 799, 800, 802, 804, 806, 807, 809, 813, 814, 817, 819, 822, 823, 824, 826, 830, 831, 833, 834, 835, 836, 838, 839, 840, 841, 844, 846, 848, 849, 850, 851, 852, 853, 854, 858, 859, 860, 861, 862, 863, 866, 867, 871, 875, 876, 877, 879, 880, 881, 882, 883, 884, 887, 888, 889, 890, 891, 895, 896, 898, 899, 900, 901, 902, 903, 907, 912, 914, 915, 916, 917, 919, 920, 924, 925, 927, 928, 930, 932, 933, 935, 937, 938, 939, 940, 941, 942, 944, 945, 946, 947, 948, 949, 950, 951, 953, 957, 959, 960, 961, 963, 964, 965, 967, 969, 971, 973, 974, 976, 977, 979, 982, 984, 987, 990, 991, 995, 996, 997, 999, 1000, 1004, 1008, 1010, 1014, 1016, 1017, 1018, 1020, 1021, 1022, 1024, 1026, 1027, 1028, 1029, 1031, 1032, 1034, 1035, 1036, 1037, 1040, 1041, 1042, 1043, 1044, 1045, 1047, 1049, 1050, 1052, 1053, 1054, 1055, 1056, 1057, 1058, 1059, 1060, 1061, 1062, 1063, 1066, 1068, 1069, 1070, 1071, 1073, 1075, 1076, 1077, 1080, 1081, 1082, 1084, 1085, 1088, 1091, 1093, 1094, 1097, 1099, 1101, 1102, 1105, 1106, 1108, 1109, 1111, 1112, 1113, 1115, 1116, 1118, 1120, 1123, 1124, 1125, 1126, 1127, 3, 4, 7, 16, 21, 29, 34, 38, 41, 45, 74, 90, 92, 93, 110, 115, 118, 120, 125, 128, 139, 140, 149, 154, 163, 165, 166, 167, 168, 181, 185, 187, 203, 206, 214, 226, 230, 232, 235, 236, 245, 253, 284, 304, 306, 310, 317, 323, 329, 332, 333, 348, 362, 368, 372, 376, 386, 398, 403, 415, 435, 448, 450, 452, 459, 482, 493, 500, 501, 515, 518, 520, 527, 531, 536, 558, 560, 566, 569, 571, 573, 576, 579, 590, 609, 610, 612, 621, 624, 625, 629, 639, 641, 654, 679, 686, 691, 703, 716, 717, 719, 726, 727, 735, 736, 740, 746, 749, 760, 765, 787, 801, 803, 805, 808, 811, 820, 837, 842, 845, 847, 855, 856, 865, 868, 869, 873, 878, 885, 904, 908, 909, 911, 918, 922, 923, 931, 936, 943, 958, 968, 972, 978, 989, 1005, 1007, 1015, 1019, 1023, 1025, 1030, 1051, 1079, 1083, 1089, 1098, 1103, 1104, 1107, 1119, 1122]\n"
     ]
    }
   ],
   "source": [
    "index_sv = best_model.named_steps['svc'].support_\n",
    "index_sv = index_sv.tolist()\n",
    "with np.printoptions(threshold=np.inf):\n",
    "    print(index_sv)"
   ]
  },
  {
   "cell_type": "code",
   "execution_count": 71,
   "id": "c9bddfd8",
   "metadata": {},
   "outputs": [],
   "source": [
    "df_model = features_used.loc[index_sv]"
   ]
  },
  {
   "cell_type": "code",
   "execution_count": 72,
   "id": "b6b01743",
   "metadata": {},
   "outputs": [],
   "source": [
    "df_model.to_excel(excel_writer = r\"C:\\Users\\ASUS\\skripsi\\df_model.xlsx\", index = False)"
   ]
  },
  {
   "cell_type": "code",
   "execution_count": 69,
   "id": "1cac827c",
   "metadata": {},
   "outputs": [
    {
     "data": {
      "text/html": [
       "<div>\n",
       "<style scoped>\n",
       "    .dataframe tbody tr th:only-of-type {\n",
       "        vertical-align: middle;\n",
       "    }\n",
       "\n",
       "    .dataframe tbody tr th {\n",
       "        vertical-align: top;\n",
       "    }\n",
       "\n",
       "    .dataframe thead th {\n",
       "        text-align: right;\n",
       "    }\n",
       "</style>\n",
       "<table border=\"1\" class=\"dataframe\">\n",
       "  <thead>\n",
       "    <tr style=\"text-align: right;\">\n",
       "      <th></th>\n",
       "      <th>Unnamed: 0</th>\n",
       "      <th>a</th>\n",
       "      <th>aaaaaaaaaaaaanjing</th>\n",
       "      <th>aaargh</th>\n",
       "      <th>aarrgh</th>\n",
       "      <th>ab</th>\n",
       "      <th>abang</th>\n",
       "      <th>abdillah</th>\n",
       "      <th>absen</th>\n",
       "      <th>abt</th>\n",
       "      <th>...</th>\n",
       "      <th>yt</th>\n",
       "      <th>yudisium</th>\n",
       "      <th>yuk</th>\n",
       "      <th>yukz</th>\n",
       "      <th>yupi</th>\n",
       "      <th>zaky</th>\n",
       "      <th>zen</th>\n",
       "      <th>zenius</th>\n",
       "      <th>zoom</th>\n",
       "      <th>zoomnya</th>\n",
       "    </tr>\n",
       "  </thead>\n",
       "  <tbody>\n",
       "    <tr>\n",
       "      <th>13</th>\n",
       "      <td>NaN</td>\n",
       "      <td>0.0</td>\n",
       "      <td>0.0</td>\n",
       "      <td>0.000000</td>\n",
       "      <td>0.0</td>\n",
       "      <td>0.0</td>\n",
       "      <td>0.0</td>\n",
       "      <td>0.0</td>\n",
       "      <td>0.0</td>\n",
       "      <td>0.0</td>\n",
       "      <td>...</td>\n",
       "      <td>0.0</td>\n",
       "      <td>0.0</td>\n",
       "      <td>0.0</td>\n",
       "      <td>0.0</td>\n",
       "      <td>0.0</td>\n",
       "      <td>0.0</td>\n",
       "      <td>0.0</td>\n",
       "      <td>0.0</td>\n",
       "      <td>0.0</td>\n",
       "      <td>0.0</td>\n",
       "    </tr>\n",
       "    <tr>\n",
       "      <th>22</th>\n",
       "      <td>NaN</td>\n",
       "      <td>0.0</td>\n",
       "      <td>0.0</td>\n",
       "      <td>0.000000</td>\n",
       "      <td>0.0</td>\n",
       "      <td>0.0</td>\n",
       "      <td>0.0</td>\n",
       "      <td>0.0</td>\n",
       "      <td>0.0</td>\n",
       "      <td>0.0</td>\n",
       "      <td>...</td>\n",
       "      <td>0.0</td>\n",
       "      <td>0.0</td>\n",
       "      <td>0.0</td>\n",
       "      <td>0.0</td>\n",
       "      <td>0.0</td>\n",
       "      <td>0.0</td>\n",
       "      <td>0.0</td>\n",
       "      <td>0.0</td>\n",
       "      <td>0.0</td>\n",
       "      <td>0.0</td>\n",
       "    </tr>\n",
       "    <tr>\n",
       "      <th>26</th>\n",
       "      <td>NaN</td>\n",
       "      <td>0.0</td>\n",
       "      <td>0.0</td>\n",
       "      <td>0.000000</td>\n",
       "      <td>0.0</td>\n",
       "      <td>0.0</td>\n",
       "      <td>0.0</td>\n",
       "      <td>0.0</td>\n",
       "      <td>0.0</td>\n",
       "      <td>0.0</td>\n",
       "      <td>...</td>\n",
       "      <td>0.0</td>\n",
       "      <td>0.0</td>\n",
       "      <td>0.0</td>\n",
       "      <td>0.0</td>\n",
       "      <td>0.0</td>\n",
       "      <td>0.0</td>\n",
       "      <td>0.0</td>\n",
       "      <td>0.0</td>\n",
       "      <td>0.0</td>\n",
       "      <td>0.0</td>\n",
       "    </tr>\n",
       "    <tr>\n",
       "      <th>31</th>\n",
       "      <td>NaN</td>\n",
       "      <td>0.0</td>\n",
       "      <td>0.0</td>\n",
       "      <td>0.000000</td>\n",
       "      <td>0.0</td>\n",
       "      <td>0.0</td>\n",
       "      <td>0.0</td>\n",
       "      <td>0.0</td>\n",
       "      <td>0.0</td>\n",
       "      <td>0.0</td>\n",
       "      <td>...</td>\n",
       "      <td>0.0</td>\n",
       "      <td>0.0</td>\n",
       "      <td>0.0</td>\n",
       "      <td>0.0</td>\n",
       "      <td>0.0</td>\n",
       "      <td>0.0</td>\n",
       "      <td>0.0</td>\n",
       "      <td>0.0</td>\n",
       "      <td>0.0</td>\n",
       "      <td>0.0</td>\n",
       "    </tr>\n",
       "    <tr>\n",
       "      <th>35</th>\n",
       "      <td>NaN</td>\n",
       "      <td>0.0</td>\n",
       "      <td>0.0</td>\n",
       "      <td>0.000000</td>\n",
       "      <td>0.0</td>\n",
       "      <td>0.0</td>\n",
       "      <td>0.0</td>\n",
       "      <td>0.0</td>\n",
       "      <td>0.0</td>\n",
       "      <td>0.0</td>\n",
       "      <td>...</td>\n",
       "      <td>0.0</td>\n",
       "      <td>0.0</td>\n",
       "      <td>0.0</td>\n",
       "      <td>0.0</td>\n",
       "      <td>0.0</td>\n",
       "      <td>0.0</td>\n",
       "      <td>0.0</td>\n",
       "      <td>0.0</td>\n",
       "      <td>0.0</td>\n",
       "      <td>0.0</td>\n",
       "    </tr>\n",
       "    <tr>\n",
       "      <th>...</th>\n",
       "      <td>...</td>\n",
       "      <td>...</td>\n",
       "      <td>...</td>\n",
       "      <td>...</td>\n",
       "      <td>...</td>\n",
       "      <td>...</td>\n",
       "      <td>...</td>\n",
       "      <td>...</td>\n",
       "      <td>...</td>\n",
       "      <td>...</td>\n",
       "      <td>...</td>\n",
       "      <td>...</td>\n",
       "      <td>...</td>\n",
       "      <td>...</td>\n",
       "      <td>...</td>\n",
       "      <td>...</td>\n",
       "      <td>...</td>\n",
       "      <td>...</td>\n",
       "      <td>...</td>\n",
       "      <td>...</td>\n",
       "      <td>...</td>\n",
       "    </tr>\n",
       "    <tr>\n",
       "      <th>1103</th>\n",
       "      <td>NaN</td>\n",
       "      <td>0.0</td>\n",
       "      <td>0.0</td>\n",
       "      <td>0.000000</td>\n",
       "      <td>0.0</td>\n",
       "      <td>0.0</td>\n",
       "      <td>0.0</td>\n",
       "      <td>0.0</td>\n",
       "      <td>0.0</td>\n",
       "      <td>0.0</td>\n",
       "      <td>...</td>\n",
       "      <td>0.0</td>\n",
       "      <td>0.0</td>\n",
       "      <td>0.0</td>\n",
       "      <td>0.0</td>\n",
       "      <td>0.0</td>\n",
       "      <td>0.0</td>\n",
       "      <td>0.0</td>\n",
       "      <td>0.0</td>\n",
       "      <td>0.0</td>\n",
       "      <td>0.0</td>\n",
       "    </tr>\n",
       "    <tr>\n",
       "      <th>1104</th>\n",
       "      <td>NaN</td>\n",
       "      <td>0.0</td>\n",
       "      <td>0.0</td>\n",
       "      <td>0.000000</td>\n",
       "      <td>0.0</td>\n",
       "      <td>0.0</td>\n",
       "      <td>0.0</td>\n",
       "      <td>0.0</td>\n",
       "      <td>0.0</td>\n",
       "      <td>0.0</td>\n",
       "      <td>...</td>\n",
       "      <td>0.0</td>\n",
       "      <td>0.0</td>\n",
       "      <td>0.0</td>\n",
       "      <td>0.0</td>\n",
       "      <td>0.0</td>\n",
       "      <td>0.0</td>\n",
       "      <td>0.0</td>\n",
       "      <td>0.0</td>\n",
       "      <td>0.0</td>\n",
       "      <td>0.0</td>\n",
       "    </tr>\n",
       "    <tr>\n",
       "      <th>1107</th>\n",
       "      <td>NaN</td>\n",
       "      <td>0.0</td>\n",
       "      <td>0.0</td>\n",
       "      <td>0.401714</td>\n",
       "      <td>0.0</td>\n",
       "      <td>0.0</td>\n",
       "      <td>0.0</td>\n",
       "      <td>0.0</td>\n",
       "      <td>0.0</td>\n",
       "      <td>0.0</td>\n",
       "      <td>...</td>\n",
       "      <td>0.0</td>\n",
       "      <td>0.0</td>\n",
       "      <td>0.0</td>\n",
       "      <td>0.0</td>\n",
       "      <td>0.0</td>\n",
       "      <td>0.0</td>\n",
       "      <td>0.0</td>\n",
       "      <td>0.0</td>\n",
       "      <td>0.0</td>\n",
       "      <td>0.0</td>\n",
       "    </tr>\n",
       "    <tr>\n",
       "      <th>1119</th>\n",
       "      <td>NaN</td>\n",
       "      <td>0.0</td>\n",
       "      <td>0.0</td>\n",
       "      <td>0.000000</td>\n",
       "      <td>0.0</td>\n",
       "      <td>0.0</td>\n",
       "      <td>0.0</td>\n",
       "      <td>0.0</td>\n",
       "      <td>0.0</td>\n",
       "      <td>0.0</td>\n",
       "      <td>...</td>\n",
       "      <td>0.0</td>\n",
       "      <td>0.0</td>\n",
       "      <td>0.0</td>\n",
       "      <td>0.0</td>\n",
       "      <td>0.0</td>\n",
       "      <td>0.0</td>\n",
       "      <td>0.0</td>\n",
       "      <td>0.0</td>\n",
       "      <td>0.0</td>\n",
       "      <td>0.0</td>\n",
       "    </tr>\n",
       "    <tr>\n",
       "      <th>1122</th>\n",
       "      <td>NaN</td>\n",
       "      <td>0.0</td>\n",
       "      <td>0.0</td>\n",
       "      <td>0.000000</td>\n",
       "      <td>0.0</td>\n",
       "      <td>0.0</td>\n",
       "      <td>0.0</td>\n",
       "      <td>0.0</td>\n",
       "      <td>0.0</td>\n",
       "      <td>0.0</td>\n",
       "      <td>...</td>\n",
       "      <td>0.0</td>\n",
       "      <td>0.0</td>\n",
       "      <td>0.0</td>\n",
       "      <td>0.0</td>\n",
       "      <td>0.0</td>\n",
       "      <td>0.0</td>\n",
       "      <td>0.0</td>\n",
       "      <td>0.0</td>\n",
       "      <td>0.0</td>\n",
       "      <td>0.0</td>\n",
       "    </tr>\n",
       "  </tbody>\n",
       "</table>\n",
       "<p>1031 rows × 2648 columns</p>\n",
       "</div>"
      ],
      "text/plain": [
       "      Unnamed: 0    a  aaaaaaaaaaaaanjing    aaargh  aarrgh   ab  abang  \\\n",
       "13           NaN  0.0                 0.0  0.000000     0.0  0.0    0.0   \n",
       "22           NaN  0.0                 0.0  0.000000     0.0  0.0    0.0   \n",
       "26           NaN  0.0                 0.0  0.000000     0.0  0.0    0.0   \n",
       "31           NaN  0.0                 0.0  0.000000     0.0  0.0    0.0   \n",
       "35           NaN  0.0                 0.0  0.000000     0.0  0.0    0.0   \n",
       "...          ...  ...                 ...       ...     ...  ...    ...   \n",
       "1103         NaN  0.0                 0.0  0.000000     0.0  0.0    0.0   \n",
       "1104         NaN  0.0                 0.0  0.000000     0.0  0.0    0.0   \n",
       "1107         NaN  0.0                 0.0  0.401714     0.0  0.0    0.0   \n",
       "1119         NaN  0.0                 0.0  0.000000     0.0  0.0    0.0   \n",
       "1122         NaN  0.0                 0.0  0.000000     0.0  0.0    0.0   \n",
       "\n",
       "      abdillah  absen  abt  ...   yt  yudisium  yuk  yukz  yupi  zaky  zen  \\\n",
       "13         0.0    0.0  0.0  ...  0.0       0.0  0.0   0.0   0.0   0.0  0.0   \n",
       "22         0.0    0.0  0.0  ...  0.0       0.0  0.0   0.0   0.0   0.0  0.0   \n",
       "26         0.0    0.0  0.0  ...  0.0       0.0  0.0   0.0   0.0   0.0  0.0   \n",
       "31         0.0    0.0  0.0  ...  0.0       0.0  0.0   0.0   0.0   0.0  0.0   \n",
       "35         0.0    0.0  0.0  ...  0.0       0.0  0.0   0.0   0.0   0.0  0.0   \n",
       "...        ...    ...  ...  ...  ...       ...  ...   ...   ...   ...  ...   \n",
       "1103       0.0    0.0  0.0  ...  0.0       0.0  0.0   0.0   0.0   0.0  0.0   \n",
       "1104       0.0    0.0  0.0  ...  0.0       0.0  0.0   0.0   0.0   0.0  0.0   \n",
       "1107       0.0    0.0  0.0  ...  0.0       0.0  0.0   0.0   0.0   0.0  0.0   \n",
       "1119       0.0    0.0  0.0  ...  0.0       0.0  0.0   0.0   0.0   0.0  0.0   \n",
       "1122       0.0    0.0  0.0  ...  0.0       0.0  0.0   0.0   0.0   0.0  0.0   \n",
       "\n",
       "      zenius  zoom  zoomnya  \n",
       "13       0.0   0.0      0.0  \n",
       "22       0.0   0.0      0.0  \n",
       "26       0.0   0.0      0.0  \n",
       "31       0.0   0.0      0.0  \n",
       "35       0.0   0.0      0.0  \n",
       "...      ...   ...      ...  \n",
       "1103     0.0   0.0      0.0  \n",
       "1104     0.0   0.0      0.0  \n",
       "1107     0.0   0.0      0.0  \n",
       "1119     0.0   0.0      0.0  \n",
       "1122     0.0   0.0      0.0  \n",
       "\n",
       "[1031 rows x 2648 columns]"
      ]
     },
     "execution_count": 69,
     "metadata": {},
     "output_type": "execute_result"
    }
   ],
   "source": [
    "df_model"
   ]
  },
  {
   "cell_type": "code",
   "execution_count": 34,
   "id": "62e21965",
   "metadata": {},
   "outputs": [
    {
     "data": {
      "text/plain": [
       "Pipeline(steps=[('tfidfvectorizer',\n",
       "                 TfidfVectorizer(max_features=3000,\n",
       "                                 tokenizer=<function tokenize at 0x0000014CEAA60E50>)),\n",
       "                ('svc',\n",
       "                 SVC(C=1000, class_weight='balanced', coef0=0.6,\n",
       "                     decision_function_shape='ovo', gamma='auto',\n",
       "                     kernel='sigmoid', probability=True, random_state=42))])"
      ]
     },
     "execution_count": 34,
     "metadata": {},
     "output_type": "execute_result"
    }
   ],
   "source": [
    "# Model 2 : Kernel Sigmoid\n",
    "\n",
    "model_sigmoid = make_pipeline(TfidfVectorizer(analyzer = 'word',\n",
    "                                       tokenizer = tokenize,\n",
    "                                       lowercase = True,\n",
    "                                       ngram_range=(1, 1),\n",
    "                                       max_features = 3000),\n",
    "                       SVC(kernel = \"sigmoid\", \n",
    "                           class_weight = \"balanced\",\n",
    "                           decision_function_shape = \"ovo\",\n",
    "                           probability = True,\n",
    "                           coef0 = 0.6,\n",
    "                           gamma = \"auto\",\n",
    "                           random_state = 42,\n",
    "                           C = 1000)) \n",
    "model_sigmoid.fit(X_train, y_train)"
   ]
  },
  {
   "cell_type": "code",
   "execution_count": 35,
   "id": "ece02eaf",
   "metadata": {},
   "outputs": [
    {
     "data": {
      "text/plain": [
       "{'accuracy': 0.6645033397974575,\n",
       " 'f1': 0.705436765790542,\n",
       " 'precision': 0.7354012310498119,\n",
       " 'recall': 0.6925795053003534}"
      ]
     },
     "execution_count": 35,
     "metadata": {},
     "output_type": "execute_result"
    }
   ],
   "source": [
    "results(model_sigmoid, X_test, y_test)"
   ]
  },
  {
   "cell_type": "code",
   "execution_count": 36,
   "id": "2604931b",
   "metadata": {
    "scrolled": true
   },
   "outputs": [
    {
     "data": {
      "text/plain": [
       "{'accuracy': 0.85910604061886,\n",
       " 'f1': 0.8307759584274633,\n",
       " 'precision': 0.8622706054897663,\n",
       " 'recall': 0.8235815602836879}"
      ]
     },
     "execution_count": 36,
     "metadata": {},
     "output_type": "execute_result"
    }
   ],
   "source": [
    "results(model_sigmoid, X_train, y_train)"
   ]
  },
  {
   "cell_type": "code",
   "execution_count": 37,
   "id": "8fd9acdc",
   "metadata": {},
   "outputs": [],
   "source": [
    "y_pred1 = model_sigmoid.predict(X_test)"
   ]
  },
  {
   "cell_type": "code",
   "execution_count": 38,
   "id": "2a121fdc",
   "metadata": {},
   "outputs": [
    {
     "data": {
      "image/png": "[encoded data removed]",
      "text/plain": [
       "<Figure size 432x288 with 2 Axes>"
      ]
     },
     "metadata": {
      "needs_background": "light"
     },
     "output_type": "display_data"
    }
   ],
   "source": [
    "# Confusion Matrix Best Model: Kernel Sigmoid\n",
    "\n",
    "from sklearn.metrics import ConfusionMatrixDisplay\n",
    "\n",
    "cm = confusion_matrix(y_test, y_pred1, labels = model_sigmoid.classes_)\n",
    "disp = ConfusionMatrixDisplay(confusion_matrix=cm, display_labels=model_sigmoid.classes_)\n",
    "disp.plot()\n",
    "plt.title(\"Model Kernel Sigmoid\")\n",
    "plt.show()"
   ]
  },
  {
   "cell_type": "code",
   "execution_count": 39,
   "id": "eb9bb45d",
   "metadata": {
    "scrolled": true
   },
   "outputs": [
    {
     "name": "stdout",
     "output_type": "stream",
     "text": [
      "              precision    recall  f1-score   support\n",
      "\n",
      "          -1       0.42      0.68      0.52        50\n",
      "           0       0.85      0.73      0.78       182\n",
      "           1       0.62      0.59      0.61        51\n",
      "\n",
      "    accuracy                           0.69       283\n",
      "   macro avg       0.63      0.66      0.64       283\n",
      "weighted avg       0.74      0.69      0.71       283\n",
      "\n"
     ]
    }
   ],
   "source": [
    "print(classification_report(y_test, y_pred1))"
   ]
  },
  {
   "cell_type": "code",
   "execution_count": 40,
   "id": "badbbf32",
   "metadata": {},
   "outputs": [
    {
     "data": {
      "text/plain": [
       "2647"
      ]
     },
     "execution_count": 40,
     "metadata": {},
     "output_type": "execute_result"
    }
   ],
   "source": [
    "model_sigmoid.named_steps['svc'].n_features_in_"
   ]
  },
  {
   "cell_type": "code",
   "execution_count": 41,
   "id": "8fd89047",
   "metadata": {},
   "outputs": [
    {
     "data": {
      "text/plain": [
       "Pipeline(steps=[('tfidfvectorizer',\n",
       "                 TfidfVectorizer(max_features=3000,\n",
       "                                 tokenizer=<function tokenize at 0x0000014CEAA60E50>)),\n",
       "                ('svc',\n",
       "                 SVC(C=1, class_weight='balanced',\n",
       "                     decision_function_shape='ovo', gamma='auto',\n",
       "                     kernel='linear', probability=True, random_state=42))])"
      ]
     },
     "execution_count": 41,
     "metadata": {},
     "output_type": "execute_result"
    }
   ],
   "source": [
    "# Model 3 : Kernel Linear\n",
    "\n",
    "model_linear = make_pipeline(TfidfVectorizer(analyzer = 'word',\n",
    "                                       tokenizer = tokenize,\n",
    "                                       lowercase = True,\n",
    "                                       ngram_range=(1, 1),\n",
    "                                       max_features = 3000),\n",
    "                       SVC(kernel = \"linear\",\n",
    "                           class_weight = \"balanced\",\n",
    "                           decision_function_shape = \"ovo\",\n",
    "                           probability = True,\n",
    "                           gamma = \"auto\",\n",
    "                           random_state = 42,\n",
    "                           C = 1)) \n",
    "model_linear.fit(X_train, y_train)"
   ]
  },
  {
   "cell_type": "code",
   "execution_count": 42,
   "id": "950ac870",
   "metadata": {},
   "outputs": [
    {
     "data": {
      "text/plain": [
       "{'accuracy': 0.6552467140702435,\n",
       " 'f1': 0.7306770196255686,\n",
       " 'precision': 0.730010048168827,\n",
       " 'recall': 0.7314487632508834}"
      ]
     },
     "execution_count": 42,
     "metadata": {},
     "output_type": "execute_result"
    }
   ],
   "source": [
    "results(model_linear, X_test, y_test)"
   ]
  },
  {
   "cell_type": "code",
   "execution_count": 43,
   "id": "5fa721e6",
   "metadata": {
    "scrolled": true
   },
   "outputs": [
    {
     "data": {
      "text/plain": [
       "{'accuracy': 0.950396042203192,\n",
       " 'f1': 0.9134481861647601,\n",
       " 'precision': 0.9279686918730466,\n",
       " 'recall': 0.9113475177304965}"
      ]
     },
     "execution_count": 43,
     "metadata": {},
     "output_type": "execute_result"
    }
   ],
   "source": [
    "results(model_linear, X_train, y_train)"
   ]
  },
  {
   "cell_type": "code",
   "execution_count": 44,
   "id": "17867b5d",
   "metadata": {},
   "outputs": [],
   "source": [
    "y_pred2 = model_linear.predict(X_test)"
   ]
  },
  {
   "cell_type": "code",
   "execution_count": 45,
   "id": "9c6190db",
   "metadata": {},
   "outputs": [
    {
     "data": {
      "image/png": "[encoded data removed]",
      "text/plain": [
       "<Figure size 432x288 with 2 Axes>"
      ]
     },
     "metadata": {
      "needs_background": "light"
     },
     "output_type": "display_data"
    }
   ],
   "source": [
    "# Confusion Matrix Best Model: Kernel Linear\n",
    "\n",
    "from sklearn.metrics import ConfusionMatrixDisplay\n",
    "\n",
    "cm = confusion_matrix(y_test, y_pred2, labels = model_linear.classes_)\n",
    "disp = ConfusionMatrixDisplay(confusion_matrix=cm, display_labels=model_linear.classes_)\n",
    "disp.plot()\n",
    "plt.title(\"Model Kernel Linear\")\n",
    "plt.show()"
   ]
  },
  {
   "cell_type": "code",
   "execution_count": 46,
   "id": "306cf107",
   "metadata": {
    "scrolled": true
   },
   "outputs": [
    {
     "name": "stdout",
     "output_type": "stream",
     "text": [
      "              precision    recall  f1-score   support\n",
      "\n",
      "          -1       0.52      0.50      0.51        50\n",
      "           0       0.81      0.82      0.82       182\n",
      "           1       0.63      0.65      0.64        51\n",
      "\n",
      "    accuracy                           0.73       283\n",
      "   macro avg       0.66      0.66      0.66       283\n",
      "weighted avg       0.73      0.73      0.73       283\n",
      "\n"
     ]
    }
   ],
   "source": [
    "print(classification_report(y_test, y_pred2))"
   ]
  },
  {
   "cell_type": "code",
   "execution_count": 47,
   "id": "0aadaa80",
   "metadata": {},
   "outputs": [
    {
     "data": {
      "text/plain": [
       "2647"
      ]
     },
     "execution_count": 47,
     "metadata": {},
     "output_type": "execute_result"
    }
   ],
   "source": [
    "model_linear.named_steps['svc'].n_features_in_"
   ]
  },
  {
   "cell_type": "code",
   "execution_count": 48,
   "id": "62c42de4",
   "metadata": {},
   "outputs": [
    {
     "data": {
      "text/plain": [
       "Pipeline(steps=[('tfidfvectorizer',\n",
       "                 TfidfVectorizer(max_features=1000,\n",
       "                                 tokenizer=<function tokenize at 0x0000014CEAA60E50>)),\n",
       "                ('svc',\n",
       "                 SVC(C=1, class_weight='balanced',\n",
       "                     decision_function_shape='ovo', probability=True,\n",
       "                     random_state=42))])"
      ]
     },
     "execution_count": 48,
     "metadata": {},
     "output_type": "execute_result"
    }
   ],
   "source": [
    "# Model 4 : Kernel RBF\n",
    "\n",
    "model_rbf = make_pipeline(TfidfVectorizer(analyzer = 'word',\n",
    "                                       tokenizer = tokenize,\n",
    "                                       lowercase = True,\n",
    "                                       ngram_range=(1, 1),\n",
    "                                       max_features = 1000),\n",
    "                       SVC(class_weight = \"balanced\",\n",
    "                           decision_function_shape = \"ovo\",\n",
    "                           probability = True,\n",
    "                           gamma = \"scale\",\n",
    "                           random_state = 42,\n",
    "                           C = 1)) \n",
    "model_rbf.fit(X_train, y_train)"
   ]
  },
  {
   "cell_type": "code",
   "execution_count": 49,
   "id": "ad66e69e",
   "metadata": {},
   "outputs": [
    {
     "data": {
      "text/plain": [
       "{'accuracy': 0.6070300940889176,\n",
       " 'f1': 0.7245637588227674,\n",
       " 'precision': 0.7252086609070058,\n",
       " 'recall': 0.7385159010600707}"
      ]
     },
     "execution_count": 49,
     "metadata": {},
     "output_type": "execute_result"
    }
   ],
   "source": [
    "results(model_rbf, X_test, y_test)"
   ]
  },
  {
   "cell_type": "code",
   "execution_count": 50,
   "id": "c3167417",
   "metadata": {
    "scrolled": true
   },
   "outputs": [
    {
     "data": {
      "text/plain": [
       "{'accuracy': 0.9702620485748387,\n",
       " 'f1': 0.9537483328761104,\n",
       " 'precision': 0.9576306446314744,\n",
       " 'recall': 0.9530141843971631}"
      ]
     },
     "execution_count": 50,
     "metadata": {},
     "output_type": "execute_result"
    }
   ],
   "source": [
    "results(model_rbf, X_train, y_train)"
   ]
  },
  {
   "cell_type": "code",
   "execution_count": 51,
   "id": "0694e3d4",
   "metadata": {},
   "outputs": [],
   "source": [
    "y_pred3 = model_rbf.predict(X_test)"
   ]
  },
  {
   "cell_type": "code",
   "execution_count": 52,
   "id": "fc3eb217",
   "metadata": {},
   "outputs": [
    {
     "data": {
      "image/png": "[encoded data removed]",
      "text/plain": [
       "<Figure size 432x288 with 2 Axes>"
      ]
     },
     "metadata": {
      "needs_background": "light"
     },
     "output_type": "display_data"
    }
   ],
   "source": [
    "# Confusion Matrix Best Model: Kernel RBF\n",
    "\n",
    "from sklearn.metrics import ConfusionMatrixDisplay\n",
    "\n",
    "cm = confusion_matrix(y_test, y_pred3, labels = model_rbf.classes_)\n",
    "disp = ConfusionMatrixDisplay(confusion_matrix=cm, display_labels=model_rbf.classes_)\n",
    "disp.plot()\n",
    "plt.title(\"Model Kernel RBF\")\n",
    "plt.show()"
   ]
  },
  {
   "cell_type": "code",
   "execution_count": 53,
   "id": "d45f3aa5",
   "metadata": {
    "scrolled": true
   },
   "outputs": [
    {
     "name": "stdout",
     "output_type": "stream",
     "text": [
      "              precision    recall  f1-score   support\n",
      "\n",
      "          -1       0.63      0.48      0.55        50\n",
      "           0       0.78      0.89      0.83       182\n",
      "           1       0.64      0.45      0.53        51\n",
      "\n",
      "    accuracy                           0.74       283\n",
      "   macro avg       0.68      0.61      0.63       283\n",
      "weighted avg       0.73      0.74      0.72       283\n",
      "\n"
     ]
    }
   ],
   "source": [
    "print(classification_report(y_test, y_pred3))"
   ]
  },
  {
   "cell_type": "code",
   "execution_count": 54,
   "id": "6bbfbc22",
   "metadata": {},
   "outputs": [
    {
     "data": {
      "text/plain": [
       "1000"
      ]
     },
     "execution_count": 54,
     "metadata": {},
     "output_type": "execute_result"
    }
   ],
   "source": [
    "model_rbf.named_steps['svc'].n_features_in_"
   ]
  },
  {
   "cell_type": "code",
   "execution_count": null,
   "id": "76d797c1",
   "metadata": {},
   "outputs": [],
   "source": [
    "# # Model 1\n",
    "\n",
    "# model1 = make_pipeline(TfidfVectorizer(analyzer = 'word',\n",
    "#                                        tokenizer = tokenize,\n",
    "#                                        lowercase = True,\n",
    "#                                        ngram_range=(1, 1),\n",
    "#                                        max_features = 3000),\n",
    "#                        SVC(kernel = \"poly\", \n",
    "#                            class_weight = \"balanced\",\n",
    "#                            decision_function_shape = \"ovo\",\n",
    "#                            probability = True,\n",
    "#                            coef0 = 1.7000000000000002,\n",
    "#                            gamma = \"scale\",\n",
    "#                            random_state = 42,\n",
    "#                            C = 1000)) \n",
    "# model1.fit(X_train, y_train)"
   ]
  },
  {
   "cell_type": "code",
   "execution_count": null,
   "id": "e41ceb7d",
   "metadata": {},
   "outputs": [],
   "source": [
    "# results(model1, X_test, y_test)"
   ]
  },
  {
   "cell_type": "code",
   "execution_count": null,
   "id": "64e0bf84",
   "metadata": {},
   "outputs": [],
   "source": [
    "# results(model1, X_train, y_train)"
   ]
  },
  {
   "cell_type": "code",
   "execution_count": null,
   "id": "9ad7d04d",
   "metadata": {},
   "outputs": [],
   "source": [
    "# ypred = model1.predict(X_test)"
   ]
  },
  {
   "cell_type": "code",
   "execution_count": null,
   "id": "a2b70149",
   "metadata": {},
   "outputs": [],
   "source": [
    "# # Confusion Matrix Model 1\n",
    "\n",
    "# from sklearn.metrics import ConfusionMatrixDisplay\n",
    "\n",
    "# cm = confusion_matrix(y_test, ypred, labels = model1.classes_)\n",
    "# disp = ConfusionMatrixDisplay(confusion_matrix=cm, display_labels=model1.classes_)\n",
    "# disp.plot()\n",
    "# plt.title(\"Model Kernel Polinomial\")\n",
    "# plt.show()"
   ]
  },
  {
   "cell_type": "code",
   "execution_count": null,
   "id": "474af3c4",
   "metadata": {},
   "outputs": [],
   "source": [
    "# print(classification_report(y_test, ypred))"
   ]
  },
  {
   "cell_type": "code",
   "execution_count": null,
   "id": "fd5f2f25",
   "metadata": {},
   "outputs": [],
   "source": [
    "# Model 2\n",
    "\n",
    "# model2 = make_pipeline(TfidfVectorizer(analyzer = 'word',\n",
    "#                                        tokenizer = tokenize,\n",
    "#                                        lowercase = True,\n",
    "#                                        ngram_range=(1, 1),\n",
    "#                                        max_features = 3000),\n",
    "#                        SVC(kernel = \"linear\", \n",
    "#                            class_weight = \"balanced\",\n",
    "#                            decision_function_shape = \"ovo\",\n",
    "#                            probability = True)) \n",
    "# model2.fit(X_train, y_train)"
   ]
  },
  {
   "cell_type": "code",
   "execution_count": null,
   "id": "bbd7268a",
   "metadata": {},
   "outputs": [],
   "source": [
    "# results(model2, X_test, y_test)"
   ]
  },
  {
   "cell_type": "code",
   "execution_count": null,
   "id": "c42689cd",
   "metadata": {},
   "outputs": [],
   "source": [
    "# results(model2, X_train, y_train)"
   ]
  },
  {
   "cell_type": "code",
   "execution_count": null,
   "id": "7e53f663",
   "metadata": {},
   "outputs": [],
   "source": [
    "# # Confusion Matrix Model 2\n",
    "\n",
    "# ypred2 = model2.predict(X_test)\n",
    "# cm = confusion_matrix(y_test, ypred2, labels = model2.classes_)\n",
    "# disp = ConfusionMatrixDisplay(confusion_matrix=cm, display_labels=model2.classes_)\n",
    "# disp.plot()\n",
    "# plt.title(\"Model Kernel Linear\")\n",
    "# plt.show()"
   ]
  },
  {
   "cell_type": "code",
   "execution_count": null,
   "id": "daf5a379",
   "metadata": {},
   "outputs": [],
   "source": [
    "# print(classification_report(y_test, ypred2))"
   ]
  },
  {
   "cell_type": "code",
   "execution_count": null,
   "id": "1ff2a53a",
   "metadata": {},
   "outputs": [],
   "source": [
    "aa = model2.named_steps['svc'].support_vectors_\n",
    "print(aa)"
   ]
  },
  {
   "cell_type": "markdown",
   "id": "f52da158",
   "metadata": {},
   "source": [
    "# Klasifikasi dengan Model SVM Kernel Linear"
   ]
  },
  {
   "cell_type": "code",
   "execution_count": 83,
   "id": "f27e217e",
   "metadata": {},
   "outputs": [],
   "source": [
    "dfreal = pd.read_csv(r'C:\\Users\\ASUS\\skripsi\\df_preprocessed.csv')"
   ]
  },
  {
   "cell_type": "code",
   "execution_count": 84,
   "id": "96a921e6",
   "metadata": {},
   "outputs": [
    {
     "name": "stdout",
     "output_type": "stream",
     "text": [
      "<class 'pandas.core.frame.DataFrame'>\n",
      "RangeIndex: 10569 entries, 0 to 10568\n",
      "Data columns (total 14 columns):\n",
      " #   Column         Non-Null Count  Dtype \n",
      "---  ------         --------------  ----- \n",
      " 0   date           10569 non-null  object\n",
      " 1   link           10569 non-null  object\n",
      " 2   username       10569 non-null  object\n",
      " 3   tweet          10569 non-null  object\n",
      " 4   like           10569 non-null  int64 \n",
      " 5   retweet        10569 non-null  int64 \n",
      " 6   reply          10569 non-null  int64 \n",
      " 7   qrt            10569 non-null  int64 \n",
      " 8   cleansing      10556 non-null  object\n",
      " 9   normalization  10556 non-null  object\n",
      " 10  stemmed        10556 non-null  object\n",
      " 11  tokenized      10569 non-null  object\n",
      " 12  filtered       10569 non-null  object\n",
      " 13  preprocessed   10554 non-null  object\n",
      "dtypes: int64(4), object(10)\n",
      "memory usage: 1.1+ MB\n"
     ]
    }
   ],
   "source": [
    "dfreal.info()"
   ]
  },
  {
   "cell_type": "code",
   "execution_count": 85,
   "id": "2bd89fec",
   "metadata": {},
   "outputs": [],
   "source": [
    "df = pd.read_csv(r'C:\\Users\\ASUS\\skripsi\\df_preprocessed.csv')"
   ]
  },
  {
   "cell_type": "code",
   "execution_count": 88,
   "id": "3a6717ea",
   "metadata": {},
   "outputs": [],
   "source": [
    "df = df.drop(df[df['preprocessed'].isnull()].index)"
   ]
  },
  {
   "cell_type": "code",
   "execution_count": 90,
   "id": "f363b71d",
   "metadata": {},
   "outputs": [],
   "source": [
    "X_all = df['preprocessed'].values"
   ]
  },
  {
   "cell_type": "code",
   "execution_count": 91,
   "id": "9e7e7b31",
   "metadata": {},
   "outputs": [],
   "source": [
    "y_all = best_model.predict(X_all)"
   ]
  },
  {
   "cell_type": "code",
   "execution_count": null,
   "id": "2745ef2d",
   "metadata": {},
   "outputs": [],
   "source": [
    "df['label'] = y_all.tolist()"
   ]
  },
  {
   "cell_type": "code",
   "execution_count": null,
   "id": "47b98341",
   "metadata": {},
   "outputs": [],
   "source": [
    "df"
   ]
  },
  {
   "cell_type": "code",
   "execution_count": null,
   "id": "51aa0ad3",
   "metadata": {},
   "outputs": [],
   "source": [
    "def sentiment(label):\n",
    "  if label == 1:\n",
    "    return \"Positif\"\n",
    "  elif label == 0:\n",
    "    return \"Netral\"\n",
    "  else:\n",
    "    return \"Negatif\"\n",
    "\n",
    "df[\"sentimen\"] = df[\"label\"].apply(lambda label: sentiment(label))\n",
    "df"
   ]
  },
  {
   "cell_type": "code",
   "execution_count": null,
   "id": "a52af462",
   "metadata": {},
   "outputs": [],
   "source": [
    "# df.to_csv(r'C:\\Users\\ASUS\\skripsi\\df_classified_updated.csv')"
   ]
  },
  {
   "cell_type": "code",
   "execution_count": 92,
   "id": "48c8880a",
   "metadata": {},
   "outputs": [],
   "source": [
    "# sign_function_all = best_model.decision_function(X_all)\n",
    "# sign_function_all = pd.DataFrame(sign_function_all)\n",
    "# sign_function_all.to_excel(excel_writer = r\"C:\\Users\\ASUS\\skripsi\\sign_function_all.xlsx\", index = False)\n",
    "\n",
    "# y_all_sign = pd.DataFrame(y_all)\n",
    "# y_all_sign.to_excel(excel_writer = r\"C:\\Users\\ASUS\\skripsi\\y_all_sign.xlsx\", index = False)"
   ]
  }
 ],
 "metadata": {
  "kernelspec": {
   "display_name": "Python 3 (ipykernel)",
   "language": "python",
   "name": "python3"
  },
  "language_info": {
   "codemirror_mode": {
    "name": "ipython",
    "version": 3
   },
   "file_extension": ".py",
   "mimetype": "text/x-python",
   "name": "python",
   "nbconvert_exporter": "python",
   "pygments_lexer": "ipython3",
   "version": "3.9.12"
  }
 },
 "nbformat": 4,
 "nbformat_minor": 5
}
